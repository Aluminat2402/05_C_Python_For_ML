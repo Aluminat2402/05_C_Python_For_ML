{
 "cells": [
  {
   "cell_type": "code",
   "execution_count": 1,
   "id": "dc71baa2",
   "metadata": {},
   "outputs": [
    {
     "name": "stdout",
     "output_type": "stream",
     "text": [
      "Requirement already satisfied: polars in c:\\users\\t14\\appdata\\local\\programs\\python\\python311\\lib\\site-packages (1.34.0)\n",
      "Requirement already satisfied: polars-runtime-32==1.34.0 in c:\\users\\t14\\appdata\\local\\programs\\python\\python311\\lib\\site-packages (from polars) (1.34.0)\n"
     ]
    },
    {
     "name": "stderr",
     "output_type": "stream",
     "text": [
      "WARNING: Ignoring invalid distribution ~oogle-ai-generativelanguage (C:\\Users\\T14\\AppData\\Local\\Programs\\Python\\Python311\\Lib\\site-packages)\n",
      "WARNING: Ignoring invalid distribution ~oogle-ai-generativelanguage (C:\\Users\\T14\\AppData\\Local\\Programs\\Python\\Python311\\Lib\\site-packages)\n",
      "WARNING: Ignoring invalid distribution ~oogle-ai-generativelanguage (C:\\Users\\T14\\AppData\\Local\\Programs\\Python\\Python311\\Lib\\site-packages)\n",
      "\n",
      "[notice] A new release of pip is available: 25.0.1 -> 25.2\n",
      "[notice] To update, run: python.exe -m pip install --upgrade pip\n"
     ]
    },
    {
     "name": "stdout",
     "output_type": "stream",
     "text": [
      "Requirement already satisfied: seaborn in c:\\users\\t14\\appdata\\local\\programs\\python\\python311\\lib\\site-packages (0.13.2)\n",
      "Requirement already satisfied: numpy!=1.24.0,>=1.20 in c:\\users\\t14\\appdata\\local\\programs\\python\\python311\\lib\\site-packages (from seaborn) (1.26.4)\n",
      "Requirement already satisfied: pandas>=1.2 in c:\\users\\t14\\appdata\\local\\programs\\python\\python311\\lib\\site-packages (from seaborn) (2.2.2)\n",
      "Requirement already satisfied: matplotlib!=3.6.1,>=3.4 in c:\\users\\t14\\appdata\\local\\programs\\python\\python311\\lib\\site-packages (from seaborn) (3.9.0)\n",
      "Requirement already satisfied: contourpy>=1.0.1 in c:\\users\\t14\\appdata\\local\\programs\\python\\python311\\lib\\site-packages (from matplotlib!=3.6.1,>=3.4->seaborn) (1.2.1)\n",
      "Requirement already satisfied: cycler>=0.10 in c:\\users\\t14\\appdata\\local\\programs\\python\\python311\\lib\\site-packages (from matplotlib!=3.6.1,>=3.4->seaborn) (0.12.1)\n",
      "Requirement already satisfied: fonttools>=4.22.0 in c:\\users\\t14\\appdata\\local\\programs\\python\\python311\\lib\\site-packages (from matplotlib!=3.6.1,>=3.4->seaborn) (4.53.0)\n",
      "Requirement already satisfied: kiwisolver>=1.3.1 in c:\\users\\t14\\appdata\\local\\programs\\python\\python311\\lib\\site-packages (from matplotlib!=3.6.1,>=3.4->seaborn) (1.4.5)\n",
      "Requirement already satisfied: packaging>=20.0 in c:\\users\\t14\\appdata\\local\\programs\\python\\python311\\lib\\site-packages (from matplotlib!=3.6.1,>=3.4->seaborn) (24.0)\n",
      "Requirement already satisfied: pillow>=8 in c:\\users\\t14\\appdata\\local\\programs\\python\\python311\\lib\\site-packages (from matplotlib!=3.6.1,>=3.4->seaborn) (10.3.0)\n",
      "Requirement already satisfied: pyparsing>=2.3.1 in c:\\users\\t14\\appdata\\local\\programs\\python\\python311\\lib\\site-packages (from matplotlib!=3.6.1,>=3.4->seaborn) (3.1.2)\n",
      "Requirement already satisfied: python-dateutil>=2.7 in c:\\users\\t14\\appdata\\local\\programs\\python\\python311\\lib\\site-packages (from matplotlib!=3.6.1,>=3.4->seaborn) (2.9.0.post0)\n",
      "Requirement already satisfied: pytz>=2020.1 in c:\\users\\t14\\appdata\\local\\programs\\python\\python311\\lib\\site-packages (from pandas>=1.2->seaborn) (2024.1)\n",
      "Requirement already satisfied: tzdata>=2022.7 in c:\\users\\t14\\appdata\\local\\programs\\python\\python311\\lib\\site-packages (from pandas>=1.2->seaborn) (2024.1)\n",
      "Requirement already satisfied: six>=1.5 in c:\\users\\t14\\appdata\\local\\programs\\python\\python311\\lib\\site-packages (from python-dateutil>=2.7->matplotlib!=3.6.1,>=3.4->seaborn) (1.16.0)\n"
     ]
    },
    {
     "name": "stderr",
     "output_type": "stream",
     "text": [
      "WARNING: Ignoring invalid distribution ~oogle-ai-generativelanguage (C:\\Users\\T14\\AppData\\Local\\Programs\\Python\\Python311\\Lib\\site-packages)\n",
      "WARNING: Ignoring invalid distribution ~oogle-ai-generativelanguage (C:\\Users\\T14\\AppData\\Local\\Programs\\Python\\Python311\\Lib\\site-packages)\n",
      "WARNING: Ignoring invalid distribution ~oogle-ai-generativelanguage (C:\\Users\\T14\\AppData\\Local\\Programs\\Python\\Python311\\Lib\\site-packages)\n",
      "\n",
      "[notice] A new release of pip is available: 25.0.1 -> 25.2\n",
      "[notice] To update, run: python.exe -m pip install --upgrade pip\n"
     ]
    },
    {
     "name": "stdout",
     "output_type": "stream",
     "text": [
      "Requirement already satisfied: pyarrow in c:\\users\\t14\\appdata\\local\\programs\\python\\python311\\lib\\site-packages (21.0.0)\n"
     ]
    },
    {
     "name": "stderr",
     "output_type": "stream",
     "text": [
      "WARNING: Ignoring invalid distribution ~oogle-ai-generativelanguage (C:\\Users\\T14\\AppData\\Local\\Programs\\Python\\Python311\\Lib\\site-packages)\n",
      "WARNING: Ignoring invalid distribution ~oogle-ai-generativelanguage (C:\\Users\\T14\\AppData\\Local\\Programs\\Python\\Python311\\Lib\\site-packages)\n",
      "WARNING: Ignoring invalid distribution ~oogle-ai-generativelanguage (C:\\Users\\T14\\AppData\\Local\\Programs\\Python\\Python311\\Lib\\site-packages)\n",
      "\n",
      "[notice] A new release of pip is available: 25.0.1 -> 25.2\n",
      "[notice] To update, run: python.exe -m pip install --upgrade pip\n"
     ]
    }
   ],
   "source": [
    "!pip install polars\n",
    "!pip install seaborn\n",
    "!pip install pyarrow"
   ]
  },
  {
   "cell_type": "code",
   "execution_count": 2,
   "id": "21ad9166",
   "metadata": {},
   "outputs": [],
   "source": [
    "import os\n",
    "import polars as pl\n",
    "import matplotlib.pyplot as plt\n",
    "import seaborn as sns\n",
    "import numpy as np"
   ]
  },
  {
   "cell_type": "code",
   "execution_count": 3,
   "id": "8f86e8fa",
   "metadata": {},
   "outputs": [],
   "source": [
    "def read_parquet_by_type(train_path: str):\n",
    "    # Lấy tất cả các file parquet trong thư mục\n",
    "    files = [os.path.join(train_path, f) for f in os.listdir(train_path) if f.endswith('.parquet')]\n",
    "    \n",
    "    # Phân loại các file theo loại tên\n",
    "    user_chunk_files = [file for file in files if 'user_chunk' in file]\n",
    "    purchase_history_chunk_files = [file for file in files if 'purchase_history_daily_chunk' in file]\n",
    "    item_chunk_files = [file for file in files if 'item_chunk' in file]\n",
    "    \n",
    "    # Đọc các file riêng biệt thành DataFrame\n",
    "    user_chunk_df = pl.concat([pl.read_parquet(file) for file in user_chunk_files]) if user_chunk_files else None\n",
    "    purchase_history_chunk_df = pl.concat([pl.read_parquet(file) for file in purchase_history_chunk_files]) if purchase_history_chunk_files else None\n",
    "    item_chunk_df = pl.concat([pl.read_parquet(file) for file in item_chunk_files]) if item_chunk_files else None\n",
    "    \n",
    "    # Trả về một dictionary chứa các DataFrame\n",
    "    return {\n",
    "        \"user_chunk\": user_chunk_df,\n",
    "        \"purchase_history_chunk\": purchase_history_chunk_df,\n",
    "        \"item_chunk\": item_chunk_df\n",
    "    }"
   ]
  },
  {
   "cell_type": "code",
   "execution_count": 4,
   "id": "a5266a47",
   "metadata": {},
   "outputs": [],
   "source": [
    "train_path = 'D:/01_UIT_study/HKVI/CS116/02_Final-Project/Item-Recommendation-Dataset'\n",
    "dataframes = read_parquet_by_type(train_path)\n",
    "\n",
    "df_user = dataframes[\"user_chunk\"]\n",
    "df_purchase = dataframes[\"purchase_history_chunk\"]\n",
    "df_item = dataframes[\"item_chunk\"]"
   ]
  },
  {
   "cell_type": "markdown",
   "id": "d8396aa6",
   "metadata": {},
   "source": [
    "# Head information of each Chunk"
   ]
  },
  {
   "cell_type": "code",
   "execution_count": 5,
   "id": "aaee2bda",
   "metadata": {},
   "outputs": [
    {
     "name": "stdout",
     "output_type": "stream",
     "text": [
      "User Chunk DataFrame:\n"
     ]
    },
    {
     "data": {
      "text/html": [
       "<div><style>\n",
       ".dataframe > thead > tr,\n",
       ".dataframe > tbody > tr {\n",
       "  text-align: right;\n",
       "  white-space: pre-wrap;\n",
       "}\n",
       "</style>\n",
       "<small>shape: (5, 18)</small><table border=\"1\" class=\"dataframe\"><thead><tr><th>customer_id</th><th>gender</th><th>location</th><th>province</th><th>membership</th><th>timestamp</th><th>created_date</th><th>updated_date</th><th>sync_status_id</th><th>last_sync_date</th><th>sync_error_message</th><th>region</th><th>location_name</th><th>install_app</th><th>install_date</th><th>district</th><th>user_id</th><th>is_deleted</th></tr><tr><td>i32</td><td>str</td><td>i32</td><td>str</td><td>str</td><td>i64</td><td>datetime[μs]</td><td>datetime[μs]</td><td>i32</td><td>datetime[μs]</td><td>str</td><td>str</td><td>str</td><td>str</td><td>i64</td><td>str</td><td>str</td><td>bool</td></tr></thead><tbody><tr><td>14732</td><td>&quot;Nam&quot;</td><td>155</td><td>&quot;Hồ Chí Minh&quot;</td><td>&quot;Standard&quot;</td><td>1306357911</td><td>2011-05-25 21:11:51.677</td><td>2025-07-07 15:33:10.201316</td><td>2</td><td>2025-07-16 11:54:29.816986</td><td>null</td><td>&quot;Đông Nam Bộ&quot;</td><td>&quot;HCM - Grand View Phú Mỹ Hưng&quot;</td><td>&quot;In-Store&quot;</td><td>1306281600</td><td>&quot;7&quot;</td><td>&quot;e1e48206652bf8c279ff0206c69a80…</td><td>false</td></tr><tr><td>15126</td><td>&quot;Nữ&quot;</td><td>300</td><td>&quot;Hồ Chí Minh&quot;</td><td>&quot;Standard&quot;</td><td>1306357911</td><td>2011-05-25 21:11:51.677</td><td>2025-07-07 15:33:10.201316</td><td>2</td><td>2025-07-16 11:54:29.816986</td><td>null</td><td>&quot;Đông Nam Bộ&quot;</td><td>&quot;HCM - 121A Nguyễn Duy Trinh&quot;</td><td>&quot;In-Store&quot;</td><td>1306281600</td><td>&quot;Thủ Đức&quot;</td><td>&quot;77891759204bd27e69fb11a7b92889…</td><td>false</td></tr><tr><td>29718</td><td>&quot;Nữ&quot;</td><td>157</td><td>&quot;Bến Tre&quot;</td><td>&quot;Standard&quot;</td><td>1312126692</td><td>2011-07-31 15:38:12.750</td><td>2025-07-07 15:33:10.201316</td><td>2</td><td>2025-07-16 11:54:29.816986</td><td>null</td><td>&quot;Đồng bằng sông Cửu Long&quot;</td><td>&quot;BTR - 179 Nguyễn Đình Chiểu&quot;</td><td>&quot;In-Store&quot;</td><td>1582070400</td><td>&quot;Bến Tre&quot;</td><td>&quot;b8041b584a0bb6655361727a0a6108…</td><td>false</td></tr><tr><td>30077</td><td>&quot;Nữ&quot;</td><td>53</td><td>&quot;Hồ Chí Minh&quot;</td><td>&quot;Standard&quot;</td><td>1314302782</td><td>2011-08-25 20:06:22.797</td><td>2025-07-07 15:33:10.201316</td><td>2</td><td>2025-07-16 11:54:29.816986</td><td>null</td><td>&quot;Đông Nam Bộ&quot;</td><td>&quot;HCM - 101 Trần Quang Khải&quot;</td><td>&quot;In-Store&quot;</td><td>1314230400</td><td>&quot;1&quot;</td><td>&quot;c52ceaca44a83ec41a219cfaff0e05…</td><td>false</td></tr><tr><td>30085</td><td>&quot;Nữ&quot;</td><td>660</td><td>&quot;Hồ Chí Minh&quot;</td><td>&quot;Standard&quot;</td><td>1314310024</td><td>2011-08-25 22:07:04.267</td><td>2025-07-07 15:33:10.201316</td><td>2</td><td>2025-07-16 11:54:29.816986</td><td>null</td><td>&quot;Đông Nam Bộ&quot;</td><td>&quot;HCM - 85-87 Tây Thạnh&quot;</td><td>&quot;In-Store&quot;</td><td>1314230400</td><td>&quot;Tân Phú&quot;</td><td>&quot;74ac5764f5d67d341aacf238d7762f…</td><td>false</td></tr></tbody></table></div>"
      ],
      "text/plain": [
       "shape: (5, 18)\n",
       "┌────────────┬────────┬──────────┬────────────┬───┬────────────┬──────────┬────────────┬───────────┐\n",
       "│ customer_i ┆ gender ┆ location ┆ province   ┆ … ┆ install_da ┆ district ┆ user_id    ┆ is_delete │\n",
       "│ d          ┆ ---    ┆ ---      ┆ ---        ┆   ┆ te         ┆ ---      ┆ ---        ┆ d         │\n",
       "│ ---        ┆ str    ┆ i32      ┆ str        ┆   ┆ ---        ┆ str      ┆ str        ┆ ---       │\n",
       "│ i32        ┆        ┆          ┆            ┆   ┆ i64        ┆          ┆            ┆ bool      │\n",
       "╞════════════╪════════╪══════════╪════════════╪═══╪════════════╪══════════╪════════════╪═══════════╡\n",
       "│ 14732      ┆ Nam    ┆ 155      ┆ Hồ Chí     ┆ … ┆ 1306281600 ┆ 7        ┆ e1e4820665 ┆ false     │\n",
       "│            ┆        ┆          ┆ Minh       ┆   ┆            ┆          ┆ 2bf8c279ff ┆           │\n",
       "│            ┆        ┆          ┆            ┆   ┆            ┆          ┆ 0206c69a80 ┆           │\n",
       "│            ┆        ┆          ┆            ┆   ┆            ┆          ┆ …          ┆           │\n",
       "│ 15126      ┆ Nữ     ┆ 300      ┆ Hồ Chí     ┆ … ┆ 1306281600 ┆ Thủ Đức  ┆ 7789175920 ┆ false     │\n",
       "│            ┆        ┆          ┆ Minh       ┆   ┆            ┆          ┆ 4bd27e69fb ┆           │\n",
       "│            ┆        ┆          ┆            ┆   ┆            ┆          ┆ 11a7b92889 ┆           │\n",
       "│            ┆        ┆          ┆            ┆   ┆            ┆          ┆ …          ┆           │\n",
       "│ 29718      ┆ Nữ     ┆ 157      ┆ Bến Tre    ┆ … ┆ 1582070400 ┆ Bến Tre  ┆ b8041b584a ┆ false     │\n",
       "│            ┆        ┆          ┆            ┆   ┆            ┆          ┆ 0bb6655361 ┆           │\n",
       "│            ┆        ┆          ┆            ┆   ┆            ┆          ┆ 727a0a6108 ┆           │\n",
       "│            ┆        ┆          ┆            ┆   ┆            ┆          ┆ …          ┆           │\n",
       "│ 30077      ┆ Nữ     ┆ 53       ┆ Hồ Chí     ┆ … ┆ 1314230400 ┆ 1        ┆ c52ceaca44 ┆ false     │\n",
       "│            ┆        ┆          ┆ Minh       ┆   ┆            ┆          ┆ a83ec41a21 ┆           │\n",
       "│            ┆        ┆          ┆            ┆   ┆            ┆          ┆ 9cfaff0e05 ┆           │\n",
       "│            ┆        ┆          ┆            ┆   ┆            ┆          ┆ …          ┆           │\n",
       "│ 30085      ┆ Nữ     ┆ 660      ┆ Hồ Chí     ┆ … ┆ 1314230400 ┆ Tân Phú  ┆ 74ac5764f5 ┆ false     │\n",
       "│            ┆        ┆          ┆ Minh       ┆   ┆            ┆          ┆ d67d341aac ┆           │\n",
       "│            ┆        ┆          ┆            ┆   ┆            ┆          ┆ f238d7762f ┆           │\n",
       "│            ┆        ┆          ┆            ┆   ┆            ┆          ┆ …          ┆           │\n",
       "└────────────┴────────┴──────────┴────────────┴───┴────────────┴──────────┴────────────┴───────────┘"
      ]
     },
     "execution_count": 5,
     "metadata": {},
     "output_type": "execute_result"
    }
   ],
   "source": [
    "print(\"User Chunk DataFrame:\")\n",
    "df_user.head()"
   ]
  },
  {
   "cell_type": "code",
   "execution_count": 6,
   "id": "3e64e6c2",
   "metadata": {},
   "outputs": [
    {
     "name": "stdout",
     "output_type": "stream",
     "text": [
      "Purchase Chunk DataFrame:\n"
     ]
    },
    {
     "data": {
      "text/html": [
       "<div><style>\n",
       ".dataframe > thead > tr,\n",
       ".dataframe > tbody > tr {\n",
       "  text-align: right;\n",
       "  white-space: pre-wrap;\n",
       "}\n",
       "</style>\n",
       "<small>shape: (5, 16)</small><table border=\"1\" class=\"dataframe\"><thead><tr><th>timestamp</th><th>user_id</th><th>item_id</th><th>event_type</th><th>event_value</th><th>price</th><th>date_key</th><th>quantity</th><th>customer_id</th><th>created_date</th><th>updated_date</th><th>channel</th><th>payment</th><th>location</th><th>discount</th><th>is_deleted</th></tr><tr><td>i64</td><td>str</td><td>str</td><td>str</td><td>decimal[38,4]</td><td>decimal[38,4]</td><td>i32</td><td>i32</td><td>i32</td><td>datetime[μs]</td><td>datetime[μs]</td><td>str</td><td>str</td><td>i32</td><td>decimal[38,4]</td><td>bool</td></tr></thead><tbody><tr><td>1735064221</td><td>&quot;ca12702ddf55acaa9fb767e10faaa6…</td><td>&quot;7115000000004&quot;</td><td>&quot;Purchase&quot;</td><td>1.0000</td><td>49000.0000</td><td>20241224</td><td>1</td><td>5254214</td><td>2024-12-24 18:17:01.027</td><td>2024-12-24 18:20:09.453</td><td>&quot;In-Store&quot;</td><td>&quot;VietQR&quot;</td><td>656</td><td>0.0000</td><td>false</td></tr><tr><td>1735068481</td><td>&quot;54314ce86269f4849f9a4c3fc85d94…</td><td>&quot;0029130000030&quot;</td><td>&quot;Purchase&quot;</td><td>1.0000</td><td>69000.0000</td><td>20241224</td><td>1</td><td>7573232</td><td>2024-12-24 19:28:01.870</td><td>2024-12-24 19:28:01.870</td><td>&quot;In-Store&quot;</td><td>&quot;Tiền mặt&quot;</td><td>143</td><td>0.0000</td><td>false</td></tr><tr><td>1735069843</td><td>&quot;4799de4022b58689b2b9fb37122479…</td><td>&quot;3496000000053&quot;</td><td>&quot;Purchase&quot;</td><td>2.0000</td><td>75000.0000</td><td>20241224</td><td>2</td><td>8187418</td><td>2024-12-24 19:50:43.760</td><td>2024-12-24 19:50:43.760</td><td>&quot;In-Store&quot;</td><td>&quot;MoMo&quot;</td><td>213</td><td>0.0000</td><td>false</td></tr><tr><td>1735069779</td><td>&quot;4799de4022b58689b2b9fb37122479…</td><td>&quot;2700000000002&quot;</td><td>&quot;Purchase&quot;</td><td>2.0000</td><td>58500.0000</td><td>20241224</td><td>2</td><td>8187418</td><td>2024-12-24 19:49:39.223</td><td>2024-12-24 19:49:39.223</td><td>&quot;In-Store&quot;</td><td>&quot;MoMo&quot;</td><td>213</td><td>13000.0000</td><td>false</td></tr><tr><td>1735379373</td><td>&quot;3b2423f730815273dfd6f6220b0c5c…</td><td>&quot;0029110000036&quot;</td><td>&quot;Purchase&quot;</td><td>1.0000</td><td>89000.0000</td><td>20241228</td><td>1</td><td>6931560</td><td>2024-12-28 09:49:33.780</td><td>2024-12-28 10:28:49.413</td><td>&quot;Android&quot;</td><td>&quot;MoMo&quot;</td><td>590</td><td>10000.0000</td><td>false</td></tr></tbody></table></div>"
      ],
      "text/plain": [
       "shape: (5, 16)\n",
       "┌────────────┬───────────┬───────────┬───────────┬───┬──────────┬──────────┬───────────┬───────────┐\n",
       "│ timestamp  ┆ user_id   ┆ item_id   ┆ event_typ ┆ … ┆ payment  ┆ location ┆ discount  ┆ is_delete │\n",
       "│ ---        ┆ ---       ┆ ---       ┆ e         ┆   ┆ ---      ┆ ---      ┆ ---       ┆ d         │\n",
       "│ i64        ┆ str       ┆ str       ┆ ---       ┆   ┆ str      ┆ i32      ┆ decimal[3 ┆ ---       │\n",
       "│            ┆           ┆           ┆ str       ┆   ┆          ┆          ┆ 8,4]      ┆ bool      │\n",
       "╞════════════╪═══════════╪═══════════╪═══════════╪═══╪══════════╪══════════╪═══════════╪═══════════╡\n",
       "│ 1735064221 ┆ ca12702dd ┆ 711500000 ┆ Purchase  ┆ … ┆ VietQR   ┆ 656      ┆ 0.0000    ┆ false     │\n",
       "│            ┆ f55acaa9f ┆ 0004      ┆           ┆   ┆          ┆          ┆           ┆           │\n",
       "│            ┆ b767e10fa ┆           ┆           ┆   ┆          ┆          ┆           ┆           │\n",
       "│            ┆ aa6…      ┆           ┆           ┆   ┆          ┆          ┆           ┆           │\n",
       "│ 1735068481 ┆ 54314ce86 ┆ 002913000 ┆ Purchase  ┆ … ┆ Tiền mặt ┆ 143      ┆ 0.0000    ┆ false     │\n",
       "│            ┆ 269f4849f ┆ 0030      ┆           ┆   ┆          ┆          ┆           ┆           │\n",
       "│            ┆ 9a4c3fc85 ┆           ┆           ┆   ┆          ┆          ┆           ┆           │\n",
       "│            ┆ d94…      ┆           ┆           ┆   ┆          ┆          ┆           ┆           │\n",
       "│ 1735069843 ┆ 4799de402 ┆ 349600000 ┆ Purchase  ┆ … ┆ MoMo     ┆ 213      ┆ 0.0000    ┆ false     │\n",
       "│            ┆ 2b58689b2 ┆ 0053      ┆           ┆   ┆          ┆          ┆           ┆           │\n",
       "│            ┆ b9fb37122 ┆           ┆           ┆   ┆          ┆          ┆           ┆           │\n",
       "│            ┆ 479…      ┆           ┆           ┆   ┆          ┆          ┆           ┆           │\n",
       "│ 1735069779 ┆ 4799de402 ┆ 270000000 ┆ Purchase  ┆ … ┆ MoMo     ┆ 213      ┆ 13000.000 ┆ false     │\n",
       "│            ┆ 2b58689b2 ┆ 0002      ┆           ┆   ┆          ┆          ┆ 0         ┆           │\n",
       "│            ┆ b9fb37122 ┆           ┆           ┆   ┆          ┆          ┆           ┆           │\n",
       "│            ┆ 479…      ┆           ┆           ┆   ┆          ┆          ┆           ┆           │\n",
       "│ 1735379373 ┆ 3b2423f73 ┆ 002911000 ┆ Purchase  ┆ … ┆ MoMo     ┆ 590      ┆ 10000.000 ┆ false     │\n",
       "│            ┆ 0815273df ┆ 0036      ┆           ┆   ┆          ┆          ┆ 0         ┆           │\n",
       "│            ┆ d6f6220b0 ┆           ┆           ┆   ┆          ┆          ┆           ┆           │\n",
       "│            ┆ c5c…      ┆           ┆           ┆   ┆          ┆          ┆           ┆           │\n",
       "└────────────┴───────────┴───────────┴───────────┴───┴──────────┴──────────┴───────────┴───────────┘"
      ]
     },
     "execution_count": 6,
     "metadata": {},
     "output_type": "execute_result"
    }
   ],
   "source": [
    "print(\"Purchase Chunk DataFrame:\")\n",
    "df_purchase.head()"
   ]
  },
  {
   "cell_type": "code",
   "execution_count": 7,
   "id": "68fe8256",
   "metadata": {},
   "outputs": [
    {
     "name": "stdout",
     "output_type": "stream",
     "text": [
      "User Item DataFrame:\n"
     ]
    },
    {
     "data": {
      "text/html": [
       "<div><style>\n",
       ".dataframe > thead > tr,\n",
       ".dataframe > tbody > tr {\n",
       "  text-align: right;\n",
       "  white-space: pre-wrap;\n",
       "}\n",
       "</style>\n",
       "<small>shape: (5, 34)</small><table border=\"1\" class=\"dataframe\"><thead><tr><th>p_id</th><th>item_id</th><th>price</th><th>category_l1_id</th><th>category_l1</th><th>category_l2_id</th><th>category_l2</th><th>category_l3_id</th><th>category_l3</th><th>category_id</th><th>category</th><th>description</th><th>brand</th><th>manufacturer</th><th>creation_timestamp</th><th>is_deleted</th><th>created_date</th><th>updated_date</th><th>sync_status_id</th><th>last_sync_date</th><th>sync_error_message</th><th>image_url</th><th>gender_target</th><th>age_group</th><th>item_type</th><th>gp</th><th>weight</th><th>color</th><th>size</th><th>origin</th><th>volume</th><th>material</th><th>sale_status</th><th>description_new</th></tr><tr><td>i32</td><td>str</td><td>decimal[38,4]</td><td>i32</td><td>str</td><td>i32</td><td>str</td><td>i32</td><td>str</td><td>i32</td><td>str</td><td>str</td><td>str</td><td>str</td><td>i64</td><td>bool</td><td>datetime[μs]</td><td>datetime[μs]</td><td>i32</td><td>datetime[μs]</td><td>str</td><td>str</td><td>str</td><td>str</td><td>str</td><td>decimal[38,4]</td><td>f32</td><td>str</td><td>str</td><td>str</td><td>str</td><td>str</td><td>i32</td><td>str</td></tr></thead><tbody><tr><td>17065</td><td>&quot;0502020000004&quot;</td><td>99000.0000</td><td>1</td><td>&quot;Babycare&quot;</td><td>35</td><td>&quot;Bình sữa, phụ kiện&quot;</td><td>7050</td><td>&quot;Núm ty&quot;</td><td>7058</td><td>&quot;Núm ty Dr Brown&quot;</td><td>&quot;Không xác định&quot;</td><td>&quot;Dr.Brown&#x27;s&quot;</td><td>&quot;Không xác định&quot;</td><td>1333531544</td><td>false</td><td>2012-04-04 09:25:44.240</td><td>2025-08-18 09:59:19.847</td><td>2</td><td>2025-07-18 17:59:29.898256</td><td>null</td><td>&quot;Không xác định&quot;</td><td>&quot;Không xác định&quot;</td><td>&quot;Không xác định&quot;</td><td>&quot;Không xác định&quot;</td><td>36828.0000</td><td>null</td><td>&quot;Không xác định&quot;</td><td>&quot;Không xác định&quot;</td><td>&quot;Không xác định&quot;</td><td>&quot;Không xác định&quot;</td><td>&quot;Không xác định&quot;</td><td>0</td><td>&quot;Chi tiết sản phẩm&nbsp;&nbsp;&nbsp;&nbsp;&nbsp;&nbsp;&nbsp;&nbsp;&nbsp;&nbsp;&nbsp;&nbsp;&nbsp;…</td></tr><tr><td>72370</td><td>&quot;0010290040150&quot;</td><td>69000.0000</td><td>3292</td><td>&quot;Thời trang&quot;</td><td>3958</td><td>&quot;Cơ cấu hàng cũ&quot;</td><td>7007</td><td>&quot;Thời trang bé trai, bé gái cũ&quot;</td><td>6987</td><td>&quot;Bộ quần áo bé gái&quot;</td><td>&quot;Không xác định&quot;</td><td>&quot;Con Cưng&quot;</td><td>&quot;Không xác định&quot;</td><td>1503046250</td><td>false</td><td>2017-08-18 08:50:50.713</td><td>2025-09-18 16:05:42.360</td><td>null</td><td>null</td><td>null</td><td>&quot;Không xác định&quot;</td><td>&quot;Bé Gái&quot;</td><td>&quot;Từ 3Y&quot;</td><td>&quot;Bộ quần áo&quot;</td><td>0.0000</td><td>null</td><td>&quot;Không xác định&quot;</td><td>&quot;Không xác định&quot;</td><td>&quot;Không xác định&quot;</td><td>&quot;Không xác định&quot;</td><td>&quot;Không xác định&quot;</td><td>0</td><td>&quot;Không xác định&quot;</td></tr><tr><td>31154</td><td>&quot;0008010000015&quot;</td><td>45000.0000</td><td>351</td><td>&quot;Đồ chơi &amp; Sách&quot;</td><td>2033</td><td>&quot;0-1Y&quot;</td><td>2118</td><td>&quot;Gặm nướu&quot;</td><td>2121</td><td>&quot;Gặm nướu khác&quot;</td><td>&quot;- Chất liệu: Sản phẩm được làm…</td><td>&quot;Thương hiệu khác&quot;</td><td>&quot;Không xác định&quot;</td><td>1358501584</td><td>false</td><td>2013-01-18 09:33:04.260</td><td>2025-09-27 00:05:36.233</td><td>2</td><td>2025-07-18 17:59:29.898256</td><td>null</td><td>&quot;Không xác định&quot;</td><td>&quot;Không xác định&quot;</td><td>&quot;Không xác định&quot;</td><td>&quot;Không xác định&quot;</td><td>14490.0000</td><td>null</td><td>&quot;Không xác định&quot;</td><td>&quot;Không xác định&quot;</td><td>&quot;Không xác định&quot;</td><td>&quot;Không xác định&quot;</td><td>&quot;Không xác định&quot;</td><td>0</td><td>&quot;Chi tiết sản phẩm&nbsp;&nbsp;&nbsp;&nbsp;&nbsp;&nbsp;&nbsp;&nbsp;&nbsp;&nbsp;&nbsp;&nbsp;&nbsp;…</td></tr><tr><td>46123</td><td>&quot;0020010000094&quot;</td><td>401000.0000</td><td>2222</td><td>&quot;Tã&quot;</td><td>2272</td><td>&quot;Merries&quot;</td><td>2275</td><td>&quot;Merries&quot;</td><td>2276</td><td>&quot;Merries_Sơ Sinh&quot;</td><td>&quot;﻿﻿Tã dán Merries size S 82 miế…</td><td>&quot;Merries Nhật&quot;</td><td>&quot;Không xác định&quot;</td><td>1400062039</td><td>false</td><td>2014-05-14 10:07:19.603</td><td>2025-09-27 00:05:36.233</td><td>2</td><td>2025-07-18 17:59:29.898256</td><td>null</td><td>&quot;Không xác định&quot;</td><td>&quot;Không xác định&quot;</td><td>&quot;Không xác định&quot;</td><td>&quot;Không xác định&quot;</td><td>59749.0000</td><td>null</td><td>&quot;Không xác định&quot;</td><td>&quot;Không xác định&quot;</td><td>&quot;Nhật Bản, Nhật Bản&quot;</td><td>&quot;Không xác định&quot;</td><td>&quot;Giấy, bột giấy, vải không dệt,…</td><td>0</td><td>&quot;Không xác định&quot;</td></tr><tr><td>46127</td><td>&quot;0020010000098&quot;</td><td>401000.0000</td><td>2222</td><td>&quot;Tã&quot;</td><td>2272</td><td>&quot;Merries&quot;</td><td>2275</td><td>&quot;Merries&quot;</td><td>2278</td><td>&quot;Merries_Tã Quần&quot;</td><td>&quot;﻿﻿﻿Bỉm tã quần Merries size M …</td><td>&quot;Merries Nhật&quot;</td><td>&quot;Không xác định&quot;</td><td>1400062040</td><td>false</td><td>2014-05-14 10:07:20.370</td><td>2025-09-27 00:05:36.233</td><td>2</td><td>2025-07-18 17:59:29.898256</td><td>null</td><td>&quot;Không xác định&quot;</td><td>&quot;Không xác định&quot;</td><td>&quot;Không xác định&quot;</td><td>&quot;Không xác định&quot;</td><td>65764.0000</td><td>null</td><td>&quot;Không xác định&quot;</td><td>&quot;Không xác định&quot;</td><td>&quot;Nhật Bản, Nhật Bản&quot;</td><td>&quot;Không xác định&quot;</td><td>&quot;Giấy, bột giấy, vải không dệt,…</td><td>0</td><td>&quot;Không xác định&quot;</td></tr></tbody></table></div>"
      ],
      "text/plain": [
       "shape: (5, 34)\n",
       "┌───────┬────────────┬────────────┬────────────┬───┬───────────┬───────────┬───────────┬───────────┐\n",
       "│ p_id  ┆ item_id    ┆ price      ┆ category_l ┆ … ┆ volume    ┆ material  ┆ sale_stat ┆ descripti │\n",
       "│ ---   ┆ ---        ┆ ---        ┆ 1_id       ┆   ┆ ---       ┆ ---       ┆ us        ┆ on_new    │\n",
       "│ i32   ┆ str        ┆ decimal[38 ┆ ---        ┆   ┆ str       ┆ str       ┆ ---       ┆ ---       │\n",
       "│       ┆            ┆ ,4]        ┆ i32        ┆   ┆           ┆           ┆ i32       ┆ str       │\n",
       "╞═══════╪════════════╪════════════╪════════════╪═══╪═══════════╪═══════════╪═══════════╪═══════════╡\n",
       "│ 17065 ┆ 0502020000 ┆ 99000.0000 ┆ 1          ┆ … ┆ Không xác ┆ Không xác ┆ 0         ┆ Chi tiết  │\n",
       "│       ┆ 004        ┆            ┆            ┆   ┆ định      ┆ định      ┆           ┆ sản phẩm  │\n",
       "│       ┆            ┆            ┆            ┆   ┆           ┆           ┆           ┆ …         │\n",
       "│ 72370 ┆ 0010290040 ┆ 69000.0000 ┆ 3292       ┆ … ┆ Không xác ┆ Không xác ┆ 0         ┆ Không xác │\n",
       "│       ┆ 150        ┆            ┆            ┆   ┆ định      ┆ định      ┆           ┆ định      │\n",
       "│ 31154 ┆ 0008010000 ┆ 45000.0000 ┆ 351        ┆ … ┆ Không xác ┆ Không xác ┆ 0         ┆ Chi tiết  │\n",
       "│       ┆ 015        ┆            ┆            ┆   ┆ định      ┆ định      ┆           ┆ sản phẩm  │\n",
       "│       ┆            ┆            ┆            ┆   ┆           ┆           ┆           ┆ …         │\n",
       "│ 46123 ┆ 0020010000 ┆ 401000.000 ┆ 2222       ┆ … ┆ Không xác ┆ Giấy, bột ┆ 0         ┆ Không xác │\n",
       "│       ┆ 094        ┆ 0          ┆            ┆   ┆ định      ┆ giấy, vải ┆           ┆ định      │\n",
       "│       ┆            ┆            ┆            ┆   ┆           ┆ không     ┆           ┆           │\n",
       "│       ┆            ┆            ┆            ┆   ┆           ┆ dệt,…     ┆           ┆           │\n",
       "│ 46127 ┆ 0020010000 ┆ 401000.000 ┆ 2222       ┆ … ┆ Không xác ┆ Giấy, bột ┆ 0         ┆ Không xác │\n",
       "│       ┆ 098        ┆ 0          ┆            ┆   ┆ định      ┆ giấy, vải ┆           ┆ định      │\n",
       "│       ┆            ┆            ┆            ┆   ┆           ┆ không     ┆           ┆           │\n",
       "│       ┆            ┆            ┆            ┆   ┆           ┆ dệt,…     ┆           ┆           │\n",
       "└───────┴────────────┴────────────┴────────────┴───┴───────────┴───────────┴───────────┴───────────┘"
      ]
     },
     "execution_count": 7,
     "metadata": {},
     "output_type": "execute_result"
    }
   ],
   "source": [
    "print(\"User Item DataFrame:\")\n",
    "df_item.head()"
   ]
  },
  {
   "cell_type": "markdown",
   "id": "8e33ce77",
   "metadata": {},
   "source": [
    "# Task 2.1A Xác Định Các Cặp Sản Phẩm Hay Mua Chung"
   ]
  },
  {
   "cell_type": "code",
   "execution_count": 8,
   "id": "7b6bce75",
   "metadata": {},
   "outputs": [],
   "source": [
    "# import polars as pl\n",
    "# from itertools import combinations\n",
    "# from collections import Counter\n",
    "\n",
    "# # Giả sử bạn có df_purchase là Polars DataFrame\n",
    "# # df_purchase = pl.read_parquet(\"purchases.parquet\")\n",
    "\n",
    "# # 1️⃣ Chuyển mỗi customer_id sang list sản phẩm mua\n",
    "# group_col = \"customer_id\"\n",
    "# df_grouped = (\n",
    "#     df_purchase\n",
    "#     .group_by(group_col)\n",
    "#     .agg(pl.col(\"item_id\").unique().alias(\"items\"))\n",
    "# )\n",
    "\n",
    "# # 2️⃣ Đếm số lần xuất hiện cặp sản phẩm\n",
    "# cooc_counter = Counter()\n",
    "\n",
    "# for items in df_grouped[\"items\"]:\n",
    "#     if len(items) > 1:\n",
    "#         for pair in combinations(sorted(items), 2):\n",
    "#             cooc_counter[pair] += 1\n",
    "\n",
    "# # 3️⃣ Tạo Polars DataFrame kết quả\n",
    "# df_cooc = pl.DataFrame({\n",
    "#     \"item_1\": [i1 for (i1, i2) in cooc_counter.keys()],\n",
    "#     \"item_2\": [i2 for (i1, i2) in cooc_counter.keys()],\n",
    "#     \"cooc_count\": list(cooc_counter.values())\n",
    "# }).sort(\"cooc_count\", descending=True)\n",
    "\n",
    "# # 4️⃣ Hiển thị kết quả\n",
    "# print(df_cooc.head(10))"
   ]
  },
  {
   "cell_type": "code",
   "execution_count": null,
   "id": "c700b12f",
   "metadata": {},
   "outputs": [],
   "source": [
    "import polars as pl\n",
    "from itertools import combinations\n",
    "from collections import Counter\n",
    "\n",
    "# --- Tạo dữ liệu mẫu ---\n",
    "# df_purchase = pl.read_parquet(\"purchases.parquet\")\n",
    "\n",
    "# 1️⃣ Chuyển created_date sang timestamp (giây)\n",
    "df = df_purchase.with_columns(\n",
    "    (pl.col(\"created_date\").cast(pl.Datetime).cast(pl.Int64) // 60).alias(\"created_minute\")\n",
    ")\n",
    "\n",
    "# 2️⃣ Gộp các lần mua gần nhau (ví dụ <10 phút) → tạo pseudo_order_id\n",
    "df = df.sort([\"customer_id\", \"created_minute\"])\n",
    "df = df.with_columns(\n",
    "    (pl.col(\"created_minute\").diff().fill_null(99999) > 10)\n",
    "    .cum_sum()\n",
    "    .over(\"customer_id\")\n",
    "    .alias(\"pseudo_order_id\")\n",
    ")\n",
    "\n",
    "# 3️⃣ Gom các sản phẩm trong cùng pseudo_order_id\n",
    "df_grouped = (\n",
    "    df.group_by([\"customer_id\", \"pseudo_order_id\"])\n",
    "      .agg(pl.col(\"item_id\").unique().alias(\"items\"))\n",
    ")\n",
    "\n",
    "# 4️⃣ Đếm số lần xuất hiện cặp sản phẩm\n",
    "cooc_counter = Counter()\n",
    "for items in df_grouped[\"items\"]:\n",
    "    if len(items) > 1:\n",
    "        for pair in combinations(sorted(items), 2):\n",
    "            cooc_counter[pair] += 1\n",
    "\n",
    "# 5️⃣ Kết quả\n",
    "df_cooc = pl.DataFrame({\n",
    "    \"item_1\": [i1 for (i1, i2) in cooc_counter.keys()],\n",
    "    \"item_2\": [i2 for (i1, i2) in cooc_counter.keys()],\n",
    "    \"cooc_count\": list(cooc_counter.values())\n",
    "}).sort(\"cooc_count\", descending=True)\n",
    "\n",
    "print(df_cooc.head(10))"
   ]
  },
  {
   "cell_type": "code",
   "execution_count": null,
   "id": "76c933e8",
   "metadata": {},
   "outputs": [],
   "source": [
    "# Giả sử df_item chứa thông tin item_id, brand, category\n",
    "brand_map = dict(zip(df_item[\"item_id\"], df_item[\"brand\"]))\n",
    "cate_map = dict(zip(df_item[\"item_id\"], df_item[\"category\"]))\n",
    "\n",
    "df_cooc_info = df_cooc.with_columns([\n",
    "    pl.col(\"item_1\").replace(brand_map).alias(\"brand_1\"),\n",
    "    pl.col(\"item_1\").replace(cate_map).alias(\"category_1\"),\n",
    "    pl.col(\"item_2\").replace(brand_map).alias(\"brand_2\"),\n",
    "    pl.col(\"item_2\").replace(cate_map).alias(\"category_2\")\n",
    "])\n",
    "\n",
    "print(df_cooc_info.head(10))"
   ]
  },
  {
   "cell_type": "code",
   "execution_count": null,
   "metadata": {},
   "outputs": [],
   "source": [
    "df_cooc_info.filter(\n",
    "    (pl.col(\"brand_1\") != pl.col(\"brand_2\")) | \n",
    "    (pl.col(\"category_1\") != pl.col(\"category_2\"))\n",
    ").sort(\"cooc_count\", descending=True).head(10)"
   ]
  }
 ],
 "metadata": {
  "kernelspec": {
   "display_name": "Python 3",
   "language": "python",
   "name": "python3"
  },
  "language_info": {
   "codemirror_mode": {
    "name": "ipython",
    "version": 3
   },
   "file_extension": ".py",
   "mimetype": "text/x-python",
   "name": "python",
   "nbconvert_exporter": "python",
   "pygments_lexer": "ipython3",
   "version": "3.11.5"
  }
 },
 "nbformat": 4,
 "nbformat_minor": 5
}
