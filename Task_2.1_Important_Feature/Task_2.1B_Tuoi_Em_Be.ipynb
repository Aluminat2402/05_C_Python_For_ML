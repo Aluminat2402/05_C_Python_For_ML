{
 "cells": [
  {
   "cell_type": "markdown",
   "id": "2991e845",
   "metadata": {},
   "source": [
    "# Đọc dữ liệu"
   ]
  },
  {
   "cell_type": "code",
   "execution_count": 1,
   "id": "2348c8bd",
   "metadata": {},
   "outputs": [],
   "source": [
    "import os\n",
    "import polars as pl\n",
    "import matplotlib.pyplot as plt\n",
    "import seaborn as sns\n",
    "import numpy as np"
   ]
  },
  {
   "cell_type": "code",
   "execution_count": 2,
   "id": "d2869fbc",
   "metadata": {},
   "outputs": [],
   "source": [
    "def read_parquet_by_type(train_path: str):\n",
    "    # Lấy tất cả các file parquet trong thư mục\n",
    "    files = [os.path.join(train_path, f) for f in os.listdir(train_path) if f.endswith('.parquet')]\n",
    "    \n",
    "    # Phân loại các file theo loại tên\n",
    "    user_chunk_files = [file for file in files if 'user_chunk' in file]\n",
    "    purchase_history_chunk_files = [file for file in files if 'purchase_history_daily_chunk' in file]\n",
    "    item_chunk_files = [file for file in files if 'item_chunk' in file]\n",
    "    \n",
    "    # Đọc các file riêng biệt thành DataFrame\n",
    "    user_chunk_df = pl.concat([pl.read_parquet(file) for file in user_chunk_files]) if user_chunk_files else None\n",
    "    purchase_history_chunk_df = pl.concat([pl.read_parquet(file) for file in purchase_history_chunk_files]) if purchase_history_chunk_files else None\n",
    "    item_chunk_df = pl.concat([pl.read_parquet(file) for file in item_chunk_files]) if item_chunk_files else None\n",
    "    \n",
    "    # Trả về một dictionary chứa các DataFrame\n",
    "    return {\n",
    "        \"user_chunk\": user_chunk_df,\n",
    "        \"purchase_history_chunk\": purchase_history_chunk_df,\n",
    "        \"item_chunk\": item_chunk_df\n",
    "    }"
   ]
  },
  {
   "cell_type": "code",
   "execution_count": 3,
   "id": "e15aeb59",
   "metadata": {},
   "outputs": [],
   "source": [
    "train_path = 'E:/KHMT2023_CS_UIT/05_C_Python_For_ML/recommendation_dataset'\n",
    "dataframes = read_parquet_by_type(train_path)"
   ]
  },
  {
   "cell_type": "code",
   "execution_count": 4,
   "id": "820b612a",
   "metadata": {},
   "outputs": [],
   "source": [
    "df_user = dataframes[\"user_chunk\"]\n",
    "df_purchase = dataframes[\"purchase_history_chunk\"]\n",
    "df_item = dataframes[\"item_chunk\"]"
   ]
  },
  {
   "cell_type": "code",
   "execution_count": 25,
   "id": "78648fb5",
   "metadata": {},
   "outputs": [
    {
     "name": "stdout",
     "output_type": "stream",
     "text": [
      "['timestamp', 'user_id', 'item_id', 'event_type', 'event_value', 'price', 'date_key', 'quantity', 'customer_id', 'created_date', 'updated_date', 'channel', 'payment', 'location', 'discount', 'is_deleted']\n",
      "['p_id', 'item_id', 'price', 'category_l1_id', 'category_l1', 'category_l2_id', 'category_l2', 'category_l3_id', 'category_l3', 'category_id', 'category', 'description', 'brand', 'manufacturer', 'creation_timestamp', 'is_deleted', 'created_date', 'updated_date', 'sync_status_id', 'last_sync_date', 'sync_error_message', 'image_url', 'gender_target', 'age_group', 'item_type', 'gp', 'weight', 'color', 'size', 'origin', 'volume', 'material', 'sale_status', 'description_new']\n",
      "['customer_id', 'gender', 'location', 'province', 'membership', 'timestamp', 'created_date', 'updated_date', 'sync_status_id', 'last_sync_date', 'sync_error_message', 'region', 'location_name', 'install_app', 'install_date', 'district', 'user_id', 'is_deleted']\n"
     ]
    }
   ],
   "source": [
    "print(df_purchase.columns)\n",
    "print(df_item.columns)\n",
    "print(df_user.columns)"
   ]
  },
  {
   "cell_type": "code",
   "execution_count": 10,
   "id": "2a7d9a1a",
   "metadata": {},
   "outputs": [
    {
     "name": "stdout",
     "output_type": "stream",
     "text": [
      "['9M-20M', '0-12Y', 'Từ 8M', '1Y-6Y', 'Từ 18M', '0-4Y', '3Y-10Y', '[\"Từ 3M\", \"Từ 6M\"]', '0-6Y', '0-9M', '6M-15M', '4M-4Y', '1Y-11Y', '4M-6M', '[\"Từ 0M\", \"Từ 3M\", \"Từ 6M\"]', '7Y-14Y', '2Y-6Y', 'Từ 13Y', '3M-6M', '3Y-5Y', 'Từ 9M', '0-24M', 'Từ 10Y', '[\"Từ 0M\", \"Từ 3M\"]', '1M-12M', '9M-36M', 'Từ 19M', '[\"Từ 3M\", \"Từ 6M\", \"Từ 9M\", \"Từ 1Y\"]', '0-3M', '2Y-3Y', 'Từ 1M', '11Y-12Y', '0-18M', 'Mẹ', '13M-24M', '3Y-6Y', '6M-6Y', '7Y-10Y', '10Y-12Y', '3M-12M', 'Từ 1Y', 'Từ 7Y', '12M-18M', '18M-24M', '3Y-12Y', '1Y-16Y', '6M-5Y', '0-5M', '[\"Từ 3M\", \"Từ 6M\", \"Từ 1Y\"]', 'Từ 3Y', 'Không xác định', '3M-24M', '8Y-14Y', '7Y-8Y', '2M-6M', 'Từ 4Y', 'Từ 2M', '1M-15M', '0-5Y', '18M-4Y', '6M-24M', '1Y-12Y', 'Từ 12Y', 'Trên 6M', 'Từ 0M', '9M-4Y', '0-2M', 'Từ 3M', 'Từ 5Y', '6M-18M', '0-10M', '9M-12M', 'Trên 1Y', '1Y-2Y', 'Từ 4M', 'Trên 2Y', 'Từ 2Y', '1Y-3Y', '6M-9M', '9M-24M', '6M-12M', '[\"Từ 6M\", \"Từ 9M\", \"Từ 1Y\"]', '1Y-10Y', '0-1M', 'Từ 10M', 'Từ 19Y', '3M-18M', '9M-6Y', '2Y-10Y', '1Y-4Y', '3Y-4Y', '6M-12Y', '1M-3M', '6M-10M', 'Từ 6Y', '12M-4Y', 'Trên 3Y', '18M-36M', '4Y-5Y', '9Y-10Y', '1Y-9Y', 'Từ 5M', '0-12M', '2M-15M', '0-36M', 'Từ 6M', '0-6M', '9M-15M', '6M-36M', '5Y-6Y', '[\"Từ 3M\", \"Từ 6M\", \"Từ 9M\"]', 'Từ 7M']\n"
     ]
    }
   ],
   "source": [
    "print(df_item['age_group'].unique().to_list())"
   ]
  },
  {
   "cell_type": "code",
   "execution_count": 11,
   "id": "481335a7",
   "metadata": {},
   "outputs": [
    {
     "name": "stdout",
     "output_type": "stream",
     "text": [
      "['Bình sữa Pigeon', 'Ildong', 'Giày tập đi 165k S15', 'Goon Mommy Kiss_Tã Quần', 'Sữa tắm Lifebuoy', 'Khăn giấy khô Kleenex', 'Balo, túi cho mẹ', 'Bellamy Mom', 'Máy hâm sữa, tiệt trùng Moaz BéBé', 'Túi rác', 'Friso Pro Step 4', 'Lắp ráp/Xếp hình', 'Kun', 'Nồi nấu chậm Bear', 'Xe đẩy Combi', 'Bubs A2 Step 3', 'Sáp thơm Felce Azzurra', 'Giày chút chít 179k S14', 'Thú bông', 'Địu ngừng bán', 'Nuvi Grow', 'Purelac Step 3', 'Tắm gội thảo dược Diệp An Nhi', 'Enfa Step 3', 'Quần lót cho bé', 'President', 'Dưỡng môi Palmer', 'Kem đánh răng Chicco', 'Lactozim', 'Set 6 Bộ bao tay chân', 'Áo sơ sinh', 'Enfa Mom', 'Huggies Thường_Tã Dán M-XXL', 'Lotte', 'Tokyo Noodle', 'Kidsmania', 'Kem đánh răng cho bé Bzu Bzu', 'Pediasure Step 0', 'Xông vùng kín', 'Bodysuit', 'Đầm cũ', 'Nhập vai Unisex', 'Chela', 'Khăn gạc, khăn sữa Sợi Tre Animo', 'XiaoLeFeng', 'Dầu Đậu nành', 'Bodysuit Chống muỗi set 2', 'Pocky', 'Ba lô', 'Colosbaby Step 1', 'Băng vệ sinh Diana thường', 'Metafresh', 'Nestle', 'Colosbaby Step 4', 'Kem chống hăm Goongbe', 'Chocopie', 'Bobby Antimos_Tã Quần', 'Enfa Gentle care Step 3', 'Dầu khuynh diệp Diệp An', 'Sữa tắm Enchanteur', 'Dung dịch vệ sinh phụ nữ Crevil', 'Tẩy tế bào chết cơ thể Cocoon', 'Kem chống hăm Crevil', 'Bộ chống muỗi set 2', 'Bubs Full Cream', 'Khăn mặt Luck Lady', 'Bình nước gia đình', 'La Vie', 'Pediasure', 'Gói Hội Viên Pink MOM All in', 'Lays', 'Custas', 'Gói Hội Viên 6 tháng Mass', '0-12M Bộ nón tay chân sơ sinh bo', 'Dầu Kim Agi', 'Meizan', 'S26 Step 2', 'Dầu Gấc', 'Olamami', 'Giấy vệ sinh Bless you - Lốc 10', 'Orihiro', 'Bô/ Miếng lót bồn cầu Inochi', 'Vệ sinh cơ thể ngừng bán', 'Giày tập đi 165k S14', 'Plasmon', 'Dung dịch vệ sinh phụ nữ Chilly', 'Vitadairy', 'Khử mùi Avander', 'Elevit', 'Núm ty Gluck', 'Nước lau sàn Earth Choice', 'Enfa Step 2', 'Optimum Step 1', 'Trị muỗi, côn trùng Vương Tràm Hương', 'Tắm gội toàn thân Babi mild', 'Ghế ngồi ăn ngừng bán', 'Huggies Skin Perfect_Sơ Sinh', 'Núm ty Olababy', 'Set 2 Bộ bao tay chân', 'Quần sơ sinh Animo Easy', 'Saila', 'Xe đẩy Animo', 'ColosCare', 'Bodysuit Animo', 'NutriBoost', 'Dầu khuynh diệp Lovely', 'Ghế ngồi ăn Mastela', 'Nước xả Animo', 'Bóng/lều bóng', 'Xịt mũi Navax', 'Buona', 'Khăn choàng ủ Animo', 'Hút sữa điện Philips Avent', 'Enfa A2 Step 3', 'Tắm gội toàn thân Mustela', 'Dầu Mix hạt', 'Meadow Fresh', 'Thau/ Lưới tắm Duy Tân', 'Mixxo', 'Kentek', 'Tắm gội toàn thân Baby Magic', 'Height Boosting Step 3', 'Bodysuit Modal lẻ', 'Chăn tồn cũ', 'Phấn rôm & phấn thơm Kodomo', 'Kids Boost Step 3', 'Miếng lót thấm sữa Pigeon', 'Even', 'Giày tập đi 89k S12', 'Bình tập uống ngừng bán', 'Quần short bé gái', \"Khăn mặt S'BABY\", 'Máy hâm sữa, tiệt trùng Philips Avent', 'Dầu màng tang Bạch Mã', 'Kem đánh răng Spry', 'Mùng cho bé TH khác', 'Nước xả Felce Azzura', 'Colosbaby D3K2 Step 3', 'Enfa Step 4', 'Bình sữa, phụ kiện Pur', 'Sữa rửa mặt Senka', 'Bộ bé trai Animo', 'Tắm gội toàn thân Bimunica', 'Tinh dầu tự nhiên Haeva', 'Jele', 'Dầu gội Cetaphil', 'Zespri', 'Meiji Mom', 'Chăn ga gối EVERON', 'Wakodo', 'Khăn đa năng Animo', 'Cocomong', 'Animo_Tã Sơ sinh', 'Pasta', 'Bubs Goat Step 2', 'Life Space', 'Immunel Step 1', 'Metacare Eco', 'Bút viết', 'Nan', 'Friso Prestige Step 1', 'NAN Supreme Step 4', 'Nước cân bằng Hada Labo', 'Nước xả Aga', 'Áo khoác', 'Inno', 'Babyplus', 'Scooter 2 bánh/3 bánh', 'Dụng cụ ăn uống Mombella', 'Sữa tắm Dove', 'Meiji nội địa Step 1', 'Phấn rôm & phấn thơm Cadum', 'Ghế ngồi ô tô Combi, Chicco', 'Bình tập uống Edison', 'XO Step 3', 'Con bò cười', 'Dầu xả Sunsilk', 'Bestical', 'Bioamicus', 'Aptamil Úc Step 4', 'Xe tập đi ngừng bán', 'Dụng cụ ăn uống Konbini', 'Túi ngủ', 'Dielac Step 1', 'Nịt bụng cho mẹ', 'Bledina NK', 'Pampers Nhật_Tã Quần', 'Kem đánh răng P/S', 'Miếng lót thấm sữa Aga-ae', 'ColosGold Step 2', '0-12M Bodysuit bé trai đùi', 'Dầu Khuynh diệp Eagle', 'Ned Nature', 'Quây cũi', 'Ribon', 'Oreo', 'Nestle đặc trị', 'Dầu xả Dove', 'Đồ chơi bập bênh', 'Hút sữa điện đôi Medela', 'Bộ chăn gối nệm TH khác', 'Whoopee_Tã Dán M-XXL', 'Áo bé trai Animo', 'Kem đánh răng Sensitive', 'Pregnacare', 'Dimao D3', 'Relkon', 'Nước rửa đa năng Babyganics', 'Sữa tắm & thuốc tắm', 'Địu vải Kinderkraft', 'Giấy vệ sinh Cellox - Lốc 10', 'Bô/ Miếng lót bồn cầu Animo', 'Bubs', 'NAN Expert Specialty', 'Hipp Step 3', 'Grow plus vàng Step 3 Specialty', 'Gối chống trào ngược Animo', \"Ella's Kitchen\", 'Sandal bé trai S21', 'CDK', 'Dung dịch vệ sinh phụ nữ Felce Azzurra', 'Dép sục S17', 'Animo_Tã quần', 'Glico Step 1', 'Dầu Olive', 'Phụ kiện cũ khác', 'Kit test SARS-CoV-2 Humasis', 'AFC', 'Dầu gội Head & Shoulders', 'Springen', 'Similac', 'Gói Hội Viên 1 tháng Mass', \"Baby's Tooth\", 'Bình sữa Comotomo', 'Dầu gội Enchanteur', 'Sách tương tác, vừa học vừa chơi', '3-6Y Nón bé trai', 'NAN Organic_Step 2', 'Giày sơ sinh 149k S9', 'Gối tựa lưng NIN HOUSE', 'Chupa Chups', 'Khăn ướt Mamamy', 'Friso Mom', 'Gối nằm bông gòn Animo', 'Khăn vải khô Animo', 'GenKi_Tã Quần', 'Taylor', 'Tắm gội thảo dược Elemis', 'Yếm cho bé', 'Bodysuit bé gái đùi', 'Địu vải Comfy Baby', 'Dầu gội Tsubaki', 'Harrys', 'Áo bé gái', 'Sanest', 'Enspire Thái Step 3', 'Giày chút chít 229k S17', 'Sáp thơm Ami', \"Banquet D'or\", 'Enfamil A2 Step 3', 'Meiji', 'NAN Supreme Step 2', 'Dưỡng da Aveeno', 'Smartbibi', 'Bình sữa Pur', 'Máy hâm sữa, tiệt trùng Gluck', 'Colos DHA Step 3', 'Phụ kiện Philips Avent', 'Ty ngậm Philips Avent', 'Enspire Thái Step 4', 'Khăn giấy rút bịch Tempo', 'Nước rửa tay Dettol', 'Máy đưa võng', 'Áo ghile đông', 'Huggies Thin & Soft_Tã Dán', 'Nutrinest', 'Cornetto', 'Phụ kiện bơi tồn', 'Thau/ Lưới tắm Inochi', 'Nước giặt khác', 'Promax', 'Matsuya', 'Lifes Nest', 'Nước rửa bình sữa D-Nee', 'Dưỡng da Aga-ae', 'Meiji Step 4', 'Giày tập đi 165k S16', 'ColosGold Step 4', 'Nước rửa bình sữa Con Cung Gentle Care', 'Yến Việt', 'Áo ngực cho mẹ', 'Sữa rửa mặt khác', 'Boost Optimum', 'Bình tập uống Wesser', 'Ghế rung xích đu Fitch Baby', 'Tao Kae Noi', 'Núm ty Agi', 'Tokyo Noodle NK', 'Thú bông cầm tay', 'Khăn ướt Gentle care - Con Cung', 'Pampers Thường_Tã Quần', 'Nước xả Downy', 'Damtuh', 'Zeambi', 'Nescafe', 'Viên sủi Sapphire', 'Vệ sinh mũi', 'Goon Mommy Kiss_Tã Dán', 'Primal', 'Xe nhún Autoru', 'Caprisun', 'Nước rửa chén Sunlight', 'Gạc, rơ lưỡi Dr Papie', 'Bộ chăn gối nệm cũ', 'Phụ kiện Dr Brown', 'Dung dịch vệ sinh phụ nữ Bimunica', 'Chăn bông Animo', 'Thau/ Lưới tắm Animo', 'Khăn cotton tắm trẻ em Animo', 'Nutren Step 3 Specialty', 'Merries 1st Premium_Tã quần', 'Height Boosting', 'A2', 'Ghế ngồi ăn chân cao Kinderkraft', 'Hi Mom', 'Vinamilk Organic Step 4', 'A2 full cream milk', 'Nam Dược', 'Similac Step 4', 'Gói Hội Viên Pink MOM Easy', 'Bubs A2 Step 2', 'Kid Essential Step 3 Specialty', 'Pedia Sure', 'Giày bún tập đi', 'Pate', 'The Coffee House', 'Tã vải cũ', 'Giày tập đi 89k S14', 'Minik Bonbon', 'Xe mô hình/hoạt hình', 'Khăn khô Mama', 'Tắm gội toàn thân Johnson Baby', 'Optimum Gold', 'Sách phát triển kỹ năng, trí tuệ', 'Xịt khuẩn Kentori', '0-12M Áo sơ sinh cài chéo tay ngắn', 'Ty ngậm Tommee Tippee', 'Metacare Step 2', 'Ivenet', 'Bubs Goat Step 3', 'GenKi_Mẫu thử', 'Yoko Step 1', 'Enfa US Step 1', 'Gối chống trào ngược TH khác', 'Băng vệ sinh khác', 'Faneco', 'Enspire Step 1', 'Xúc xắc Antona', 'Cầu tuột/Quây chặn', 'Hipp Step 2', 'Sách kể chuyện, thơ, đồng dao', 'Thú rối', 'Calbee', 'Morinaga Mom', 'Máy hút bụi giường nệm Moaz BéBé', 'NAN Organic_Step 4', 'ColosCare Step 4', 'Pati', '0-24M Áo thun bé trai tay dài đông', '0-3Y Cột', 'Đồ Chơi khác', 'Pediasure Step 3 Specialty', 'Bàn chải 1-2Y', 'Quần sơ sinh', 'Probi', 'Pampers Nhật_Sơ Sinh', 'Pretz', 'Pejoy', 'Sahmyook', 'Nước tẩy trang Senka', 'Nước rửa bình sữa Aga', 'Hoff', 'Dầu gội Clear', 'Đồ dùng bé ngủ tồn cũ', 'Dầu xả Our herb story', 'Ty ngậm Nuby, Dr Brown', 'Bộ nón bao tay chân', 'Thau/ Lưới tắm ConCung Good', 'Sữa tắm Cung đình', 'Similac Mom', 'Blackmores Step 2', 'Băng vệ sinh Abena sau sinh', 'Ghế ngồi ăn Baby Pretty', 'Khẩu trang người lớn NIVA', 'Cozy', 'Song Yến', 'Chăn vải chần bông TH khác', 'Dụng cụ ăn uống Animo', 'Gặm nướu silicone Animo', 'Học tập', 'Kenko', 'Dielac Alpha Step 2', 'Bubs Organic step 2', 'Molfix_Tã quần', 'Nhiệt kế ngừng bán', 'Xúc xắc Animo', 'Xe đẩy Aprica, Joie', 'Metacare Step 4', 'Núm ty Moyuum', 'Meiji Step 1', 'Khăn giấy rút hộp Bless you', 'Corbiere', 'Friso Prestige Step 3', 'Bình sữa Edison', 'Khăn gạc tắm trẻ em Animo', 'Kem đánh răng Tom&jerry', 'Dụng cụ ăn uống Edison', 'Hipp Step 4', 'Sunday Natural', 'Glico Step 4', \"C'est Bon\", 'Nước xả D-Nee', 'Ghế ngồi ô tô Animo', 'Ghế ngồi ăn Akigo', 'Dưỡng da Goongbe', 'Nước rửa bình sữa Bzu Bzu', 'Bình sữa Moyuum', 'Dầu Hướng dương', 'Xe tập đi/Bàn chơi đa năng', 'Hikid đặc trị', 'Xe chòi chân', 'Dung dịch vệ sinh phụ nữ Lactacyd', 'Khăn đa năng TH khác', 'Giày và sandal bé gái S19', '0-12M Bodysuit tam giác', \"Khăn lau tóc S'BABY\", 'Gel trị mụn Decumar', 'Ghế ngồi ăn chân thấp Concung Good', 'Sữa tắm Dettol', 'Goce', 'Bubs Organic step 1', 'Quần lót bầu', 'Maggi', 'Chăm sóc da bé khác', 'Nôi, cũi, võng ngừng bán', 'Bình sữa Philips Avent', 'Đai an toàn xe máy', 'Similac Total Comfort Specialty', 'Bình sữa Aga-ae', 'Núm ty Edison', 'Sách vải', 'Pedia Kenji Step 2', 'Byba', 'Glico Step 3', 'Mason', 'Bodysuit bé trai dài', 'Bộ chăn gối nệm Animo', 'Sữa dưỡng thể Vaseline', 'Heinz', 'Vệ sinh nhà bếp CIF', 'Sách nuôi dạy con', 'SpringLeaf', 'Khăn ướt Merries 1st Premium', 'Giày chút chít 179k S17', 'Mặt nạ dưỡng da khác', 'Núm ty Comotomo', 'Khăn gạc, khăn sữa Mamaru', 'Kiến thức bách khoa', 'Haagen Dazs', 'Agusha', 'Enfa C-sec Step 4', 'Phấn rôm & phấn thơm Babi mild', 'Vớ', 'Kem chống hăm Cetaphil', 'Neo Kids', 'Tấm lót/ Nệm mát/ Chiếu ngừng bán', 'Pigeon', 'Trị muỗi, côn trùng Chicco', 'Dụng cụ ăn uống Moreware', 'Dielac Grow Plus Step 4 Specialty', 'Ganbare', 'NAN Nga Step 4', \"C'Lavie\", 'Bình tập uống Nuby', 'Dầu xả Delon', 'Grow Plus trắng', 'Similac Protection Step 3', 'Túi, hộp, màng bọc thực phẩm', 'Pororo', 'Morning Rice', 'Babi Bird', 'Tắm gội toàn thân Bobini', 'Otto', 'Aptamil', 'Nan A2 Step 1', 'Ghế ngồi ăn gỗ Autoru', 'Vớ cho mẹ', 'Phụ kiện Comotomo', 'Momby', 'Friso Step 2', 'Dưỡng da Natural Botanical', 'Sun-Hee', 'Baby Ball', 'Giày và sandal bé gái S21', 'Lucky Me', 'Giày sơ sinh 119k S9', 'Hút sữa rảnh tay Fatz', 'Goldkids', 'Tông đơ', 'Kem đánh răng khác', 'Mister Potato', \"Nature's Way\", 'Máy pha sữa Baby Brezza', 'Xe đẩy Cool Baby', 'Bút tô màu', 'Little Etoile', 'Fruit Me Up', 'Ginbis', 'Elprairie AW_Tã Quần', 'Curmilk', 'Nuvi Grow Step 4', 'Kem trị rôm sảy Oribebe', 'Địu vải Bubi', 'Nước rửa tay khác', 'Sữa tắm Cocoon', 'Ghế ngồi ô tô', 'Địu BeBéar', 'Bodysuit cũ', 'Hipp Step 1', 'C2', 'PreNAN Specialty', 'Set 2 Nón sơ sinh', 'LiveSpo', 'Anpaso', 'Bình sữa Tommee Tippee', 'Feroglobin', 'Bobby Fresh_Tã Dán M-XXL', 'Moony Natural_Sơ Sinh', 'Hộp quà', 'Khăn tắm gia đình Mollis', 'Lactino', 'Khăn lau tóc Peomy', 'Giày dép cũ tồn', 'Huggies Skin Perfect_Tã Quần', 'Nước lau sàn Dettol', 'Núm ty Aga-ae', 'Đất nặn/bột nặn', 'Đồ chơi nhà tắm', 'Fristy', 'Xe thăng bằng', 'Sangha', 'Ruốc', 'Natori', 'Bộ bé gái Animo Easy', 'Trị muỗi, côn trùng Haeva', 'Alphagen Step 4', 'Nước rửa bình sữa Wesser', 'Mug', 'Quần lót tiện lợi Animo', 'Xịt côn trùng Ars', \"Brand's\", 'Takato_Tã Quần', 'Set 2 đôi vớ', 'Thảm xốp gấp gọn', 'Enspire Thai Step 1', 'PNI Kids', 'Bình sữa Concung Good', 'Gối chặn Animo', 'Chewy Vites', 'Ghế ngồi ăn Animo', 'Enfa C-sec Step 1', 'Khăn tắm gia đình Sợi sồi Animo', 'Celano', 'Dầu Sachi', 'Kẹo Nhật', 'Manna', '0-3Y Bộ đông bé trai dài', 'Phụ kiện Aga-ae', 'Bánh flan', 'Huggies Platinum_Sơ Sinh', 'Moony Natural_Tã Quần', '2-6Y Vòng tay, vòng cổ', 'Giày chút chít 179k S15', 'Kimo', 'Khăn tắm gia đình Sợi tre Animo', 'ColosGold Step 1', 'Giấy vệ sinh Elène - Lốc 10', 'Moochews', 'Dầu Gạo', 'Sandal bé trai S23', 'Sweety_Tã quần', 'Khăn ướt Bobby Care', 'Special Kid', 'Good Health', 'Lạc Lạc', 'Solgar', 'Elle & Vire', 'Tắm gội thảo dược 3M', 'Dad and Me step 4', 'Núm ty Dr Brown', 'Merries Volume Up_Tã dán M-XXL', 'Khăn ướt  Hàn Quốc - Green Finger', 'Elprairie AW_Tã dán M-XXL', 'Tắm gội toàn thân Dnee', 'Lee Kum Kee', 'Apaman', 'Bình sữa Gluck', 'Tấm lót chống thấm Concung Good', '1-3Y Nón bé gái', 'Nồi nấu chậm ngừng bán', 'Nước rửa chén Gift', 'Dielac Grow Plus', 'S26 Step 1', 'Wakodo Step 2', 'Snickers', 'Lu', 'Kem dưỡng ẩm Senka', 'Xe đẩy Evenflo', 'Datino', 'Hạt hướng dương', 'Nón sơ sinh nhập khẩu', 'A2 skim milk', 'Cân sức khỏe', 'Máy hâm sữa, tiệt trùng Animo', 'Bình giữ nhiệt Diller', 'Xe lắc', 'Phụ kiện Edison', 'Nôi chung giường Bebear', 'Friso Prestige Step 4', 'Somen', 'Tắm gội thảo dược Cung Đình', 'Nước lau sàn Sunlight', 'Enfamil A2 Step 2', 'Đồ chơi âm nhạc', '1-3Y Nón bé trai', 'Miếng dán hạ sốt - Byebye Fever', 'Kem đánh răng Kodomo', 'Famna Step 4', 'Khăn ướt gia dụng Läupro', 'Phụ kiện Pigeon', 'Nước xả Earth Choice', 'Nước súc miệng Spry', 'Paysan Breton', 'Cung Đình', 'Kem đánh răng Closeup', 'Bình sữa, phụ kiện Puku', 'Biogaia', 'Dielac Alpha Step 1', 'Friso Step 4', 'Quần bé trai cũ', 'Bông tẩy trang Silcot', 'Grow plus vàng Step 1', 'Doppel Herz', 'TH True Tea', 'Vinamilk Organic Step 2', 'Grow plus đỏ Step 4 Specialty', 'Khăn giấy bỏ túi Tessa - Lốc 6', 'Dầu Mè', 'Giày và sandal S25 cũ', 'Rạn da', 'Máy vắt cam Bear', 'Quần lót tiện lợi ngừng bán', 'Dr Frei', 'Wakodo Step 4', 'Bobby Quần Mở Một Bên_Sơ sinh', 'Dầu gội Dove', 'Dầu Óc chó', 'Nón sơ sinh', 'Dụng cụ bảo vệ an toàn', 'Maya', 'Dưỡng da Johnson Baby', 'Khăn voan', 'Morinaga Step 2', 'Dụng cụ ăn uống Bebear', 'Brauer', 'Ghế ngồi xe hơi', 'Famna Step 1', 'Nước lau bếp Earth Choice', 'Colosbaby IQ Gold Step 1', 'Sữa tắm Olay', 'Miếng lót thấm sữa ngừng bán', '0-12M Nón sơ sinh', 'Glucerna Adult', 'NAN Organic_Step 1', 'Khay trữ đông', 'Huggies Platinum_Tã Dán M-XXL', 'Tắm gội toàn thân Lactacyd', 'Tắm gội toàn thân Chupa chups', 'Dầu Hạt cải', 'Bình sữa Puku', 'Whito_Tã dán M-XXL', 'Tắm gội thảo dược Kutieskin', 'Nước giặt xả Docilee', 'Phấn rôm & phấn thơm Pigeon', 'Goon Premium_Tã dán M-XXL', 'Rascal_Tã dán M-XXL', 'Xe tập đi Tobby', 'Sữa tắm mụn Acnevir', \"Khăn giấy bỏ túi E'mos\", 'Băng vệ sinh Laurier', 'Kem đặc trị Kutieskin', 'Thau/ Lưới tắm Autoru', 'Little Blossom', 'Gặm nướu Antona', 'Nôi vải Khang Home', 'Khăn gạc, khăn sữa TH khác', 'Vinamilk Green Farm', 'Choco Rock 2', 'Nutren', 'Tắm gội thảo dược Dr.Papie', 'Giày chút chít 229k S13', 'Giày chút chít 179k S16', 'Midkid', 'Khăn giấy rút bịch Tessa', 'Máy tạo ẩm Laica', 'Grow plus vàng Step 3', 'Khẩu trang người lớn Anyguard', 'ColosCare Step 2', 'Green Babi', 'Misura', 'QBB', 'Giày chút chít 229k S15', 'Colos DHA Step 1', 'Nutramigen Specialty', 'Hershey', 'Gói Hội Viên Pink MOM Upgrade', 'Bàn chải điện', 'Giày chút chít 229k S16', 'Ferrolip', 'Kem dưỡng ẩm Cetaphil', 'Bộ đông bé trai dài', 'Nước giặt Enfant', 'Oldenburger', 'Dielac Đặc trị - KM', 'Bộ Modal lẻ', 'Giày tập đi 165k S13', 'Takato_Sơ Sinh', 'Colosbaby Bio Gold Step 4', 'Nệm mát/ Chiếu ngừng bán', 'Dụng cụ ăn uống Nuby, Dr Brown', 'Bubs Organic step 4', 'Tắm gội toàn thân Cadum', 'Dung dịch vệ sinh phụ nữ SAFORELLE', 'Phô mai rắc', 'Xúc xắc khác', 'Nước rửa tay Lifebouy', 'Ty ngậm Kuku', 'Enfa Step 1', 'Ghế bập bênh Concung Good', 'Băng vệ sinh UUCare', 'Merries Volume Up_Sơ sinh', 'Ghế ngồi ăn chân cao Joie', 'Khăn tắm Mamamy Tropical', 'Morinaga Step 1', 'Xịt mũi Bisalt & Hymasalt', 'Nước hoa Johnson baby', 'Dầu xả OGX', 'Biolizin', 'Kellogg', 'Nutimilk', 'Giày sơ sinh 119k S10', 'Gia vị rắc', 'Thanh Lương Thảo', 'Bánh mì', 'Nước hoa Chicco', 'Kem chống nắng Anessa', 'Friso Pro Step 3', 'Sữa tắm Purite', 'Bóng mềm', 'Bio Acimin', 'Oralux', 'Xe đẩy Tobby', 'Bình sữa Hegen', 'Merries_Tã dán M-XXL', 'Colosbaby D3K2 Step 4', 'Merries 1st Premium_Tã dán M-XXL', 'Bình sữa, phụ kiện Gluck', 'Nước súc miệng Listerine', 'Tearoma', 'Kabrita Step 4', 'Bao cao su Durex', 'Bellamy Step 4', 'Immunel', 'Hút sữa điện Spectra', 'Friso Pro Step 2', 'Dầu gội X-men', 'Nestea', 'Bình tập uống Richell', 'Whito_Tã Quần', 'Bellamy Step 2', 'Tắm gội toàn thân Aga-ae', 'Pin Animo', 'Hubba Bubba', 'Kem dưỡng ẩm Neutrogena', 'Bộ quần áo bé gái', '0-3Y Cài', 'Máy đo huyết áp/ Máy xông', 'Phụ kiện Wesser', 'Bodysuit tam giác', 'Gối nằm cao su Đồng Phú', 'Vfresh', \"Kem rạn da Palmer's\", 'Colosbaby IQ Gold Step 4', 'Nôi, cũi  Kub', 'Thú nhún kéo', 'Mars', 'Kệ chữ A', 'Nước rửa bình sữa Berkley', 'Enspire Thái Step 1', 'Aptamil Hà Lan Step 1', 'Khẩu trang người lớn Wakamono', 'Núm ty Hegen', 'Alphagen Step 1', 'Túi trữ sữa Sunmum', 'Thiên Việt', 'Nan A2 Step 3', 'Mắt kính cho bé tồn', 'Optimum Step 4', 'Wakodo Mom', 'Sandal bé trai S17', 'Caryn_Tã quần', 'Mabio', 'Áo bé gái Animo', 'Nissui', 'Zott', 'Playmore', 'Goute', 'Phấn rôm & phấn thơm Chicco', 'Áo bé gái cũ', 'Giày tập đi 249k', 'Anlene', 'Hạt hỗn hợp', 'Your Supper Food', 'Khăn giấy bỏ túi Tempo - Lốc 10', 'Dầu xả Organic care', 'Nhiệt kế Microlife', 'Varna Colostrum', 'Nước giặt Goongbe', 'Phụ kiện Bebear', 'Khăn ướt bột giấy Huggies', 'Bodysuit bé trai đùi', 'Bodysuit bé gái dài', 'Dụng cụ ăn uống Baby&I', 'Kem đánh răng Ích Nhi', 'Varna Complete Adult', 'Tắm gội X-men', 'Dầu gội Wakamono', 'Nunest', 'ColosGold', 'Tắm gội toàn thân Goongbe', 'Gạc, rơ lưỡi vải', 'Nôi, cũi Concung Good', 'Kiwigarden', 'Molfix_Tã dán M-XXL', 'Pasquier', 'Giặt xả MaxKleen', 'Hạt Óc chó', 'Bông tẩy trang IPEK', 'Height Boosting Step 4', 'Gối khác cũ', 'Maeil', 'Aojiru', 'Giấm', 'Cốc hứng sữa', 'Merries_Sơ Sinh', 'Dụng cụ ăn uống Concung Good', 'Bubs Goat Step 1', 'Xịt thơm miệng Pierrot', 'Goodhealth', 'Bộ bé trai Animo Easy', 'Kem chống hăm Abena', 'Appekidz Step 3', 'Thảm xốp mảnh ghép', 'Skittles', \"Wall's\", 'Tan mỡ', 'Nước rửa tay Babyganics', 'Pin ngừng bán', 'Gối ôm Animo', 'Dầu massage Nautral Botanical', 'Dầu Khuynh diệp Mệ Đoan', 'Mùng cho bé Animo', 'Dầu gội Cỏ Cây Hoa Lá', 'Pediakid', 'Molfix_Tã quần Jumbo', 'Kem trị rôm sảy Agrin', 'Aptamil Úc Step 2', 'Bình sữa khác', 'Colos Gain', 'Kem dưỡng da cho bé Bzu Bzu', 'Kids Mix', 'Similac Step 2', 'Metacare Step 3', 'Thuyền xưa', 'Giày tập đi khác tồn', 'Dimao', 'Nước giặt Con Cung Gentle Care', 'Colosbaby Step 3', 'Nhật', 'Núm ty Wesser', 'Gumazing', 'Ensure Adult', 'Welkids', 'Hút sữa điện đôi Fatz', 'Bông tắm/ Nón gội đầu', 'Dielac Step 2', 'Bộ đông bé gái dài', 'Tắm gội toàn thân Purite', 'Tắm gội thảo dược Sachi', 'Đồ chơi xếp chồng/thả hình khối', 'Pop Ups', 'Tắm gội Romano', 'Sản phẩm về giấy', 'Huggies Thường_Tã Quần', 'Khăn lau tóc Animo', 'Chiếu điều hòa Animo', 'Xylitol', 'NAN Step 2', 'Friso Pro Step 1', 'Dầu gội Delon', 'Set 3 quần lót bé gái', 'Bao tay chân', 'Nước giặt Ariel', 'Xịt thơm miệng Lana', 'Molfix_Sơ sinh', 'Nước xả Con Cung Gentle Care', 'Bình tập uống Kuku', 'Colosbaby IQ Gold Step 3', 'Quần, chân váy bé gái', 'Oggi Gold', 'Green Calcium', 'Tăm bông, băng rốn', 'Bình đun nước ngừng bán', 'Khăn mặt Mollis', 'Bô/ Miếng lót bồn cầu ngừng bán', 'Hút sữa ngừng bán', 'Rascal_Sơ Sinh', 'TH True Juice', 'Provital', 'Tắm gội thảo dược Yaocare', 'Dụng cụ bếp và vệ sinh', 'Dầu khuynh diệp Con yêu', 'Bình sữa Dr Brown', 'Morinaga', 'Chibi', 'Quần, áo, đầm bầu', 'Dụng cụ ăn uống Pigeon', 'Dorkbua', 'Trị muỗi, côn trùng Baby Ganics', 'Similac Protection Step 4', '3-6Y Nón bé gái', 'Giày sơ sinh 149k S11', 'Xúc xắc Polesie', 'Gerber', '0-12M Quần sơ sinh ngắn', 'Friso Step 3', 'Whito_Sơ Sinh', 'Tấm lót chống thấm Mamaru', 'Phụ kiện trang trí tiệc', 'Enfa A2 Step 1', 'Giày và sandal bé gái S23', 'Friso Step 1', 'Chan Bé', 'Happy Family', 'Optibac Tím', 'Bột gia vị', 'Nhiệt kế AOJ', 'Pfanner', 'Similac Neosure Specialty', 'Dưỡng tóc Cocoon', 'Phụ kiện tồn SPC', 'Dầu tràm Eagle', 'Dầu gội Romano', 'Sữa tắm Cetaphil', 'Máy xay Bear', 'Humana Step 4', 'Hạt Hạnh nhân', 'Hút sữa điện Pigeon', 'Sữa tắm Felce Azzurra', 'Famna Step 2', 'Huggies Skin Perfect_Tã Dán M-XXL', 'Dielac Step 3', 'Corniche', 'Phấn rôm & phấn thơm Pureen', 'Dầu xả Tsubaki', 'Menacal', 'Colosbaby Bio Gold Step 1', 'Tắm gội toàn thân Wesser', 'Bình tập uống Diller', 'Phụ kiện Moaz BéBé', 'TH Milk', 'Grow Plus Xanh Step 3 Specialty', 'Tắm gội toàn thân Pigeon', 'Thau tắm/ Lưới tắm ngừng bán', 'Confidence_Tã dán', 'Humana Step 1', 'Khăn choàng ủ TH khác', 'JustNest', 'Quần short bé trai', 'Danesita', 'Bộ Modal set 2', 'Aptamil Úc Step 1', 'Gối ôm thú bông', 'Ván trượt/Patin/Bảo hộ', 'Đầm bé gái Animo', 'Xe điều khiển', 'Khăn gia đình cũ', 'Dép sục S21', 'Ghế nôi Joie', 'GenKi_Sơ Sinh', 'Bàn ủi hơi nước Bear', 'Lê Gia', 'Goon Premium_Tã Quần', 'Khẩu trang cho bé NIVA', 'Áo sơ sinh Animo', 'Mệ đoan', 'S26 Step 3', 'Sữa tắm Senka', 'Abbott Grow Step 3', 'Danalac', 'Kem chống hăm Chicco', 'Similac Protection Step 1', 'Fruto', 'Sáp thơm Glade', 'Ghế nhà tắm/ Gáo nhựa', 'Nôi, cũi Joie', 'Fitolife', 'Pink Fong', 'Enfa A2 Step 2', 'Động vật mô hình', 'BioCare', 'Bubs A2 Step 1', 'Yoko Step 4', 'Metacare đặc trị', 'Khăn giấy rút bịch Bless you', 'Núm ty Mam', 'Xe đẩy Mastela', 'Phụ kiện máy hút sữa', 'Takato_Tã Dán M-XXL', 'Máy xay Animo', 'Blackmores Step 3', 'Tarami', 'Nước giặt Aga', 'Wellman', 'Vicenzi', 'Xe đẩy ngừng bán', 'Aptamil Úc Step 3', 'Whoopee_Tã Quần', 'Meiji nội địa Step 3', 'Humana Step 3', 'Nước rửa bình sữa Pigeon', 'Rong biển rắc', 'Xe đẩy Mstar', 'Miếng dán mụn Somaderm', 'Phụ kiện Puku', 'Kính chống giọt bắn', 'Kingphar', 'Aptamil NZ Step 3', 'Phúc Long', 'Yumearth', 'Vinamilk', 'Bình, túi ủ sữa', 'Gel bôi trơn Durex', 'Móc/ Giá phơi đồ', 'Kinder Joy', 'Bàn chải 2Y+', 'ILDong số 1', 'Burine', 'Dầu xả Tresemme', 'Pin Energizer', 'Pedia Kenji Step 4', 'Huggies Platinum_Tã Quần', 'Máy hâm sữa, tiệt trùng Concung Good', 'Khẩu trang cho bé Skaters', 'Ruột gối NIN HOUSE', 'Hạt Mắc ca', 'HiBaby', 'Túi trữ sữa Perfection', 'Similac Step 3', 'Nước xả Comfort', 'Đầm', 'Dầu Hạnh Nhân', 'Nước rửa tay Antabax', 'Gạc, rơ lưỡi tẩm ngừng bán', 'Núm ty Tommee Tippee', 'Bubs Organic step 3', 'Đầm bé gái Animo Easy', 'Tắm gội thảo dược Oriss', 'Suku Suku', 'Xe đẩy Kinderkraft', 'Phụ kiện khác tồn', 'Gối nằm bông gòn TH khác', 'Hikid Step 3', 'Nước giặt Arau', 'Kem chống hăm Mustela', 'Khẩu trang cho bé Anyguard', \"Nature's Bounty\", 'Máy hâm sữa, tiệt trùng Tommee Tippee', 'Sữa tắm Johnson Baby', 'Khẩu trang cho bé Stay Dry', 'Dầu xả Cocoon', 'Bebedang', 'Tấm lót chống thấm ngừng bán', 'Colosbaby Bio Gold Step 3', 'Tẩy tế bào chết da mặt Cocoon', 'Quần dài bé trai', 'Dầu gội Pantene', 'Nón tồn cũ', 'Dutch lady', 'Kem chống nắng Senka', 'Gold Bird', 'Mixxi', 'Seoul Milk', 'Varna Colostrum Adult', 'Bàn chải 0-1Y', 'Dầu xả Selsun', 'Sữa rửa mặt Hada Labo', 'Nước rửa bình sữa Dapple', 'Bauli', 'Núm ty Beanstalk', 'Sữa tắm khác', 'Gặm nướu silicone Mombella', 'Khẩu trang cho bé PIGEON', 'Aptamil NZ Step 1', 'Danisa', 'Chăn lưới, chăn len Animo', 'Dưỡng da Chicco', 'Dầu Khuynh diệp Euca Kid', 'Xe đạp 2 bánh/3 bánh', 'Ensure Step 0', 'Bảo nhiên', 'Huggies Thường_Sơ Sinh', 'Băng vệ sinh Diana sau sinh', 'Hút sữa rảnh tay Animo', 'BioIsland', 'Dụng cụ ăn uống Inochi', 'Bình giữ nhiệt LnL', 'Dưỡng tóc Milaganics', 'Menz & Gasser', 'Tắm gội toàn thân Kodomo', 'Hikari', 'Bao cao su Okamoto', 'Kabrita Step 3', 'Aquafina', 'Hoành thánh', 'Dầu gội Hairburst', 'Núm ty Philips Avent', 'Xịt mũi Xisat', 'Nfood', 'Tracybee', 'Giấy vệ sinh Tessa - Lốc 6', 'Gạc, rơ lưỡi silicone', 'Đồ lưu niệm', 'Máy hâm sữa, tiệt trùng ngừng bán', 'Colosbaby Pedia Step 3 Specialty', 'Vệ sinh móng', 'MyVita', 'Galactogil', 'Gạc y tế Nexcare', 'Dép sục người lớn', 'Chăn xô, chăn Linen TH khác', 'Ghế nôi Kinderkraft', 'Orion Nhật', 'Hạt nêm', 'Nôi, cũi Autoru', 'Khăn lau tóc Mollis', 'Bobby Fresh_Sơ Sinh', 'Nestle Gấu', 'Vinamilk 9 loại hạt', 'Cerelac Nutripuffs', 'Bô/ Miếng lót bồn cầu Concung Good', \"M'Smarty\", 'Quần lót tiện lợi ConCung Good', 'Nước rửa bình sữa Ecos', 'DT Nest', 'Vinamilk Organic Step 3', 'Tắm Thảo dược', 'Chăm sóc mắt V.Rohto', 'Nước giặt Animo', 'Máy rửa bình sữa Moaz BéBé', 'Băng vệ sinh Goodfeel', 'Bubs A2 Step 4', 'Bourbon', 'Dầu tỏi Omega', 'Phụ kiện treo nôi', 'Trợ ty', 'Chăn ga gối NIN HOUSE', 'Dầu tỏi Diệp Chi', 'Bình sữa, phụ kiện khác', 'Áo bé gái Animo Easy', 'Thuyền Xưa', 'Giày sơ sinh 119k S11', 'Sugus', 'Bellamy Step 3', 'Núm ty ConCung Good', 'Dầu gội Sunsilk', 'Ty ngậm ConCung Good', 'Grow plus vàng Step 4 Specialty', 'Morinaga Step 4', 'Immunel Step 4', 'Colosbaby D3K2 Step 1', 'Dược Khoa', 'Tắm gội thảo dược Lovely', 'Gói Hội Viên 12 tháng Mass', 'Tắm gội toàn thân Saforelle', 'Tăm, chỉ nha khoa', 'Yếm Bebear', 'Bodysuit đông vải mỏng', 'Tắm gội toàn thân Chicco', 'Colomi', 'Dầu gội Thái Dương', 'NAN Step 1', 'Nước tẩy trang Micellar', 'Sữa rửa mặt Cetaphil', 'Dụng cụ ăn uống Kuku', 'Wakodo Step 1', 'SynterAct', 'Oggi Gold Step 3 Specialty', 'Dụng cụ ăn uống ngừng bán', 'Giày tập đi 89k S13', '0-3Y Kẹp', 'Bình sữa Mam', 'Yếm nhập khẩu', 'Dép sục S25', 'Nước giặt Omo', 'Ty ngậm Pigeon', 'Enfa', 'Bubs Goat Step 4', 'Dầu tràm Tiên Ông', 'Sách tô màu, bóc dán, luyện chữ', 'Anmum', 'Từ điển - Thư viện hình ảnh', 'Grow Plus Fruity', 'Kem đánh răng Colgate', 'Famna', 'Tắm gội toàn thân khác', 'Bodysuit Modal set 2', 'Quần sơ sinh Animo', 'Bình sữa Wesser', 'Grow Plus đỏ', 'Khăn ướt Animo', 'Khăn tay đa năng Animo', 'Blackmores Step 1', 'Dalat Milk', 'Áo bé trai cũ', 'Bánh Trung Thu', 'Kem đánh răng Eucryl', 'Helio', 'Bprotected', 'Dung dịch vệ sinh phụ nữ Lovely', 'Dầu Cá hồi', 'Dầu gội Organic care', 'Xe đẩy Gluck', 'Green Bird', 'Viên sủi Fitolife', 'Enterogermina', 'Colos Gain Step 1 Specialty', 'Nước giặt Earth Choice', 'Kewpie', 'Optibac', 'Nước rửa chén Earth Choice', 'Nước rửa bình sữa Kodomo', 'Khăn tắm gia đình Cotton Animo', 'Dầu gội Wonmom', 'Huggies Thin & Soft_Tã Quần', 'Bình tập uống Bbox', 'Giày và Sandal bé gái tồn', 'Nước tẩy rửa toilet Earth Choice', 'Thịt hộp', 'Khăn lau hạ sốt Oribebe', 'Wellbaby', 'Hyperion', 'NAN Nga Step 3', 'Bình tập uống Animo', 'Colos Gain Step 3', 'Gối chặn TH khác', 'Glico', 'Búp bê', 'Lineabon K2D3', 'Moony Natural_Tã dán M-XXL', 'Bình sữa Agi', 'Nước cân bằng Milaganics', 'Optimum Step 3', 'Frappy', 'Tắm gội toàn thân Cetaphil', 'Phấn rôm & phấn thơm Johnson Baby', 'Alphagen Step 3', 'Hút sữa tay', 'Slide', 'Bình đun nước Animo', 'Hipp', 'Sữa tắm Lux', 'Hút sữa điện đôi Concung Good', 'Đồ chơi phát nhạc', 'Khăn mặt viên nén Mamamy Tropical', \"Nature's Gift\", 'Nước tẩy toilet VIM', '0-3Y Hộp thun', 'Khăn lau hạ sốt - Dr. Papie', 'Ty ngậm Mam', 'Bình sữa Olababy', 'Enfa US Step 3', 'Giấy vệ sinh Bless you Famille - Lốc 10', 'Goon Friend_Tã Quần', 'Meiwa', 'Grow Plus Đỏ Step 3 Specialty', 'Abbott Grow Step 1', 'Milo', 'Abbott Grow', 'Bobby Fresh_Tã Quần', 'Dưỡng tóc Tsubaki', 'TH Rice', 'Bellamy', 'Animo_Tã dán M-XL', 'Băng vệ sinh Sofy', 'Sữa tắm Aveeno', 'Kem đánh răng Splat', 'Ispoon', 'Humana Step 2', 'Đồ chơi đi biển', 'Nước muối sinh lý Fysoline', 'Tắm gội thảo dược Dao Care Baby', 'Khăn em bé cũ', 'Pampers Overnight_Tã Quần', 'Nước xả Enfant', 'Dầu Bơ', 'Haribo', 'Grinny', 'Kem đánh răng Darlie', 'Gumi Gumi', 'Glucerna Step 0', 'Clavie', 'Bebecook', 'Dielac Step 4', 'Xe tập đi Autoru', 'Nissin', 'Kem chống hăm Sudocream', 'Bao cao su Sagami', 'NAN Nga Step 1', 'Tắm gội toàn thân Organic care', 'Dầu gội Clear Men', 'Ocecri', 'Khăn ướt Hàn Quốc - Cheng Cheng', 'Áo ngực bầu', 'Túi/ Giỏ quần áo', 'DHC', 'Gối nằm cao su Animo', 'Growplus', 'Nôi kề giường Baby Pretty', 'Picnic', 'Nước giặt Essence', 'Nước tẩy trang Cocoon', 'Nước rửa bình sữa khác', 'Bình giữ nhiệt ngừng bán', 'Nhập vai bé gái', 'Khăn giấy rút bịch Cellox', 'MorningKids', 'Túi ngủ, swaddle', 'Cây Thị', 'Fruit Jelly', 'Băng đô tồn', 'Phụ kiện Animo', 'Yếm', 'Cosy', 'Famna Step 3', 'Bình sữa Kuku', 'Bánh gạo An', 'Bộ trải tiện ích EVERON', 'Xịt mũi Humer', 'Swiss Energy', 'Dầu gội Selsun', 'Chăm sóc da khác', 'Dầu tràm khác', 'Kem đánh răng Kuku', 'Optimum Step 2', 'Hikid Step 4', 'Bộ quần áo bé trai', 'Phụ kiện cho mẹ ngừng bán', 'Dầu gội Cocoon', 'Nước cân bằng Delon', 'Gobebe', 'Giày và sandal bé gái S17', 'Nước cân bằng Senka', 'Varna Complete', 'Goon Premium_Sơ Sinh', 'Happy Bites', 'Colosbaby', 'Xe tập đi gỗ', 'Whoopee_Sơ Sinh', 'Phụ kiện Kuku', 'NAN Supreme Step 1', 'Bình tập uống Ami', 'NAN Step 3', 'Con Bò Cười', 'Dụng cụ ăn uống Ami', 'Grow plus vàng Step 1 Specialty', 'Bình sữa, phụ kiện Beanstalk', 'Dụng cụ ăn uống Marcus, Tommee', 'GenKi_Tã Dán M-XXL', 'Mũ bảo hiểm/ bảo vệ đầu', 'Dầu tràm Mệ Đoan', 'Máy hâm sữa, tiệt trùng Kenjo', 'Kem dưỡng ẩm Hada Labo', 'Xe nhún ngừng bán', 'Kid&Young', 'Trị muỗi Remos', 'Bình tập uống Mam', 'Làm đẹp da', 'Áo sơ sinh Animo Easy', 'Thảm nằm chơi vải', 'Bình tập uống Pigeon', 'Gặm nướu lạnh', 'Devondale', 'Tắm gội toàn thân Carrie Junior', 'Đồ bơi tồn', 'Similac Protection Step 2', 'Dung dịch vệ sinh cho bé Saforelle', 'Bút thử thai QuickStick', 'Túi trữ sữa ngừng bán', 'M&M', 'Immunel Step 3', 'Ghế ngồi xe máy Concung Good', 'Wellkid', 'Nệm mát Kareal', 'Tắm gội toàn thân Aveeno', 'Dầu massage Johnson baby', 'Gối nằm bông gòn KUKU', 'Moony_Tã dán M-XXL', 'Merino', 'Funmore', 'Khăn mặt Animo', 'Chăn vải chần bông Animo', 'Tắm gội toàn thân cho bé Bzu Bzu', 'Gạc, rơ lưỡi Sachi', 'Huro', 'Văn phòng phẩm', 'Dầu tràm Cung Đình', 'TH True Water', 'Dầu gội Tresemme', 'Leibniz', 'Bình tập uống Concung Good', 'Aptamil Hà Lan Step 2', 'Hokka', 'Abbott Grow Step 2', 'Kem đánh răng Our herb story', 'Ofukuro', 'Kem chống nắng Skin Aqua', 'Khẩu trang', 'Orion', 'Miếng lót thấm sữa ChuchuBaby', 'Trị muỗi, côn trùng Anti-in', 'Áo bé trai', 'Gối ôm TH khác', 'Popin Cookin', 'Nước rửa bình sữa Animo', 'Khẩu trang cho bé Wakamono', 'Purelac Step 2', 'Friso', 'Blackmores', 'Bledina', 'Khăn ướt Moflix', 'Gói Hội Viên 3 tháng Mass', 'Bodysuit bé gái tam giác', 'Similac Step 1', 'Địu Joie', 'Máy xay ngừng bán', 'Nôi, cũi Kinderkraft', 'Sandal bé trai S19', 'Dầu Mù U U', 'Grow plus vàng', 'Chăn xô, chăn Linen Animo', 'Envy', 'Dielac Grow Plus Step 3 Specialty', '3M Pharma', 'Tã vải', 'Innerset', 'Bình sữa Beanstalk', 'Dép sục S19', 'Gadopax', 'Pampers Nhật_Tã Dán M-XXL', 'Bellamy Step 1', 'Quần bé trai', 'Gối nằm cũ', 'Beanstalk', 'Quần đông', 'Enfa C-sec Step 3', 'Nệm Đồng Phú', 'Kem chống nắng Aga-ae', 'CJ Food', 'Bộ bé gái Animo', 'Moony_Tã Quần', 'Meiji Step 3', 'Dầu Mắc ca', 'Metacare Step 1', 'Dielac Alpha Step 3', 'Fe max', 'Bình ủ cháo', \"Khăn tắm gia đình Sợi tre S'BABY\", 'Tấm lót xe đẩy/ Nôi sơ sinh', 'Friso Gold', 'Tắm gội toàn thân Arau', 'Varna Elite', 'Colosbaby Mom', 'Ikumune', 'ColosCare Step 1', 'Phụ kiện Mam', 'Trị muỗi, côn trùng Ola Papi', 'Dầu Mù U Thái Dương', 'Caryn_Miếng lót', 'Tắm gội toàn thân Pureen', 'Nước rửa bình sữa Dr.Spock', 'Vinamilk Organic Step 1', 'Royal Family', 'GMPharm', 'Abbott Grow Gold Step 4', 'Minion Happy', 'Xe tập đi Akigo', 'Grow plus xanh Step 4 Specialty', 'Confidence_Tã quần', 'Yếm ngừng bán', '0-12M Bodysuit đông vải mỏng', 'Kem đánh răng MIDBOS', 'Herbs of Gold', 'Khăn tay đa năng Poemy', 'Mayumi', 'Tấm lót chống thấm Mama', 'Sài Gòn Food', 'Colos Opti Step 1', 'Nước tẩy trang Simple', 'Rascal_Tã quần', 'Rockit', 'Dầu gội OGX', 'Elprairie AW_Sơ sinh', 'A2 milk', 'Dép sục cho bé tồn', \"Khăn tay đa năng S'BABY\", 'Muối & viên rửa chén Finish', 'Nước rửa tay Titione', 'Yoko Step 3', 'Kabrita Step 1', 'Hút sữa điện Gluck', 'Yoko', 'Hút sữa điện đôi Tommee Tippee', 'Dung dịch vệ sinh phụ nữ Fremfesh', 'Ferrero Rocher', 'Ptit', 'Hi-Chew', 'Dầu xả Pantene', 'Nước rửa bình sữa Arau', 'Quần legging bé gái', 'Phụ kiện Concung Good', 'Dầu tràm Con Yêu', 'Yếm Animo', 'Băng vệ sinh Kotex', 'Enfa A2 Step 4', 'Udon', 'Dầu xả Thái Dương', 'Moony_Sơ Sinh', 'Dưỡng da Cetaphil', 'Bodysuit bé trai tam giác', 'Eugica', 'Mega', 'Tấm lót chống thấm Vietmat', 'XO Mom', 'Gối ôm cũ', 'Cá hộp', 'Nệm mát Pureen', 'Gặm nướu khác', 'Nestle đặc trị - KM', 'Nan A2 Step 4', 'Khăn ướt Rascal + Friends', 'Hộp đựng phấn rôm', 'Khăn ăn Bless you', 'Kem chống hăm Bepanthen', 'Binggrae', 'Siêu nhân, robot', 'Grow Plus Xanh', 'Nước giặt D-Nee', 'Kem đánh răng PS', 'Caryn_Tã dán', 'Dino', 'Nhiệt kế Laica', 'Băng vệ sinh Molped', 'Tắm gội thảo dược Rosabela', 'Healthy Care', 'Núm ty Pigeon', 'Knor', 'Aptamil NZ Step 4', 'Ostercare', 'Hero lẻ 129k', 'Máy hâm sữa, tiệt trùng Fatz', 'Gối nằm cao su TH khác', 'Nước cân bằng Simple', 'Bình đun nước Fatz', 'Bình đun nước Bear', 'Bodysuit Animo Easy', \"Nature's Way Trio\", 'NAN Step 4', 'Merries Volume Up_Tã quần', 'Khăn gạc, khăn sữa Cotton Animo', 'Quaker', 'NAN Nga Step 2', 'Máy hâm sữa, tiệt trùng Boboduck', '137', 'Giày sơ sinh 149k S10', 'Sữa rửa mặt Neutrogena', 'Kem đánh răng Kindee', 'Giày chút chít 229k S14', '0-12M Nón khăn voan', 'Vihoney', 'Dép sục S23', 'Muối tắm Bảo Nhiên', 'Phấn rôm Goongbe', \"Kem dưỡng đầu ti Palmer's\", 'Nước lau sàn Gift', 'Khăn khô Mamamy', 'Ruột gối EVERON', 'Nước xả Goongbe', 'Aga', \"Khăn ăn E'mos\", 'Khử mùi Dove', 'Khăn bếp Bless you', 'Kinohimitsu', 'Merries_Tã Quần', 'Purelac Step 1', 'Nước muối sinh lý Physiodose', 'TH', 'Alvins', 'Phụ kiện khác', 'Sprite', 'Trị muỗi Mosquitan', 'Ghế ngồi ô tô Joie', 'Bodysuit đông vải dày', 'Khăn tắm Yko', 'Nước rửa tay Organic care', 'Sữa đêm Fruto', 'ILDong số 2', 'Agnesi', 'Dielac Grow', 'Khăn tắm trẻ em TH khác', 'Pringles', 'Áo bé trai Animo Easy', 'Gối chặn cũ', 'Khăn giấy bỏ túi Tempo - Lốc 6', 'Rocket 1h', 'Bình trữ sữa', 'Yakult', 'Kagome', 'Tủ, kệ, bàn ghế', 'Que Thử Thai Quickstick', 'Colos Opti Step 3']\n"
     ]
    }
   ],
   "source": [
    "print(df_item['category'].unique().to_list())"
   ]
  },
  {
   "cell_type": "code",
   "execution_count": 22,
   "id": "a3cb1131",
   "metadata": {},
   "outputs": [],
   "source": [
    "import pandas as pd\n",
    "df_item['age_group'].unique().to_pandas().to_csv('E:/KHMT2023_CS_UIT/05_C_Python_For_ML/Team_Github/05_C_Python_For_ML/Task_2.1_Important_Feature/age_group.csv', index=False)"
   ]
  },
  {
   "cell_type": "code",
   "execution_count": 23,
   "id": "0c6d5c31",
   "metadata": {},
   "outputs": [],
   "source": [
    "df_item['category'].unique().to_pandas().to_csv('E:/KHMT2023_CS_UIT/05_C_Python_For_ML/Team_Github/05_C_Python_For_ML/Task_2.1_Important_Feature/category.csv', index=False)"
   ]
  },
  {
   "cell_type": "code",
   "execution_count": 31,
   "id": "62e36821",
   "metadata": {},
   "outputs": [
    {
     "ename": "",
     "evalue": "",
     "output_type": "error",
     "traceback": [
      "\u001b[1;31mThe Kernel crashed while executing code in the current cell or a previous cell. \n",
      "\u001b[1;31mPlease review the code in the cell(s) to identify a possible cause of the failure. \n",
      "\u001b[1;31mClick <a href='https://aka.ms/vscodeJupyterKernelCrash'>here</a> for more info. \n",
      "\u001b[1;31mView Jupyter <a href='command:jupyter.viewOutput'>log</a> for further details."
     ]
    }
   ],
   "source": [
    "import polars as pl\n",
    "import datetime\n",
    "\n",
    "# Giả sử df_item chứa các cột 'category_l1', 'category_l2', 'category_l3', 'description', 'description_new'\n",
    "# Giả sử df_purchase chứa các cột 'user_id', 'item_id', 'timestamp'\n",
    "\n",
    "# Chuyển 'timestamp' thành kiểu dữ liệu DateTime\n",
    "df_purchase = df_purchase.with_columns([\n",
    "    pl.col('timestamp').cast(pl.Datetime).alias('timestamp_converted')  # Không cần fmt\n",
    "])\n",
    "\n",
    "# Tạo một DataFrame mới với các cột 'user_id' và 'item_id' từ df_purchase và thông tin từ df_item\n",
    "df_combined = df_purchase.join(df_item, on='item_id', how='left')\n",
    "\n",
    "# Tạo cột first_day_step_1: Ngày đầu tiên mua item có category chứa 'step 1'\n",
    "df_combined = df_combined.with_columns([\n",
    "    pl.when(pl.col('category').str.contains('step 1', case=False))\n",
    "    .then(pl.col('timestamp'))\n",
    "    .otherwise(pl.lit(None).cast(pl.Datetime))\n",
    "    .alias('first_day_step_1')\n",
    "])\n",
    "\n",
    "# Tính tuổi dựa trên first_day_step_1\n",
    "current_date = pl.lit(datetime.date.today())\n",
    "df_combined = df_combined.with_columns([\n",
    "    (current_date - pl.col('first_day_step_1')).alias('age_by_step1')\n",
    "])\n",
    "\n",
    "# Tạo cột first_day_age: Ngày đầu tiên mua item có age_group chứa các giá trị liên quan đến độ tuổi 0M, 0-3M, 0-2M\n",
    "df_combined = df_combined.with_columns([\n",
    "    pl.when(pl.col('age_group').str.contains('0M|0-3M|0-2M', case=False))\n",
    "    .then(pl.col('timestamp'))\n",
    "    .otherwise(pl.lit(None).cast(pl.Datetime))\n",
    "    .alias('first_day_age')\n",
    "])\n",
    "\n",
    "# Tính tuổi dựa trên first_day_age\n",
    "df_combined = df_combined.with_columns([\n",
    "    (current_date - pl.col('first_day_age')).alias('age_by_age')\n",
    "])\n",
    "\n",
    "# Tạo cột first_day_milk: Ngày đầu tiên mua item có category chứa các từ khóa liên quan đến sữa\n",
    "milk_keywords = ['Máy hâm sữa', 'Hút sữa', 'trữ sữa', 'pha sữa', 'bình sữa', 'ủ sữa', 'thấm sữa', 'khăn sữa']\n",
    "df_combined = df_combined.with_columns([\n",
    "    pl.when(pl.col('category').str.contains('|'.join(milk_keywords), case=False))\n",
    "    .then(pl.col('timestamp'))\n",
    "    .otherwise(pl.lit(None).cast(pl.Datetime))\n",
    "    .alias('first_day_milk')\n",
    "])\n",
    "\n",
    "# Tính tuổi dựa trên first_day_milk\n",
    "df_combined = df_combined.with_columns([\n",
    "    (current_date - pl.col('first_day_milk')).alias('age_by_milk')\n",
    "])\n",
    "\n",
    "# Chỉ giữ lại các cột cần thiết\n",
    "df_result = df_combined.select([\n",
    "    'user_id', 'item_id', 'first_day_step_1', 'age_by_step1', 'first_day_age', 'age_by_age', 'first_day_milk', 'age_by_milk'\n",
    "])\n",
    "\n",
    "# Kiểm tra kết quả\n",
    "print(df_result.head())\n"
   ]
  }
 ],
 "metadata": {
  "kernelspec": {
   "display_name": "Python 3",
   "language": "python",
   "name": "python3"
  },
  "language_info": {
   "codemirror_mode": {
    "name": "ipython",
    "version": 3
   },
   "file_extension": ".py",
   "mimetype": "text/x-python",
   "name": "python",
   "nbconvert_exporter": "python",
   "pygments_lexer": "ipython3",
   "version": "3.11.8"
  }
 },
 "nbformat": 4,
 "nbformat_minor": 5
}
