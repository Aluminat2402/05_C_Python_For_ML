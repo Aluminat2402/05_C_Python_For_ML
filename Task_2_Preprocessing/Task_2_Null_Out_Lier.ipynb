{
  "cells": [
    {
      "cell_type": "markdown",
      "id": "a966b847",
      "metadata": {},
      "source": [
        "# User chunk"
      ]
    },
    {
      "cell_type": "markdown",
      "id": "5e2447be",
      "metadata": {},
      "source": [
        "## Loại bỏ cột"
      ]
    },
    {
      "cell_type": "markdown",
      "id": "b5b9cb61",
      "metadata": {},
      "source": [
        "| Cột              | Giữ / Loại bỏ       | Lý do                                                                                                               |\n",
        "| ---------------- | ------------------- | ------------------------------------------------------------------------------------------------------------------- |\n",
        "| `customer_id`, `user_id`    | ✅ Giữ| các biến định danh, không mang ý nghĩa thống kê trong phân tích dữ liệu. Nhưng  có thể giữ lại để liên kết với purchase chunk và item chunk|\n",
        "| `gender`         | ✅ Giữ               | Có thể ảnh hưởng đến hành vi mua hàng                                                                               |\n",
        "| `location`       | ✅ Giữ               | Thể hiện mã khu vực – hữu ích trong phân tích địa lý                                                                |\n",
        "| `province`       | ✅ Giữ               | Dùng phân tích xu hướng theo địa phương                                                                             |\n",
        "| `region`         | ✅ Giữ               | Cung cấp thông tin phân cấp cao hơn, có thể hữu ích trong mô hình                                                   |\n",
        "| `membership`     | ✅ Giữ               | Ảnh hưởng lớn đến hành vi và giá trị khách hàng                                                                     |\n",
        "| `sync_status_id` | ❌ Loại bỏ           | Gần như toàn bộ giá trị Null, phần còn lại đều bằng 2 → không có giá trị phân biệt                                  |\n",
        "| `location_name`  | ❌ Loại bỏ           | Dữ liệu quá chi tiết, rời rạc và không khái quát được                                                               |\n",
        "| `install_app`    | ✅ Giữ               | Kênh cài đặt có thể ảnh hưởng đến tần suất mua hàng                                                                 |\n",
        "| `district`       | ⚙️ Giữ có điều kiện | Có thể giữ nếu cần phân tích chi tiết theo khu vực; nếu không, loại bỏ do trùng lặp thông tin địa lý với `province` |\n",
        "| `is_deleted`     | ❌ Loại bỏ           | Toàn bộ là `False`, không mang thông tin                                                                            |\n"
      ]
    },
    {
      "cell_type": "markdown",
      "id": "817a0d2c",
      "metadata": {},
      "source": [
        "## Xử lý NUll và Outlier"
      ]
    },
    {
      "cell_type": "markdown",
      "id": "8dca427e",
      "metadata": {},
      "source": [
        "| Cột              | Giữ / Loại bỏ       | Lý do                                                                                                               |\n",
        "| ---------------- | ------------------- | ------------------------------------------------------------------------------------------------------------------- |\n",
        "| `customer_id`, `user_id`    | ✅ Giữ| Không có Null và Outlier|\n",
        "| `gender`         | ✅ Giữ               | Không có Null và Outlier|\n",
        "| `location`       | ✅ Giữ               | Không có Null và Outlier|\n",
        "| `province`       | ✅ Giữ               | Cần xử lý tên tỉnh và thành phố do chưa thống nhất cách đặt tên |\n",
        "| `region`         | ✅ Giữ               | Không có Null và Outlier|\n",
        "| `membership`     | ✅ Giữ               | Không có Null và Outlier   |\n",
        "| `install_app`    | ✅ Giữ               | Không có Null và Outlier |"
      ]
    },
    {
      "cell_type": "code",
      "execution_count": 1,
      "id": "1b2ad405",
      "metadata": {},
      "outputs": [],
      "source": [
        "import os\n",
        "import polars as pl\n",
        "import matplotlib.pyplot as plt\n",
        "import seaborn as sns\n",
        "import numpy as np"
      ]
    },
    {
      "cell_type": "code",
      "execution_count": 2,
      "id": "2d2a0933",
      "metadata": {},
      "outputs": [],
      "source": [
        "def read_parquet_by_type(train_path: str):\n",
        "    # Lấy tất cả các file parquet trong thư mục\n",
        "    files = [os.path.join(train_path, f) for f in os.listdir(train_path) if f.endswith('.parquet')]\n",
        "    \n",
        "    # Phân loại các file theo loại tên\n",
        "    user_chunk_files = [file for file in files if 'user_chunk' in file]\n",
        "    purchase_history_chunk_files = [file for file in files if 'purchase_history_daily_chunk' in file]\n",
        "    item_chunk_files = [file for file in files if 'item_chunk' in file]\n",
        "    \n",
        "    # Đọc các file riêng biệt thành DataFrame\n",
        "    user_chunk_df = pl.concat([pl.read_parquet(file) for file in user_chunk_files]) if user_chunk_files else None\n",
        "    purchase_history_chunk_df = pl.concat([pl.read_parquet(file) for file in purchase_history_chunk_files]) if purchase_history_chunk_files else None\n",
        "    item_chunk_df = pl.concat([pl.read_parquet(file) for file in item_chunk_files]) if item_chunk_files else None\n",
        "    \n",
        "    # Trả về một dictionary chứa các DataFrame\n",
        "    return {\n",
        "        \"user_chunk\": user_chunk_df,\n",
        "        \"purchase_history_chunk\": purchase_history_chunk_df,\n",
        "        \"item_chunk\": item_chunk_df\n",
        "    }"
      ]
    },
    {
      "cell_type": "code",
      "execution_count": 3,
      "id": "b2126c08",
      "metadata": {},
      "outputs": [],
      "source": [
        "train_path = 'E:/KHMT2023_CS_UIT/05_C_Python_For_ML/recommendation_dataset'\n",
        "dataframes = read_parquet_by_type(train_path)\n",
        "\n",
        "df_user = dataframes[\"user_chunk\"]\n",
        "df_purchase = dataframes[\"purchase_history_chunk\"]\n",
        "df_item = dataframes[\"item_chunk\"]"
      ]
    },
    {
      "cell_type": "markdown",
      "id": "030c02d7",
      "metadata": {},
      "source": [
        "## Xử lý Outlier"
      ]
    },
    {
      "cell_type": "code",
      "execution_count": 4,
      "id": "0ff9e5cc",
      "metadata": {},
      "outputs": [
        {
          "name": "stdout",
          "output_type": "stream",
          "text": [
            "Unique values in column 'province' after replacement:\n",
            "['Phú Yên', 'Thừa Thiên Huế', 'Cần Thơ', 'An Giang', 'Hải Dương', 'Hòa Bình', 'Quảng Trị', 'Bình Thuận', 'Thanh Hóa', 'Hà Tĩnh', 'Bình Định', 'Phú Thọ', 'Gia Lai', 'Cao Bằng', 'Vĩnh Phúc', 'Bình Phước', 'Sóc Trăng', 'Vĩnh Long', 'Hà Nội', 'Lai Châu', 'Thái Bình', 'Đồng Nai', 'Hải Phòng', 'Ninh Bình', 'Trà Vinh', 'Bắc Kạn', 'Ninh Thuận', 'Thái Nguyên', 'Khánh Hòa', 'Kiên Giang', 'Đà Nẵng', 'Hậu Giang', 'Bạc Liêu', 'Tiền Giang', 'Hà Nam', 'Bắc Ninh', 'Quảng Nam', 'Đắk Nông', 'Quảng Ninh', 'Bến Tre', 'Cà Mau', 'Điện Biên', 'Long An', 'Lạng Sơn', 'Nam Định', 'Quảng Bình', 'Hưng Yên', 'Hồ Chí Minh', 'Kon Tum', 'Lào Cai', 'Nghệ An', 'Yên Bái', 'Bắc Giang', 'Quảng Ngãi', 'Đồng Tháp', 'Lâm Đồng', 'Bà Rịa - Vũng Tàu', 'Bình Dương', 'Đắk Lắk', 'Sơn La', 'Hà Giang', 'Tây Ninh', 'Tuyên Quang']\n"
          ]
        }
      ],
      "source": [
        "# Thay thế các giá trị \"Thành Phố\" và \"Tỉnh\" trong cột 'province'\n",
        "df_user = df_user.with_columns(\n",
        "    pl.col('province')\n",
        "    .str.replace('Thành Phố ', '')  # Loại bỏ \"Thành Phố\"\n",
        "    .str.replace('Tỉnh ', '')  # Loại bỏ \"Tỉnh\"\n",
        "    .alias('province')  # Đặt lại tên cột sau khi thay thế\n",
        ")\n",
        "\n",
        "# In các giá trị duy nhất sau khi thay thế\n",
        "unique_provinces = df_user['province'].unique().to_list()\n",
        "print(\"Unique values in column 'province' after replacement:\")\n",
        "print(unique_provinces)"
      ]
    },
    {
      "cell_type": "markdown",
      "id": "349c3aea",
      "metadata": {},
      "source": [
        "# Purchase chunk"
      ]
    },
    {
      "cell_type": "markdown",
      "id": "2a437fcc",
      "metadata": {},
      "source": [
        "## Loại bỏ cột\n"
      ]
    },
    {
      "cell_type": "markdown",
      "id": "8740af88",
      "metadata": {},
      "source": [
        "| Cột            | Giữ / Loại bỏ | Lý do                                                                                                                                             |\n",
        "| -------------- | ------------- | ------------------------------------------------------------------------------------------------------------------------------------------------- |\n",
        "| `timestamp`    | ✅ Giữ         | Biểu diễn thời gian giao dịch, có thể phân tích xu hướng theo thời gian; cần chuyển từ UNIX timestamp sang dạng datetime để thuận tiện phân tích. |\n",
        "| `user_id`      | ✅ Giữ         | Biến định danh người dùng, cần để liên kết với bảng `User Chunk`; không có ý nghĩa thống kê độc lập nhưng quan trọng cho join dữ liệu.            |\n",
        "| `item_id`      | ✅ Giữ         | Dùng để xác định sản phẩm và phân tích tần suất, mức độ phổ biến của mặt hàng.                                                                    |\n",
        "| `event_type`   | ❌ Loại bỏ     | Toàn bộ dữ liệu chỉ có giá trị “Purchase” → không mang thông tin phân biệt.                                                                       |\n",
        "| `event_value`  | ❌ Loại bỏ     | Tương quan hoàn hảo với `quantity` (r = 1.0) → gây multicollinearity, nên giữ `quantity`.                                                         |\n",
        "| `price`        | ✅ Giữ         | Biến quan trọng để phân tích doanh thu, hành vi giá và khuyến mãi; cần xử lý outlier (trimming hoặc winsorizing).                                 |\n",
        "| `quantity`     | ✅ Giữ         | Thể hiện số lượng mua; cần xử lý outlier (giá trị quá lớn có thể là đơn hàng sỉ hoặc lỗi).                                                        |\n",
        "| `date_key`     | ❌ Loại bỏ     | Tương quan gần tuyệt đối với `timestamp` (r ≈ 0.998) → dư thừa thông tin thời gian.                                                               |\n",
        "| `customer_id`  | ✅ Giữ         | Biến định danh khách hàng, cần để liên kết với bảng `User Chunk`.                                                                                 |\n",
        "| `created_date` | ✅ Giữ         | Thời điểm tạo đơn hàng, có thể khác thời điểm mua (timestamp); hữu ích trong phân tích hành vi và vận hành.                                       |\n",
        "| `payment`      | ✅ Giữ         | Thông tin phương thức thanh toán (cash, transfer, v.v.) → quan trọng trong phân tích kênh thanh toán và hành vi người dùng.                       |\n",
        "| `location`     | ✅ Giữ         | Cho phép phân tích xu hướng mua hàng theo khu vực; không có outlier.                                                                              |\n",
        "| `discount`     | ✅ Giữ         | Thể hiện mức chiết khấu; cần chuẩn hóa hoặc winsorize do phân bố lệch và nhiều outlier.                                                           |\n",
        "| `channel`      | ✅ Giữ         | Phân biệt kênh bán hàng (In-Store, Chat, CRM, v.v.), có mối liên hệ mạnh với `payment` → hữu ích trong phân tích hành vi.                         |\n",
        "| `is_deleted`   | ❌ Loại bỏ     | Toàn bộ giá trị là `False` → không mang thông tin phân biệt.                                                                                      |\n"
      ]
    },
    {
      "cell_type": "markdown",
      "id": "a3302f9a",
      "metadata": {},
      "source": [
        "## Xử lý NULL Outlier\n"
      ]
    },
    {
      "cell_type": "markdown",
      "id": "c2e77267",
      "metadata": {},
      "source": [
        "| Cột            | Giữ / Loại bỏ | Lý do                                                                                                                                             |\n",
        "| -------------- | ------------- | ------------------------------------------------------------------------------------------------------------------------------------------------- |\n",
        "| `timestamp`    | ✅ Giữ         | Không có NULL và Outlier |\n",
        "| `user_id`      | ✅ Giữ         | Không có NULL và Outlier            |\n",
        "| `item_id`      | ✅ Giữ         | Không có NULL và Outlier                                                   |\n",
        "| `price`        | ✅ Giữ         | Biến quan trọng để phân tích doanh thu, hành vi giá và khuyến mãi; cần xử lý outlier (trimming hoặc winsorizing).                                 |\n",
        "| `quantity`     | ✅ Giữ         | Thể hiện số lượng mua; cần xử lý outlier (giá trị quá lớn có thể là đơn hàng sỉ hoặc lỗi).                                                        |\n",
        "| `customer_id`  | ✅ Giữ         | Không có NULL và Outlier  |\n",
        "| `created_date` | ✅ Giữ         | Không có NULL và Outlier|\n",
        "| `payment`      | ✅ Giữ         |Không có NULL và Outlier                  |\n",
        "| `location`     | ✅ Giữ         | Không có NULL và Outlier          |\n",
        "| `discount`     | ✅ Giữ         | Thể hiện mức chiết khấu; cần chuẩn hóa hoặc winsorize do phân bố lệch và nhiều outlier.                                                           |\n",
        "| `channel`      | ✅ Giữ         | Không có NULL và Outlier            |"
      ]
    },
    {
      "cell_type": "code",
      "execution_count": 5,
      "id": "270a6e08",
      "metadata": {},
      "outputs": [
        {
          "name": "stdout",
          "output_type": "stream",
          "text": [
            "Purchase Chunk DataFrame:\n"
          ]
        },
        {
          "data": {
            "text/html": [
              "<div><style>\n",
              ".dataframe > thead > tr,\n",
              ".dataframe > tbody > tr {\n",
              "  text-align: right;\n",
              "  white-space: pre-wrap;\n",
              "}\n",
              "</style>\n",
              "<small>shape: (5, 3)</small><table border=\"1\" class=\"dataframe\"><thead><tr><th>price</th><th>quantity</th><th>discount</th></tr><tr><td>decimal[38,4]</td><td>i32</td><td>decimal[38,4]</td></tr></thead><tbody><tr><td>49000.0000</td><td>1</td><td>0.0000</td></tr><tr><td>69000.0000</td><td>1</td><td>0.0000</td></tr><tr><td>75000.0000</td><td>2</td><td>0.0000</td></tr><tr><td>58500.0000</td><td>2</td><td>13000.0000</td></tr><tr><td>89000.0000</td><td>1</td><td>10000.0000</td></tr></tbody></table></div>"
            ],
            "text/plain": [
              "shape: (5, 3)\n",
              "┌───────────────┬──────────┬───────────────┐\n",
              "│ price         ┆ quantity ┆ discount      │\n",
              "│ ---           ┆ ---      ┆ ---           │\n",
              "│ decimal[38,4] ┆ i32      ┆ decimal[38,4] │\n",
              "╞═══════════════╪══════════╪═══════════════╡\n",
              "│ 49000.0000    ┆ 1        ┆ 0.0000        │\n",
              "│ 69000.0000    ┆ 1        ┆ 0.0000        │\n",
              "│ 75000.0000    ┆ 2        ┆ 0.0000        │\n",
              "│ 58500.0000    ┆ 2        ┆ 13000.0000    │\n",
              "│ 89000.0000    ┆ 1        ┆ 10000.0000    │\n",
              "└───────────────┴──────────┴───────────────┘"
            ]
          },
          "execution_count": 5,
          "metadata": {},
          "output_type": "execute_result"
        }
      ],
      "source": [
        "# Các cột cần giữ lại \n",
        "cols_to_solve_purchase = [\n",
        "    'price',  'quantity', 'discount']\n",
        "\n",
        "# Chọn các cột cần giữ\n",
        "df_purchase = df_purchase.select(cols_to_solve_purchase)\n",
        "\n",
        "print(\"Purchase Chunk DataFrame:\")\n",
        "df_purchase.head()\n"
      ]
    },
    {
      "cell_type": "markdown",
      "id": "e7ab6ce7",
      "metadata": {},
      "source": [
        "### Xử lý discount bằng cách chuyển sang phần trăm dựa trên price"
      ]
    },
    {
      "cell_type": "code",
      "execution_count": 6,
      "id": "590661a3",
      "metadata": {},
      "outputs": [
        {
          "name": "stdout",
          "output_type": "stream",
          "text": [
            "shape: (5, 3)\n",
            "┌───────────────┬───────────────┬─────────────────────┐\n",
            "│ price         ┆ discount      ┆ discount_percentage │\n",
            "│ ---           ┆ ---           ┆ ---                 │\n",
            "│ decimal[38,4] ┆ decimal[38,4] ┆ decimal[38,4]       │\n",
            "╞═══════════════╪═══════════════╪═════════════════════╡\n",
            "│ 49000.0000    ┆ 0.0000        ┆ 0.0000              │\n",
            "│ 69000.0000    ┆ 0.0000        ┆ 0.0000              │\n",
            "│ 75000.0000    ┆ 0.0000        ┆ 0.0000              │\n",
            "│ 58500.0000    ┆ 13000.0000    ┆ 0.2222              │\n",
            "│ 89000.0000    ┆ 10000.0000    ┆ 0.1124              │\n",
            "└───────────────┴───────────────┴─────────────────────┘\n"
          ]
        }
      ],
      "source": [
        "import polars as pl\n",
        "\n",
        "# Giả sử df_item là DataFrame chứa các cột 'discount' và 'price'\n",
        "df_purchase = df_purchase.with_columns(\n",
        "    # Tạo cột discount_percentage với giá trị từ 0 đến 1\n",
        "    (pl.col(\"discount\") / pl.col(\"price\")).alias(\"discount_percentage\")\n",
        ")\n",
        "\n",
        "# Kiểm tra kết quả\n",
        "print(df_purchase[['price', 'discount', 'discount_percentage']].head())\n"
      ]
    },
    {
      "cell_type": "markdown",
      "id": "96ed49bf",
      "metadata": {},
      "source": [
        "### Xử lý Price bằng Winsorizing"
      ]
    },
    {
      "cell_type": "code",
      "execution_count": 11,
      "id": "009e46d1",
      "metadata": {},
      "outputs": [
        {
          "name": "stdout",
          "output_type": "stream",
          "text": [
            "Summary statistics after Winsorizing (Price):\n",
            "shape: (9, 2)\n",
            "┌────────────┬───────────────┐\n",
            "│ statistic  ┆ price         │\n",
            "│ ---        ┆ ---           │\n",
            "│ str        ┆ f64           │\n",
            "╞════════════╪═══════════════╡\n",
            "│ count      ┆ 3.5729825e7   │\n",
            "│ null_count ┆ 0.0           │\n",
            "│ mean       ┆ 157778.138713 │\n",
            "│ std        ┆ 153952.175963 │\n",
            "│ min        ┆ 0.0444        │\n",
            "│ 25%        ┆ 48316.3914    │\n",
            "│ 50%        ┆ 87000.0       │\n",
            "│ 75%        ┆ 244000.0      │\n",
            "│ max        ┆ 537525.4129   │\n",
            "└────────────┴───────────────┘\n"
          ]
        }
      ],
      "source": [
        "import polars as pl\n",
        "\n",
        "# Giả sử df_purchase là DataFrame Polars chứa cột 'price'\n",
        "\n",
        "# Tính IQR cho 'price'\n",
        "Q1_price = df_purchase['price'].quantile(0.25)\n",
        "Q3_price = df_purchase['price'].quantile(0.75)\n",
        "IQR_price = Q3_price - Q1_price\n",
        "\n",
        "# Giới hạn cho Winsorizing 'price'\n",
        "lower_limit_price = Q1_price - 1.5 * IQR_price\n",
        "upper_limit_price = Q3_price + 1.5 * IQR_price\n",
        "\n",
        "# Winsorizing 'price': Thay thế các giá trị ngoài giới hạn bằng giới hạn\n",
        "df_purchase = df_purchase.with_columns(\n",
        "    pl.when(pl.col('price') < lower_limit_price)\n",
        "    .then(lower_limit_price)\n",
        "    .otherwise(\n",
        "        pl.when(pl.col('price') > upper_limit_price)\n",
        "        .then(upper_limit_price)\n",
        "        .otherwise(pl.col('price'))  # Giữ nguyên nếu trong phạm vi\n",
        "    ).alias('price')\n",
        ")\n",
        "\n",
        "# Kiểm tra giá trị sau khi winsorizing\n",
        "print(\"Summary statistics after Winsorizing (Price):\")\n",
        "print(df_purchase.select('price').describe())\n"
      ]
    },
    {
      "cell_type": "markdown",
      "id": "90a2bc28",
      "metadata": {},
      "source": [
        "### Quantity giữ lại do đây là feature có thể tạo feature mới"
      ]
    },
    {
      "cell_type": "code",
      "execution_count": 7,
      "id": "ce636546",
      "metadata": {},
      "outputs": [
        {
          "name": "stdout",
          "output_type": "stream",
          "text": [
            "Unique values in column 'quantity' after replacement:\n",
            "[1, 2, 3, 4, 5, 6, 7, 8, 9, 10, 11, 12, 13, 14, 15, 16, 17, 18, 19, 20, 21, 22, 23, 24, 25, 26, 27, 28, 29, 30, 31, 32, 33, 34, 35, 36, 37, 38, 39, 40, 41, 42, 43, 44, 45, 46, 47, 48, 49, 50, 51, 52, 53, 54, 55, 56, 57, 58, 60, 62, 63, 64, 65, 68, 70, 72, 74, 75, 79, 80, 82, 84, 88, 90, 96, 98, 100, 108, 120, 125, 128, 130, 132, 141, 144, 168, 188, 192, 216, 240]\n"
          ]
        }
      ],
      "source": [
        "unique_provinces = df_purchase['quantity'].unique().to_list()\n",
        "print(\"Unique values in column 'quantity' after replacement:\")\n",
        "print(unique_provinces)"
      ]
    },
    {
      "cell_type": "markdown",
      "id": "6d42254e",
      "metadata": {},
      "source": [
        "# Item chunk"
      ]
    },
    {
      "cell_type": "markdown",
      "id": "33035d3d",
      "metadata": {},
      "source": [
        "## Loại bỏ cột"
      ]
    },
    {
      "cell_type": "markdown",
      "id": "bf90eb5e",
      "metadata": {},
      "source": [
        "| Cột                  | Giữ / Loại bỏ       | Lý do                                                                                                                                                    |\n",
        "| -------------------- | ------------------- | -------------------------------------------------------------------------------------------------------------------------------------------------------- |\n",
        "| `item_id`            | ❌ Loại bỏ           | Mỗi giá trị đều duy nhất, chỉ mang tính định danh, không cung cấp thông tin thống kê; giữ lại chỉ khi cần join với bảng khác (`purchase`).               |\n",
        "| `is_deleted`         | ❌ Loại bỏ           | Tất cả giá trị đều là `False` → không mang thông tin phân biệt.                                                                                          |\n",
        "| `created_date`       | ✅ Giữ               | Cho biết thời điểm tạo sản phẩm, có thể dùng phân tích vòng đời sản phẩm, xác định hàng cũ / hàng mới.                                                   |\n",
        "| `creation_timestamp` | ✅ Giữ               | Biểu diễn thời gian tạo ở dạng timestamp, có thể dùng phân tích xu hướng sản phẩm theo thời gian; nên chuyển sang dạng datetime để trực quan hóa dễ hơn. |\n",
        "| `price`              | ✅ Giữ               | Biến chính trong phân tích lợi nhuận và định giá sản phẩm; có nhiều outlier nên cần trimming hoặc winsorizing trước khi phân tích.                       |\n",
        "| `gp` (gross profit)  | ✅ Giữ               | Thể hiện lợi nhuận gộp, tương quan cao với `price` (r = 0.8867); có ý nghĩa kinh doanh mạnh, dùng để phân tích hiệu quả từng nhóm sản phẩm.              |\n",
        "| `weight`             | ⚙️ Giữ có điều kiện | Có nhiều giá trị 0 hoặc “Không xác định”; có thể giữ lại nếu muốn phân tích theo khối lượng hoặc vận chuyển, nhưng cần chuẩn hóa đơn vị đo.              |\n",
        "| `category_l1`        | ✅ Giữ               | Danh mục cấp 1 – hữu ích cho phân tích xu hướng ngành hàng lớn, nhưng cần xử lý mất cân đối khi huấn luyện mô hình.                                      |\n",
        "| `category_l2`        | ✅ Giữ               | Danh mục cấp 2 – thể hiện rõ sự khác biệt trong khả năng tiêu thụ sản phẩm (`sale_status` khác nhau đáng kể giữa các nhóm).                              |\n",
        "| `category_l3`        | ✅ Giữ               | Danh mục cấp 3 – phản ánh phân khúc chi tiết của sản phẩm; cần gộp nhóm các nhãn hiếm (rare categories) để giảm nhiễu khi mã hóa.                        |\n",
        "| `brand`              | ⚙️ Giữ có điều kiện | Khoảng 70% giá trị bị thiếu hoặc “Không xác định”; có thể giữ nếu được làm sạch và gộp nhóm “Unknown”, nếu không thì nên loại bỏ do thiếu dữ liệu.       |\n",
        "| `manufacturer`       | ❌ Loại bỏ           | Hơn 94% giá trị “Không xác định” → không mang thông tin hữu ích.                                                                                         |\n",
        "| `gender_target`      | ⚙️ Giữ có điều kiện | 66% “Không xác định”, phần còn lại có thể hữu ích trong phân tích hành vi theo giới tính nếu được làm sạch.                                            |\n",
        "| `age_group`          | ✅ Giữ               | Cung cấp thông tin độ tuổi mục tiêu (dù mất cân đối nhưng vẫn hữu ích để mô tả sản phẩm).                                                                |\n",
        "| `sale_status`        | ✅ Giữ               | Phản ánh tình trạng bán (bán được / không bán được); có mối liên hệ rõ với `category_l2`, hữu ích cho phân tích sức tiêu thụ.                            |\n",
        "| `p_id`               | ✅ Giữ               | Liên quan đến thế hệ mã hàng; giúp nhận diện vòng đời sản phẩm, đặc biệt trong phân tích hàng lỗi thời.                                                  |\n"
      ]
    },
    {
      "cell_type": "markdown",
      "id": "37cc8709",
      "metadata": {},
      "source": [
        "## Xử lý Outlier"
      ]
    },
    {
      "cell_type": "markdown",
      "id": "05215993",
      "metadata": {},
      "source": [
        "| Cột                  | Giữ / Loại bỏ       | Lý do                                                                                                                                                    |\n",
        "| -------------------- | ------------------- | -------------------------------------------------------------------------------------------------------------------------------------------------------- |\n",
        "| `created_date`       | ✅ Giữ               | Cho biết thời điểm tạo sản phẩm, có thể dùng phân tích vòng đời sản phẩm, xác định hàng cũ / hàng mới.                                                   |\n",
        "| `creation_timestamp` | ✅ Giữ               | Biểu diễn thời gian tạo ở dạng timestamp, có thể dùng phân tích xu hướng sản phẩm theo thời gian; nên chuyển sang dạng datetime để trực quan hóa dễ hơn. |\n",
        "| `price`              | ✅ Giữ               | Biến chính trong phân tích lợi nhuận và định giá sản phẩm; có nhiều outlier nên cần trimming hoặc winsorizing trước khi phân tích.                       |\n",
        "| `gp` (gross profit)  | ✅ Giữ               | Thể hiện lợi nhuận gộp, tương quan cao với `price` (r = 0.8867); có ý nghĩa kinh doanh mạnh, dùng để phân tích hiệu quả từng nhóm sản phẩm.              |\n",
        "| `category_l1`        | ✅ Giữ               | Danh mục cấp 1 – hữu ích cho phân tích xu hướng ngành hàng lớn, nhưng cần xử lý mất cân đối khi huấn luyện mô hình.                                      |\n",
        "| `category_l2`        | ✅ Giữ               | Danh mục cấp 2 – thể hiện rõ sự khác biệt trong khả năng tiêu thụ sản phẩm (`sale_status` khác nhau đáng kể giữa các nhóm).                              |\n",
        "| `category_l3`        | ✅ Giữ               | Danh mục cấp 3 – phản ánh phân khúc chi tiết của sản phẩm; cần gộp nhóm các nhãn hiếm (rare categories) để giảm nhiễu khi mã hóa.                        |\n",
        "| `gender_target`      | ⚙️ Giữ có điều kiện | 66% “Không xác định”, phần còn lại có thể hữu ích trong phân tích hành vi theo giới tính nếu được làm sạch.                                            |\n",
        "| `age_group`          | ✅ Giữ               | Cung cấp thông tin độ tuổi mục tiêu (dù mất cân đối nhưng vẫn hữu ích để mô tả sản phẩm).                                                                |\n",
        "| `sale_status`        | ✅ Giữ               | Phản ánh tình trạng bán (bán được / không bán được); có mối liên hệ rõ với `category_l2`, hữu ích cho phân tích sức tiêu thụ.                            |\n",
        "| `p_id`               | ✅ Giữ               | Liên quan đến thế hệ mã hàng; giúp nhận diện vòng đời sản phẩm, đặc biệt trong phân tích hàng lỗi thời.                                                  |\n"
      ]
    },
    {
      "cell_type": "markdown",
      "id": "2185e111",
      "metadata": {},
      "source": [
        "## Xử lý outlier"
      ]
    },
    {
      "cell_type": "code",
      "execution_count": 13,
      "id": "e4859884",
      "metadata": {},
      "outputs": [
        {
          "name": "stdout",
          "output_type": "stream",
          "text": [
            "Purchase Chunk DataFrame:\n"
          ]
        },
        {
          "data": {
            "text/html": [
              "<div><style>\n",
              ".dataframe > thead > tr,\n",
              ".dataframe > tbody > tr {\n",
              "  text-align: right;\n",
              "  white-space: pre-wrap;\n",
              "}\n",
              "</style>\n",
              "<small>shape: (5, 3)</small><table border=\"1\" class=\"dataframe\"><thead><tr><th>price</th><th>gender_target</th><th>age_group</th></tr><tr><td>decimal[38,4]</td><td>str</td><td>str</td></tr></thead><tbody><tr><td>99000.0000</td><td>&quot;Không xác định&quot;</td><td>&quot;Không xác định&quot;</td></tr><tr><td>69000.0000</td><td>&quot;Bé Gái&quot;</td><td>&quot;Từ 3Y&quot;</td></tr><tr><td>45000.0000</td><td>&quot;Không xác định&quot;</td><td>&quot;Không xác định&quot;</td></tr><tr><td>401000.0000</td><td>&quot;Không xác định&quot;</td><td>&quot;Không xác định&quot;</td></tr><tr><td>401000.0000</td><td>&quot;Không xác định&quot;</td><td>&quot;Không xác định&quot;</td></tr></tbody></table></div>"
            ],
            "text/plain": [
              "shape: (5, 3)\n",
              "┌───────────────┬────────────────┬────────────────┐\n",
              "│ price         ┆ gender_target  ┆ age_group      │\n",
              "│ ---           ┆ ---            ┆ ---            │\n",
              "│ decimal[38,4] ┆ str            ┆ str            │\n",
              "╞═══════════════╪════════════════╪════════════════╡\n",
              "│ 99000.0000    ┆ Không xác định ┆ Không xác định │\n",
              "│ 69000.0000    ┆ Bé Gái         ┆ Từ 3Y          │\n",
              "│ 45000.0000    ┆ Không xác định ┆ Không xác định │\n",
              "│ 401000.0000   ┆ Không xác định ┆ Không xác định │\n",
              "│ 401000.0000   ┆ Không xác định ┆ Không xác định │\n",
              "└───────────────┴────────────────┴────────────────┘"
            ]
          },
          "execution_count": 13,
          "metadata": {},
          "output_type": "execute_result"
        }
      ],
      "source": [
        "# Các cột cần giữ lại \n",
        "cols_to_solve_item = [\n",
        "    'price', 'gender_target', 'age_group']\n",
        "\n",
        "# Chọn các cột cần giữ\n",
        "df_item = df_item.select(cols_to_solve_item)\n",
        "\n",
        "print(\"Purchase Chunk DataFrame:\")\n",
        "df_item.head()\n"
      ]
    },
    {
      "cell_type": "markdown",
      "id": "75e98414",
      "metadata": {},
      "source": [
        "### Xử lý Price bằng Winsorizing"
      ]
    },
    {
      "cell_type": "code",
      "execution_count": 14,
      "id": "69bab6da",
      "metadata": {},
      "outputs": [
        {
          "name": "stdout",
          "output_type": "stream",
          "text": [
            "Summary statistics after Winsorizing (Price):\n",
            "shape: (9, 2)\n",
            "┌────────────┬───────────────┐\n",
            "│ statistic  ┆ price         │\n",
            "│ ---        ┆ ---           │\n",
            "│ str        ┆ f64           │\n",
            "╞════════════╪═══════════════╡\n",
            "│ count      ┆ 27332.0       │\n",
            "│ null_count ┆ 0.0           │\n",
            "│ mean       ┆ 142751.84992  │\n",
            "│ std        ┆ 109120.160588 │\n",
            "│ min        ┆ 0.0           │\n",
            "│ 25%        ┆ 49000.0       │\n",
            "│ 50%        ┆ 119000.0      │\n",
            "│ 75%        ┆ 199000.0      │\n",
            "│ max        ┆ 424000.0      │\n",
            "└────────────┴───────────────┘\n"
          ]
        }
      ],
      "source": [
        "import polars as pl\n",
        "\n",
        "# Giả sử df_item là DataFrame Polars chứa cột 'price'\n",
        "\n",
        "# Tính IQR cho 'price'\n",
        "Q1_price = df_item['price'].quantile(0.25)\n",
        "Q3_price = df_item['price'].quantile(0.75)\n",
        "IQR_price = Q3_price - Q1_price\n",
        "\n",
        "# Giới hạn cho Winsorizing 'price'\n",
        "lower_limit_price = Q1_price - 1.5 * IQR_price\n",
        "upper_limit_price = Q3_price + 1.5 * IQR_price\n",
        "\n",
        "# Winsorizing 'price': Thay thế các giá trị ngoài giới hạn bằng giới hạn\n",
        "df_item = df_item.with_columns(\n",
        "    pl.when(pl.col('price') < lower_limit_price)\n",
        "    .then(lower_limit_price)\n",
        "    .otherwise(\n",
        "        pl.when(pl.col('price') > upper_limit_price)\n",
        "        .then(upper_limit_price)\n",
        "        .otherwise(pl.col('price'))  # Giữ nguyên nếu trong phạm vi\n",
        "    ).alias('price')\n",
        ")\n",
        "\n",
        "# Kiểm tra giá trị sau khi winsorizing\n",
        "print(\"Summary statistics after Winsorizing (Price):\")\n",
        "print(df_item.select('price').describe())\n"
      ]
    }
  ],
  "metadata": {
    "kernelspec": {
      "display_name": "Python 3",
      "language": "python",
      "name": "python3"
    },
    "language_info": {
      "codemirror_mode": {
        "name": "ipython",
        "version": 3
      },
      "file_extension": ".py",
      "mimetype": "text/x-python",
      "name": "python",
      "nbconvert_exporter": "python",
      "pygments_lexer": "ipython3",
      "version": "3.11.8"
    }
  },
  "nbformat": 4,
  "nbformat_minor": 5
}
