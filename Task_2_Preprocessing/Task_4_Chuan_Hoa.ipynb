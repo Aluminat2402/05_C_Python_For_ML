{
 "cells": [
  {
   "cell_type": "code",
   "execution_count": 1,
   "id": "052a5f6d",
   "metadata": {},
   "outputs": [],
   "source": [
    "import os\n",
    "import polars as pl\n",
    "import matplotlib.pyplot as plt\n",
    "import seaborn as sns\n",
    "import numpy as np"
   ]
  },
  {
   "cell_type": "code",
   "execution_count": 2,
   "id": "8a0ae56e",
   "metadata": {},
   "outputs": [],
   "source": [
    "def read_parquet_by_type(train_path: str):\n",
    "    # Lấy tất cả các file parquet trong thư mục\n",
    "    files = [os.path.join(train_path, f) for f in os.listdir(train_path) if f.endswith('.parquet')]\n",
    "    \n",
    "    # Phân loại các file theo loại tên\n",
    "    user_chunk_files = [file for file in files if 'user_chunk' in file]\n",
    "    purchase_history_chunk_files = [file for file in files if 'purchase_history_daily_chunk' in file]\n",
    "    item_chunk_files = [file for file in files if 'item_chunk' in file]\n",
    "    \n",
    "    # Đọc các file riêng biệt thành DataFrame\n",
    "    user_chunk_df = pl.concat([pl.read_parquet(file) for file in user_chunk_files]) if user_chunk_files else None\n",
    "    purchase_history_chunk_df = pl.concat([pl.read_parquet(file) for file in purchase_history_chunk_files]) if purchase_history_chunk_files else None\n",
    "    item_chunk_df = pl.concat([pl.read_parquet(file) for file in item_chunk_files]) if item_chunk_files else None\n",
    "    \n",
    "    # Trả về một dictionary chứa các DataFrame\n",
    "    return {\n",
    "        \"user_chunk\": user_chunk_df,\n",
    "        \"purchase_history_chunk\": purchase_history_chunk_df,\n",
    "        \"item_chunk\": item_chunk_df\n",
    "    }"
   ]
  },
  {
   "cell_type": "code",
   "execution_count": 4,
   "id": "5a0948ef",
   "metadata": {},
   "outputs": [],
   "source": [
    "train_path = 'E:/KHMT2023_CS_UIT/05_C_Python_For_ML/recommendation_dataset'\n",
    "dataframes = read_parquet_by_type(train_path)"
   ]
  },
  {
   "cell_type": "code",
   "execution_count": 33,
   "id": "1ecc77a2",
   "metadata": {},
   "outputs": [],
   "source": [
    "df_user = dataframes[\"user_chunk\"]\n",
    "df_purchase = dataframes[\"purchase_history_chunk\"]\n",
    "df_item = dataframes[\"item_chunk\"]"
   ]
  },
  {
   "cell_type": "markdown",
   "id": "f1863ec1",
   "metadata": {},
   "source": [
    "# Task 4"
   ]
  },
  {
   "cell_type": "markdown",
   "id": "325ed55f",
   "metadata": {},
   "source": [
    "# User chunk"
   ]
  },
  {
   "cell_type": "markdown",
   "id": "234acfc1",
   "metadata": {},
   "source": [
    "| Cột              | Giữ / Loại bỏ       | Lý do                                                                                                               |\n",
    "| ---------------- | ------------------- | ------------------------------------------------------------------------------------------------------------------- |\n",
    "| `customer_id`, `user_id`    | ✅ Đặc trưng định danh / mã hóa| |\n",
    "| `gender`         | ✅ Đặc trưng thống kê               | |\n",
    "| `location`       | ✅       | |\n",
    "| `province`       | ✅ Đặc trưng thống kê                |  |\n",
    "| `membership`     | ✅ Đặc trưng thống kê               |   |\n",
    "| `install_app`    | ✅ Đặc trưng thống kê               |  |"
   ]
  },
  {
   "cell_type": "code",
   "execution_count": 9,
   "id": "9317d559",
   "metadata": {},
   "outputs": [
    {
     "name": "stdout",
     "output_type": "stream",
     "text": [
      "User DataFrame:\n",
      "shape: (3, 7)\n",
      "┌───────────────────────┬─────────────┬────────┬──────────┬─────────────┬────────────┬─────────────┐\n",
      "│ user_id               ┆ customer_id ┆ gender ┆ location ┆ province    ┆ membership ┆ install_app │\n",
      "│ ---                   ┆ ---         ┆ ---    ┆ ---      ┆ ---         ┆ ---        ┆ ---         │\n",
      "│ str                   ┆ i32         ┆ str    ┆ i32      ┆ str         ┆ str        ┆ str         │\n",
      "╞═══════════════════════╪═════════════╪════════╪══════════╪═════════════╪════════════╪═════════════╡\n",
      "│ e1e48206652bf8c279ff0 ┆ 14732       ┆ Nam    ┆ 155      ┆ Hồ Chí Minh ┆ Standard   ┆ In-Store    │\n",
      "│ 206c69a80…            ┆             ┆        ┆          ┆             ┆            ┆             │\n",
      "│ 77891759204bd27e69fb1 ┆ 15126       ┆ Nữ     ┆ 300      ┆ Hồ Chí Minh ┆ Standard   ┆ In-Store    │\n",
      "│ 1a7b92889…            ┆             ┆        ┆          ┆             ┆            ┆             │\n",
      "│ b8041b584a0bb66553617 ┆ 29718       ┆ Nữ     ┆ 157      ┆ Bến Tre     ┆ Standard   ┆ In-Store    │\n",
      "│ 27a0a6108…            ┆             ┆        ┆          ┆             ┆            ┆             │\n",
      "└───────────────────────┴─────────────┴────────┴──────────┴─────────────┴────────────┴─────────────┘\n"
     ]
    }
   ],
   "source": [
    "df_user_keep = df_user.select([\n",
    "    pl.col(\"user_id\"),\n",
    "    pl.col(\"customer_id\"),\n",
    "    pl.col(\"gender\"),\n",
    "    pl.col(\"location\"),\n",
    "    pl.col(\"province\"),\n",
    "    pl.col(\"membership\"),\n",
    "    pl.col(\"install_app\")\n",
    "])\n",
    "\n",
    "print(\"User DataFrame:\")\n",
    "print(df_user_keep.head(3))"
   ]
  },
  {
   "cell_type": "markdown",
   "id": "645f7291",
   "metadata": {},
   "source": [
    "## Xử lý Province"
   ]
  },
  {
   "cell_type": "code",
   "execution_count": 10,
   "id": "70ecf8d4",
   "metadata": {},
   "outputs": [
    {
     "name": "stdout",
     "output_type": "stream",
     "text": [
      "Unique values in column 'province' after replacement:\n",
      "['Bình Định', 'Hưng Yên', 'Bến Tre', 'Kiên Giang', 'Bắc Kạn', 'Hà Nội', 'Quảng Ninh', 'Đắk Lắk', 'Khánh Hòa', 'Hải Dương', 'Hà Giang', 'Phú Thọ', 'Trà Vinh', 'Sơn La', 'Lai Châu', 'Vĩnh Phúc', 'Cần Thơ', 'Bắc Giang', 'Cà Mau', 'Cao Bằng', 'Sóc Trăng', 'Thái Nguyên', 'An Giang', 'Quảng Trị', 'Bình Thuận', 'Hà Tĩnh', 'Phú Yên', 'Long An', 'Nam Định', 'Lâm Đồng', 'Thái Bình', 'Lạng Sơn', 'Đồng Tháp', 'Đồng Nai', 'Hòa Bình', 'Hà Nam', 'Bạc Liêu', 'Tây Ninh', 'Bà Rịa - Vũng Tàu', 'Kon Tum', 'Bình Dương', 'Yên Bái', 'Quảng Bình', 'Tiền Giang', 'Ninh Thuận', 'Đắk Nông', 'Vĩnh Long', 'Thừa Thiên Huế', 'Hải Phòng', 'Nghệ An', 'Bắc Ninh', 'Quảng Nam', 'Tuyên Quang', 'Bình Phước', 'Hậu Giang', 'Ninh Bình', 'Thanh Hóa', 'Đà Nẵng', 'Quảng Ngãi', 'Gia Lai', 'Lào Cai', 'Hồ Chí Minh', 'Điện Biên']\n"
     ]
    }
   ],
   "source": [
    "# Thay thế các giá trị \"Thành Phố\" và \"Tỉnh\" trong cột 'province'\n",
    "df_user_keep = df_user_keep.with_columns(\n",
    "    pl.col('province')\n",
    "    .str.replace('Thành Phố ', '')  # Loại bỏ \"Thành Phố\"\n",
    "    .str.replace('Tỉnh ', '')  # Loại bỏ \"Tỉnh\"\n",
    "    .alias('province')  # Đặt lại tên cột sau khi thay thế\n",
    ")\n",
    "\n",
    "# In các giá trị duy nhất sau khi thay thế\n",
    "unique_provinces = df_user_keep['province'].unique().to_list()\n",
    "print(\"Unique values in column 'province' after replacement:\")\n",
    "print(unique_provinces)"
   ]
  },
  {
   "cell_type": "markdown",
   "id": "9260cc19",
   "metadata": {},
   "source": [
    "# Purchase chunk"
   ]
  },
  {
   "cell_type": "markdown",
   "id": "be037725",
   "metadata": {},
   "source": [
    "| Cột            | Giữ / Loại bỏ | Lý do                                                                                                                                             |\n",
    "| -------------- | ------------- | ------------------------------------------------------------------------------------------------------------------------------------------------- |\n",
    "| `timestamp`    | ✅ Đặc trưng thời gian         |  |\n",
    "| `user_id`      | ✅ Đặc trưng định danh / mã hóa        |             |\n",
    "| `item_id`      | ✅ Đặc trưng định danh / mã hóa         |       |\n",
    "| `price`        | ✅          |                            |\n",
    "| `quantity`     | ✅ Đặc trưng thống kê         |                                                  |\n",
    "| `customer_id`  | ✅ Đặc trưng định danh / mã hóa         |   |\n",
    "| `created_date` | ✅ Đặc trưng thời gian      ||\n",
    "| `payment`      | ✅ Đặc trưng thống kê       |                 |\n",
    "| `location`     | ✅         |          |\n",
    "| `discount`     | ✅   Chuẩn hóa về 0 - 1        |                                                         |\n",
    "| `channel`      | ✅ Đặc trưng thống kê         |           |"
   ]
  },
  {
   "cell_type": "code",
   "execution_count": 17,
   "id": "7b7c1170",
   "metadata": {},
   "outputs": [
    {
     "name": "stdout",
     "output_type": "stream",
     "text": [
      "Purchase History DataFrame:\n",
      "shape: (3, 11)\n",
      "┌────────────┬────────────┬───────────┬──────────┬───┬──────────┬───────────┬──────────┬───────────┐\n",
      "│ user_id    ┆ item_id    ┆ timestamp ┆ quantity ┆ … ┆ location ┆ discount  ┆ channel  ┆ price     │\n",
      "│ ---        ┆ ---        ┆ ---       ┆ ---      ┆   ┆ ---      ┆ ---       ┆ ---      ┆ ---       │\n",
      "│ str        ┆ str        ┆ i64       ┆ i32      ┆   ┆ i32      ┆ decimal[3 ┆ str      ┆ decimal[3 │\n",
      "│            ┆            ┆           ┆          ┆   ┆          ┆ 8,4]      ┆          ┆ 8,4]      │\n",
      "╞════════════╪════════════╪═══════════╪══════════╪═══╪══════════╪═══════════╪══════════╪═══════════╡\n",
      "│ ca12702ddf ┆ 7115000000 ┆ 173506422 ┆ 1        ┆ … ┆ 656      ┆ 0.0000    ┆ In-Store ┆ 49000.000 │\n",
      "│ 55acaa9fb7 ┆ 004        ┆ 1         ┆          ┆   ┆          ┆           ┆          ┆ 0         │\n",
      "│ 67e10faaa6 ┆            ┆           ┆          ┆   ┆          ┆           ┆          ┆           │\n",
      "│ …          ┆            ┆           ┆          ┆   ┆          ┆           ┆          ┆           │\n",
      "│ 54314ce862 ┆ 0029130000 ┆ 173506848 ┆ 1        ┆ … ┆ 143      ┆ 0.0000    ┆ In-Store ┆ 69000.000 │\n",
      "│ 69f4849f9a ┆ 030        ┆ 1         ┆          ┆   ┆          ┆           ┆          ┆ 0         │\n",
      "│ 4c3fc85d94 ┆            ┆           ┆          ┆   ┆          ┆           ┆          ┆           │\n",
      "│ …          ┆            ┆           ┆          ┆   ┆          ┆           ┆          ┆           │\n",
      "│ 4799de4022 ┆ 3496000000 ┆ 173506984 ┆ 2        ┆ … ┆ 213      ┆ 0.0000    ┆ In-Store ┆ 75000.000 │\n",
      "│ b58689b2b9 ┆ 053        ┆ 3         ┆          ┆   ┆          ┆           ┆          ┆ 0         │\n",
      "│ fb37122479 ┆            ┆           ┆          ┆   ┆          ┆           ┆          ┆           │\n",
      "│ …          ┆            ┆           ┆          ┆   ┆          ┆           ┆          ┆           │\n",
      "└────────────┴────────────┴───────────┴──────────┴───┴──────────┴───────────┴──────────┴───────────┘\n"
     ]
    }
   ],
   "source": [
    "df_purchase_keep = df_purchase.select([\n",
    "    pl.col(\"user_id\"),\n",
    "    pl.col(\"item_id\"),\n",
    "    pl.col(\"timestamp\"),\n",
    "    pl.col(\"quantity\"),\n",
    "    pl.col(\"customer_id\"),\n",
    "    pl.col(\"created_date\"),\n",
    "    pl.col(\"payment\"),\n",
    "    pl.col(\"location\"),\n",
    "    pl.col(\"discount\"),\n",
    "    pl.col(\"channel\"),\n",
    "    pl.col(\"price\")\n",
    "])\n",
    "\n",
    "print(\"Purchase History DataFrame:\")\n",
    "print(df_purchase_keep.head(3))"
   ]
  },
  {
   "cell_type": "markdown",
   "id": "efbbc4e7",
   "metadata": {},
   "source": [
    "### Xử lý discount bằng cách chuyển sang phần trăm dựa trên price"
   ]
  },
  {
   "cell_type": "code",
   "execution_count": 18,
   "id": "685f7876",
   "metadata": {},
   "outputs": [
    {
     "name": "stdout",
     "output_type": "stream",
     "text": [
      "shape: (5, 2)\n",
      "┌───────────────┬───────────────┐\n",
      "│ price         ┆ discount      │\n",
      "│ ---           ┆ ---           │\n",
      "│ decimal[38,4] ┆ decimal[38,4] │\n",
      "╞═══════════════╪═══════════════╡\n",
      "│ 49000.0000    ┆ 0.0000        │\n",
      "│ 69000.0000    ┆ 0.0000        │\n",
      "│ 75000.0000    ┆ 0.0000        │\n",
      "│ 58500.0000    ┆ 0.2222        │\n",
      "│ 89000.0000    ┆ 0.1124        │\n",
      "└───────────────┴───────────────┘\n"
     ]
    }
   ],
   "source": [
    "import polars as pl\n",
    "\n",
    "# Giả sử df_item là DataFrame chứa các cột 'discount' và 'price'\n",
    "\n",
    "df_purchase_keep = df_purchase_keep.with_columns(\n",
    "    # Thay thế giá trị của cột 'discount' bằng discount_percentage (giá trị từ 0 đến 1)\n",
    "    (pl.col(\"discount\") / pl.col(\"price\")).alias(\"discount\")\n",
    ")\n",
    "\n",
    "# Kiểm tra kết quả\n",
    "print(df_purchase_keep[['price', 'discount']].head())\n"
   ]
  },
  {
   "cell_type": "markdown",
   "id": "0d1a4e13",
   "metadata": {},
   "source": [
    "### Xử lý Price bằng Winsorizing"
   ]
  },
  {
   "cell_type": "code",
   "execution_count": 19,
   "id": "33afa518",
   "metadata": {},
   "outputs": [
    {
     "name": "stdout",
     "output_type": "stream",
     "text": [
      "Summary statistics after Winsorizing (Price):\n",
      "shape: (9, 2)\n",
      "┌────────────┬───────────────┐\n",
      "│ statistic  ┆ price         │\n",
      "│ ---        ┆ ---           │\n",
      "│ str        ┆ f64           │\n",
      "╞════════════╪═══════════════╡\n",
      "│ count      ┆ 3.5729825e7   │\n",
      "│ null_count ┆ 0.0           │\n",
      "│ mean       ┆ 157778.138713 │\n",
      "│ std        ┆ 153952.175963 │\n",
      "│ min        ┆ 0.0444        │\n",
      "│ 25%        ┆ 48316.3914    │\n",
      "│ 50%        ┆ 87000.0       │\n",
      "│ 75%        ┆ 244000.0      │\n",
      "│ max        ┆ 537525.4129   │\n",
      "└────────────┴───────────────┘\n"
     ]
    }
   ],
   "source": [
    "import polars as pl\n",
    "\n",
    "# Giả sử df_purchase là DataFrame Polars chứa cột 'price'\n",
    "\n",
    "# Tính IQR cho 'price'\n",
    "Q1_price = df_purchase_keep['price'].quantile(0.25)\n",
    "Q3_price = df_purchase_keep['price'].quantile(0.75)\n",
    "IQR_price = Q3_price - Q1_price\n",
    "\n",
    "# Giới hạn cho Winsorizing 'price'\n",
    "lower_limit_price = Q1_price - 1.5 * IQR_price\n",
    "upper_limit_price = Q3_price + 1.5 * IQR_price\n",
    "\n",
    "# Winsorizing 'price': Thay thế các giá trị ngoài giới hạn bằng giới hạn\n",
    "df_purchase_keep = df_purchase_keep.with_columns(\n",
    "    pl.when(pl.col('price') < lower_limit_price)\n",
    "    .then(lower_limit_price)\n",
    "    .otherwise(\n",
    "        pl.when(pl.col('price') > upper_limit_price)\n",
    "        .then(upper_limit_price)\n",
    "        .otherwise(pl.col('price'))  # Giữ nguyên nếu trong phạm vi\n",
    "    ).alias('price')\n",
    ")\n",
    "\n",
    "# Kiểm tra giá trị sau khi winsorizing\n",
    "print(\"Summary statistics after Winsorizing (Price):\")\n",
    "print(df_purchase_keep.select('price').describe())\n"
   ]
  },
  {
   "cell_type": "markdown",
   "id": "81e9053d",
   "metadata": {},
   "source": [
    "# Item"
   ]
  },
  {
   "cell_type": "markdown",
   "id": "40ec10f8",
   "metadata": {},
   "source": [
    "| Cột                  | Giữ / Loại bỏ       | Lý do                                                                                                                                                    |\n",
    "| -------------------- | ------------------- | -------------------------------------------------------------------------------------------------------------------------------------------------------- |\n",
    "| `created_date`       | ✅ Đặc trưng thời gian             |     |\n",
    "| `creation_timestamp` | ✅ Đặc trưng thời gian               |  |\n",
    "| `price`              | ✅             |  |\n",
    "| `gp` (gross profit)  | ✅                | |\n",
    "| `category`        | ✅ Đặc trưng quan trọng cho task 5               |                |\n",
    "| `category_l1`        | ✅ Đặc trưng quan trọng cho task 5               |                |\n",
    "| `gender_target`      | ✅ Đặc trưng cần xử lý |   |\n",
    "| `sale_status`        | ✅                |      |\n",
    "| `p_id`               | ✅ Đặc trưng định danh / mã hóa            |  |\n"
   ]
  },
  {
   "cell_type": "code",
   "execution_count": 20,
   "id": "db050b18",
   "metadata": {},
   "outputs": [],
   "source": [
    "df_item_keep = df_item.select([\n",
    "    pl.col(\"p_id\"), \n",
    "    pl.col(\"category\"),\n",
    "    pl.col(\"category_l1\"),\n",
    "    pl.col(\"created_date\"),\n",
    "    pl.col(\"creation_timestamp\"),\n",
    "    pl.col(\"price\"),\n",
    "    pl.col(\"gp\"),\n",
    "    pl.col(\"gender_target\"),\n",
    "    pl.col(\"sale_status\")\n",
    "])"
   ]
  },
  {
   "cell_type": "markdown",
   "id": "4931af15",
   "metadata": {},
   "source": [
    "### Xử lý Price bằng Winsorizing"
   ]
  },
  {
   "cell_type": "code",
   "execution_count": 21,
   "id": "3f33e196",
   "metadata": {},
   "outputs": [
    {
     "name": "stdout",
     "output_type": "stream",
     "text": [
      "Summary statistics after Winsorizing (Price):\n",
      "shape: (9, 2)\n",
      "┌────────────┬───────────────┐\n",
      "│ statistic  ┆ price         │\n",
      "│ ---        ┆ ---           │\n",
      "│ str        ┆ f64           │\n",
      "╞════════════╪═══════════════╡\n",
      "│ count      ┆ 27332.0       │\n",
      "│ null_count ┆ 0.0           │\n",
      "│ mean       ┆ 142751.84992  │\n",
      "│ std        ┆ 109120.160588 │\n",
      "│ min        ┆ 0.0           │\n",
      "│ 25%        ┆ 49000.0       │\n",
      "│ 50%        ┆ 119000.0      │\n",
      "│ 75%        ┆ 199000.0      │\n",
      "│ max        ┆ 424000.0      │\n",
      "└────────────┴───────────────┘\n"
     ]
    }
   ],
   "source": [
    "import polars as pl\n",
    "\n",
    "# Giả sử df_item là DataFrame Polars chứa cột 'price'\n",
    "\n",
    "# Tính IQR cho 'price'\n",
    "Q1_price = df_item_keep['price'].quantile(0.25)\n",
    "Q3_price = df_item_keep['price'].quantile(0.75)\n",
    "IQR_price = Q3_price - Q1_price\n",
    "\n",
    "# Giới hạn cho Winsorizing 'price'\n",
    "lower_limit_price = Q1_price - 1.5 * IQR_price\n",
    "upper_limit_price = Q3_price + 1.5 * IQR_price\n",
    "\n",
    "# Winsorizing 'price': Thay thế các giá trị ngoài giới hạn bằng giới hạn\n",
    "df_item_keep = df_item_keep.with_columns(\n",
    "    pl.when(pl.col('price') < lower_limit_price)\n",
    "    .then(lower_limit_price)\n",
    "    .otherwise(\n",
    "        pl.when(pl.col('price') > upper_limit_price)\n",
    "        .then(upper_limit_price)\n",
    "        .otherwise(pl.col('price'))  # Giữ nguyên nếu trong phạm vi\n",
    "    ).alias('price')\n",
    ")\n",
    "\n",
    "# Kiểm tra giá trị sau khi winsorizing\n",
    "print(\"Summary statistics after Winsorizing (Price):\")\n",
    "print(df_item_keep.select('price').describe())\n"
   ]
  },
  {
   "cell_type": "markdown",
   "id": "c2f74de5",
   "metadata": {},
   "source": [
    "### Xử lý gp bằng Winsorizing"
   ]
  },
  {
   "cell_type": "code",
   "execution_count": 22,
   "id": "89752e94",
   "metadata": {},
   "outputs": [
    {
     "name": "stdout",
     "output_type": "stream",
     "text": [
      "Summary statistics after Winsorizing (gp):\n",
      "shape: (9, 2)\n",
      "┌────────────┬──────────────┐\n",
      "│ statistic  ┆ gp           │\n",
      "│ ---        ┆ ---          │\n",
      "│ str        ┆ f64          │\n",
      "╞════════════╪══════════════╡\n",
      "│ count      ┆ 27332.0      │\n",
      "│ null_count ┆ 0.0          │\n",
      "│ mean       ┆ 38494.988837 │\n",
      "│ std        ┆ 42347.432039 │\n",
      "│ min        ┆ 0.0          │\n",
      "│ 25%        ┆ 0.0          │\n",
      "│ 50%        ┆ 25047.0      │\n",
      "│ 75%        ┆ 65532.0      │\n",
      "│ max        ┆ 163830.0     │\n",
      "└────────────┴──────────────┘\n"
     ]
    }
   ],
   "source": [
    "import polars as pl\n",
    "\n",
    "# Giả sử df_item là DataFrame Polars chứa cột 'price'\n",
    "\n",
    "# Tính IQR cho 'price'\n",
    "Q1_price = df_item_keep['gp'].quantile(0.25)\n",
    "Q3_price = df_item_keep['gp'].quantile(0.75)\n",
    "IQR_price = Q3_price - Q1_price\n",
    "\n",
    "# Giới hạn cho Winsorizing 'price'\n",
    "lower_limit_price = Q1_price - 1.5 * IQR_price\n",
    "upper_limit_price = Q3_price + 1.5 * IQR_price\n",
    "\n",
    "# Winsorizing 'price': Thay thế các giá trị ngoài giới hạn bằng giới hạn\n",
    "df_item_keep = df_item_keep.with_columns(\n",
    "    pl.when(pl.col('gp') < lower_limit_price)\n",
    "    .then(lower_limit_price)\n",
    "    .otherwise(\n",
    "        pl.when(pl.col('gp') > upper_limit_price)\n",
    "        .then(upper_limit_price)\n",
    "        .otherwise(pl.col('gp'))  # Giữ nguyên nếu trong phạm vi\n",
    "    ).alias('gp')\n",
    ")\n",
    "\n",
    "# Kiểm tra giá trị sau khi winsorizing\n",
    "print(\"Summary statistics after Winsorizing (gp):\")\n",
    "print(df_item_keep.select('gp').describe())\n"
   ]
  },
  {
   "cell_type": "markdown",
   "id": "cd451055",
   "metadata": {},
   "source": [
    "### Xử lý một số giá trị \"Không xác định của gender_target"
   ]
  },
  {
   "cell_type": "code",
   "execution_count": 34,
   "id": "b8eb4f89",
   "metadata": {},
   "outputs": [
    {
     "name": "stdout",
     "output_type": "stream",
     "text": [
      "shape: (5, 3)\n",
      "┌────────────────┬─────────────────────────────────┬─────────────────────────────────┐\n",
      "│ gender_target  ┆ description                     ┆ description_new                 │\n",
      "│ ---            ┆ ---                             ┆ ---                             │\n",
      "│ str            ┆ str                             ┆ str                             │\n",
      "╞════════════════╪═════════════════════════════════╪═════════════════════════════════╡\n",
      "│ Không xác định ┆ Không xác định                  ┆ Chi tiết sản phẩm             … │\n",
      "│ Bé Gái         ┆ Không xác định                  ┆ Không xác định                  │\n",
      "│ Không xác định ┆ - Chất liệu: Sản phẩm được làm… ┆ Chi tiết sản phẩm             … │\n",
      "│ Không xác định ┆ ﻿﻿Tã dán Merries size S 82 miế…   ┆ Không xác định                  │\n",
      "│ Không xác định ┆ ﻿﻿﻿Bỉm tã quần Merries size M …    ┆ Không xác định                  │\n",
      "└────────────────┴─────────────────────────────────┴─────────────────────────────────┘\n"
     ]
    }
   ],
   "source": [
    "import polars as pl\n",
    "\n",
    "# Giả sử df_item chứa các cột 'description' và 'description_new'\n",
    "\n",
    "# Định nghĩa các từ khóa tìm kiếm cho gender_target\n",
    "gender_keywords = {\n",
    "    \"Bé Gái\": ['bé gái', 'gái', 'nữ', 'women', 'girl'],\n",
    "    \"Bé Trai\": ['bé trai', 'trai', 'nam', 'men', 'boy'],\n",
    "    \"Unisex\": ['unisex'],\n",
    "    \"Sơ sinh\": ['sơ sinh', 'newborn']\n",
    "}\n",
    "\n",
    "# Hàm để xác định giới tính (gender) trong text (description hoặc description_new)\n",
    "def get_gender_from_keywords(text):\n",
    "    # Kiểm tra các từ khóa trong text và trả về giới tính\n",
    "    found_genders = set()\n",
    "    for gender, keywords in gender_keywords.items():\n",
    "        if any(keyword in text for keyword in keywords):\n",
    "            found_genders.add(gender)\n",
    "    if \"Bé Gái\" in found_genders and \"Bé Trai\" in found_genders:\n",
    "        return \"Unisex\"  # Nếu tìm thấy cả \"Bé Gái\" và \"Bé Trai\", gán \"Unisex\"\n",
    "    return found_genders.pop() if found_genders else \"Không xác định\"  # Nếu chỉ tìm thấy một, trả về giới tính, nếu không gán \"Không xác định\"\n",
    "\n",
    "\n",
    "# Tạo cột mới gender_target từ description và description_new mà không dùng apply\n",
    "def fill_gender_target(df):\n",
    "    # Kiểm tra nếu gender_target là \"Không xác định\"\n",
    "    condition = pl.col('gender_target') == 'Không xác định'\n",
    "\n",
    "    # Kiểm tra nếu description chứa từ khóa giới tính và thay thế\n",
    "    for gender, keywords in gender_keywords.items():\n",
    "        condition_description = pl.col('description').str.contains('|'.join(keywords))\n",
    "        condition_description_new = pl.col('description_new').str.contains('|'.join(keywords))\n",
    "        \n",
    "        # Cập nhật gender_target nếu có từ khóa trong description hoặc description_new\n",
    "        df = df.with_columns(\n",
    "            pl.when(condition)\n",
    "            .then(\n",
    "                pl.when(condition_description)\n",
    "                .then(pl.lit(gender))  # Nếu tìm thấy từ khóa trong description\n",
    "                .otherwise(\n",
    "                    pl.when(condition_description_new)\n",
    "                    .then(pl.lit(gender))  # Nếu tìm thấy từ khóa trong description_new\n",
    "                    .otherwise(pl.lit(\"Không xác định\"))\n",
    "                )\n",
    "            )\n",
    "            .otherwise(pl.col('gender_target'))  # Giữ nguyên nếu không phải \"Không xác định\"\n",
    "            .alias('gender_target')\n",
    "        )\n",
    "    \n",
    "    return df\n",
    "\n",
    "# Áp dụng hàm vào DataFrame\n",
    "df_item = fill_gender_target(df_item)\n",
    "\n",
    "# Kiểm tra kết quả\n",
    "print(df_item[['gender_target', 'description', 'description_new']].head())\n"
   ]
  },
  {
   "cell_type": "code",
   "execution_count": 35,
   "id": "9d3337f0",
   "metadata": {},
   "outputs": [
    {
     "name": "stdout",
     "output_type": "stream",
     "text": [
      "shape: (5, 2)\n",
      "┌────────────────┬───────┐\n",
      "│ gender_target  ┆ count │\n",
      "│ ---            ┆ ---   │\n",
      "│ str            ┆ u32   │\n",
      "╞════════════════╪═══════╡\n",
      "│ Sơ sinh        ┆ 3063  │\n",
      "│ Không xác định ┆ 14880 │\n",
      "│ Unisex         ┆ 6     │\n",
      "│ Bé Gái         ┆ 5064  │\n",
      "│ Bé Trai        ┆ 4319  │\n",
      "└────────────────┴───────┘\n"
     ]
    }
   ],
   "source": [
    "print(df_item['gender_target'].value_counts())"
   ]
  },
  {
   "cell_type": "code",
   "execution_count": 83,
   "id": "0348da6f",
   "metadata": {},
   "outputs": [
    {
     "name": "stdout",
     "output_type": "stream",
     "text": [
      "shape: (5, 3)\n",
      "┌────────────────┬───────────────────┬────────────────┐\n",
      "│ gender_target  ┆ category          ┆ category_l1    │\n",
      "│ ---            ┆ ---               ┆ ---            │\n",
      "│ str            ┆ str               ┆ str            │\n",
      "╞════════════════╪═══════════════════╪════════════════╡\n",
      "│ Không xác định ┆ Núm ty Dr Brown   ┆ Babycare       │\n",
      "│ Bé Gái         ┆ Bộ quần áo bé gái ┆ Thời trang     │\n",
      "│ Không xác định ┆ Gặm nướu khác     ┆ Đồ chơi & Sách │\n",
      "│ Không xác định ┆ Merries_Sơ Sinh   ┆ Tã             │\n",
      "│ Không xác định ┆ Merries_Tã Quần   ┆ Tã             │\n",
      "└────────────────┴───────────────────┴────────────────┘\n"
     ]
    }
   ],
   "source": [
    "import polars as pl\n",
    "\n",
    "# Giả sử df_item chứa các cột 'description' và 'description_new'\n",
    "\n",
    "# Định nghĩa các từ khóa tìm kiếm cho gender_target\n",
    "gender_keywords = {\n",
    "    \"Bé Gái\": ['bé gái', 'gái', 'nữ', 'women', 'girl'],\n",
    "    \"Bé Trai\": ['bé trai', 'trai', 'nam', 'men', 'boy'],\n",
    "    \"Unisex\": ['unisex','thời trang' ],\n",
    "    \"Sơ sinh\": ['sơ sinh', 'newborn', 'tã', 'babycare', 'hóa mỹ phẩm cho bé']\n",
    "}\n",
    "\n",
    "# Hàm để xác định giới tính (gender) trong text (description hoặc description_new)\n",
    "def get_gender_from_keywords(text):\n",
    "    # Kiểm tra các từ khóa trong text và trả về giới tính\n",
    "    found_genders = set()\n",
    "    for gender, keywords in gender_keywords.items():\n",
    "        if any(keyword in text for keyword in keywords):\n",
    "            found_genders.add(gender)\n",
    "    if \"Bé Gái\" in found_genders and \"Bé Trai\" in found_genders:\n",
    "        return \"Unisex\"  # Nếu tìm thấy cả \"Bé Gái\" và \"Bé Trai\", gán \"Unisex\"\n",
    "    return found_genders.pop() if found_genders else \"Không xác định\"  # Nếu chỉ tìm thấy một, trả về giới tính, nếu không gán \"Không xác định\"\n",
    "\n",
    "\n",
    "# Tạo cột mới gender_target từ description và description_new mà không dùng apply\n",
    "def fill_gender_target(df):\n",
    "    # Kiểm tra nếu gender_target là \"Không xác định\"\n",
    "    condition = pl.col('gender_target') == 'Không xác định'\n",
    "\n",
    "    # Kiểm tra nếu description chứa từ khóa giới tính và thay thế\n",
    "    for gender, keywords in gender_keywords.items():\n",
    "        condition_description = pl.col('category').str.contains('|'.join(keywords))\n",
    "        condition_description_new = pl.col('category_l1').str.contains('|'.join(keywords))\n",
    "        \n",
    "        # Cập nhật gender_target nếu có từ khóa trong description hoặc description_new\n",
    "        df = df.with_columns(\n",
    "            pl.when(condition)\n",
    "            .then(\n",
    "                pl.when(condition_description)\n",
    "                .then(pl.lit(gender))  # Nếu tìm thấy từ khóa trong description\n",
    "                .otherwise(\n",
    "                    pl.when(condition_description_new)\n",
    "                    .then(pl.lit(gender))  # Nếu tìm thấy từ khóa trong description_new\n",
    "                    .otherwise(pl.lit(\"Không xác định\"))\n",
    "                )\n",
    "            )\n",
    "            .otherwise(pl.col('gender_target'))  # Giữ nguyên nếu không phải \"Không xác định\"\n",
    "            .alias('gender_target')\n",
    "        )\n",
    "    \n",
    "    return df\n",
    "\n",
    "# Áp dụng hàm vào DataFrame\n",
    "df_item = fill_gender_target(df_item)\n",
    "\n",
    "# Kiểm tra kết quả\n",
    "print(df_item[['gender_target', 'category', 'category_l1']].head())\n"
   ]
  },
  {
   "cell_type": "code",
   "execution_count": 84,
   "id": "93d55bed",
   "metadata": {},
   "outputs": [
    {
     "name": "stdout",
     "output_type": "stream",
     "text": [
      "shape: (5, 2)\n",
      "┌────────────────┬───────┐\n",
      "│ gender_target  ┆ count │\n",
      "│ ---            ┆ ---   │\n",
      "│ str            ┆ u32   │\n",
      "╞════════════════╪═══════╡\n",
      "│ Bé Trai        ┆ 5446  │\n",
      "│ Unisex         ┆ 6     │\n",
      "│ Sơ sinh        ┆ 5257  │\n",
      "│ Bé Gái         ┆ 7075  │\n",
      "│ Không xác định ┆ 9548  │\n",
      "└────────────────┴───────┘\n"
     ]
    }
   ],
   "source": [
    "print(df_item['gender_target'].value_counts())"
   ]
  },
  {
   "cell_type": "code",
   "execution_count": 38,
   "id": "746fb061",
   "metadata": {},
   "outputs": [
    {
     "name": "stdout",
     "output_type": "stream",
     "text": [
      "shape: (5, 3)\n",
      "┌────────────────┬────────────────────┬───────────────────────────────┐\n",
      "│ gender_target  ┆ category_l2        ┆ category_l3                   │\n",
      "│ ---            ┆ ---                ┆ ---                           │\n",
      "│ str            ┆ str                ┆ str                           │\n",
      "╞════════════════╪════════════════════╪═══════════════════════════════╡\n",
      "│ Không xác định ┆ Bình sữa, phụ kiện ┆ Núm ty                        │\n",
      "│ Bé Gái         ┆ Cơ cấu hàng cũ     ┆ Thời trang bé trai, bé gái cũ │\n",
      "│ Không xác định ┆ 0-1Y               ┆ Gặm nướu                      │\n",
      "│ Không xác định ┆ Merries            ┆ Merries                       │\n",
      "│ Không xác định ┆ Merries            ┆ Merries                       │\n",
      "└────────────────┴────────────────────┴───────────────────────────────┘\n"
     ]
    }
   ],
   "source": [
    "import polars as pl\n",
    "\n",
    "# Giả sử df_item chứa các cột 'description' và 'description_new'\n",
    "\n",
    "# Định nghĩa các từ khóa tìm kiếm cho gender_target\n",
    "gender_keywords = {\n",
    "    \"Bé Gái\": ['bé gái', 'gái', 'nữ', 'women', 'girl'],\n",
    "    \"Bé Trai\": ['bé trai', 'trai', 'nam', 'men', 'boy'],\n",
    "    \"Unisex\": ['unisex'],\n",
    "    \"Sơ sinh\": ['sơ sinh', 'newborn']\n",
    "}\n",
    "\n",
    "# Hàm để xác định giới tính (gender) trong text (description hoặc description_new)\n",
    "def get_gender_from_keywords(text):\n",
    "    # Kiểm tra các từ khóa trong text và trả về giới tính\n",
    "    found_genders = set()\n",
    "    for gender, keywords in gender_keywords.items():\n",
    "        if any(keyword in text for keyword in keywords):\n",
    "            found_genders.add(gender)\n",
    "    if \"Bé Gái\" in found_genders and \"Bé Trai\" in found_genders:\n",
    "        return \"Unisex\"  # Nếu tìm thấy cả \"Bé Gái\" và \"Bé Trai\", gán \"Unisex\"\n",
    "    return found_genders.pop() if found_genders else \"Không xác định\"  # Nếu chỉ tìm thấy một, trả về giới tính, nếu không gán \"Không xác định\"\n",
    "\n",
    "\n",
    "# Tạo cột mới gender_target từ description và description_new mà không dùng apply\n",
    "def fill_gender_target(df):\n",
    "    # Kiểm tra nếu gender_target là \"Không xác định\"\n",
    "    condition = pl.col('gender_target') == 'Không xác định'\n",
    "\n",
    "    # Kiểm tra nếu description chứa từ khóa giới tính và thay thế\n",
    "    for gender, keywords in gender_keywords.items():\n",
    "        condition_description = pl.col('category_l2').str.contains('|'.join(keywords))\n",
    "        condition_description_new = pl.col('category_l3').str.contains('|'.join(keywords))\n",
    "        \n",
    "        # Cập nhật gender_target nếu có từ khóa trong description hoặc description_new\n",
    "        df = df.with_columns(\n",
    "            pl.when(condition)\n",
    "            .then(\n",
    "                pl.when(condition_description)\n",
    "                .then(pl.lit(gender))  # Nếu tìm thấy từ khóa trong description\n",
    "                .otherwise(\n",
    "                    pl.when(condition_description_new)\n",
    "                    .then(pl.lit(gender))  # Nếu tìm thấy từ khóa trong description_new\n",
    "                    .otherwise(pl.lit(\"Không xác định\"))\n",
    "                )\n",
    "            )\n",
    "            .otherwise(pl.col('gender_target'))  # Giữ nguyên nếu không phải \"Không xác định\"\n",
    "            .alias('gender_target')\n",
    "        )\n",
    "    \n",
    "    return df\n",
    "\n",
    "# Áp dụng hàm vào DataFrame\n",
    "df_item = fill_gender_target(df_item)\n",
    "\n",
    "# Kiểm tra kết quả\n",
    "print(df_item[['gender_target', 'category_l2', 'category_l3']].head())\n"
   ]
  },
  {
   "cell_type": "code",
   "execution_count": null,
   "id": "a2fd7950",
   "metadata": {},
   "outputs": [
    {
     "name": "stdout",
     "output_type": "stream",
     "text": [
      "shape: (5, 2)\n",
      "┌────────────────┬───────┐\n",
      "│ gender_target  ┆ count │\n",
      "│ ---            ┆ ---   │\n",
      "│ str            ┆ u32   │\n",
      "╞════════════════╪═══════╡\n",
      "│ Không xác định ┆ 9548  │\n",
      "│ Bé Gái         ┆ 7075  │\n",
      "│ Bé Trai        ┆ 5446  │\n",
      "│ Unisex         ┆ 6     │\n",
      "│ Sơ sinh        ┆ 5257  │\n",
      "└────────────────┴───────┘\n"
     ]
    }
   ],
   "source": [
    "print(df_item['gender_target'].value_counts())"
   ]
  },
  {
   "cell_type": "code",
   "execution_count": 82,
   "id": "7ee2c79d",
   "metadata": {},
   "outputs": [
    {
     "name": "stdout",
     "output_type": "stream",
     "text": [
      "['Thực phẩm cho gia đình', 'Sữa', 'TPCN', 'Đồ chơi & Sách', 'Hóa mỹ phẩm cho bé', 'Vệ sinh', 'Thực phẩm cho bé', 'Babycare', 'Gói Hội Viên', 'Textile', 'Thời trang', 'Hóa mỹ phẩm gia đình', 'Sữa nước', 'Tã', 'Phụ kiện']\n"
     ]
    }
   ],
   "source": [
    "print(df_item['category_l1'].unique().to_list())"
   ]
  }
 ],
 "metadata": {
  "kernelspec": {
   "display_name": "Python 3",
   "language": "python",
   "name": "python3"
  },
  "language_info": {
   "codemirror_mode": {
    "name": "ipython",
    "version": 3
   },
   "file_extension": ".py",
   "mimetype": "text/x-python",
   "name": "python",
   "nbconvert_exporter": "python",
   "pygments_lexer": "ipython3",
   "version": "3.11.8"
  }
 },
 "nbformat": 4,
 "nbformat_minor": 5
}
