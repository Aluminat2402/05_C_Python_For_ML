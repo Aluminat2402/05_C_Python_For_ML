{
 "cells": [
  {
   "cell_type": "code",
   "execution_count": 1,
   "id": "052a5f6d",
   "metadata": {},
   "outputs": [],
   "source": [
    "import os\n",
    "import polars as pl\n",
    "import matplotlib.pyplot as plt\n",
    "import seaborn as sns\n",
    "import numpy as np"
   ]
  },
  {
   "cell_type": "code",
   "execution_count": 2,
   "id": "8a0ae56e",
   "metadata": {},
   "outputs": [],
   "source": [
    "def read_parquet_by_type(train_path: str):\n",
    "    # Lấy tất cả các file parquet trong thư mục\n",
    "    files = [os.path.join(train_path, f) for f in os.listdir(train_path) if f.endswith('.parquet')]\n",
    "    \n",
    "    # Phân loại các file theo loại tên\n",
    "    user_chunk_files = [file for file in files if 'user_chunk' in file]\n",
    "    purchase_history_chunk_files = [file for file in files if 'purchase_history_daily_chunk' in file]\n",
    "    item_chunk_files = [file for file in files if 'item_chunk' in file]\n",
    "    \n",
    "    # Đọc các file riêng biệt thành DataFrame\n",
    "    user_chunk_df = pl.concat([pl.read_parquet(file) for file in user_chunk_files]) if user_chunk_files else None\n",
    "    purchase_history_chunk_df = pl.concat([pl.read_parquet(file) for file in purchase_history_chunk_files]) if purchase_history_chunk_files else None\n",
    "    item_chunk_df = pl.concat([pl.read_parquet(file) for file in item_chunk_files]) if item_chunk_files else None\n",
    "    \n",
    "    # Trả về một dictionary chứa các DataFrame\n",
    "    return {\n",
    "        \"user_chunk\": user_chunk_df,\n",
    "        \"purchase_history_chunk\": purchase_history_chunk_df,\n",
    "        \"item_chunk\": item_chunk_df\n",
    "    }"
   ]
  },
  {
   "cell_type": "code",
   "execution_count": 4,
   "id": "5a0948ef",
   "metadata": {},
   "outputs": [],
   "source": [
    "train_path = 'E:/KHMT2023_CS_UIT/05_C_Python_For_ML/recommendation_dataset'\n",
    "dataframes = read_parquet_by_type(train_path)"
   ]
  },
  {
   "cell_type": "code",
   "execution_count": 33,
   "id": "1ecc77a2",
   "metadata": {},
   "outputs": [],
   "source": [
    "df_user = dataframes[\"user_chunk\"]\n",
    "df_purchase = dataframes[\"purchase_history_chunk\"]\n",
    "df_item = dataframes[\"item_chunk\"]"
   ]
  },
  {
   "cell_type": "markdown",
   "id": "f1863ec1",
   "metadata": {},
   "source": [
    "# Task 4"
   ]
  },
  {
   "cell_type": "markdown",
   "id": "325ed55f",
   "metadata": {},
   "source": [
    "# User chunk"
   ]
  },
  {
   "cell_type": "markdown",
   "id": "234acfc1",
   "metadata": {},
   "source": [
    "| Cột              | Giữ / Loại bỏ       | Lý do                                                                                                               |\n",
    "| ---------------- | ------------------- | ------------------------------------------------------------------------------------------------------------------- |\n",
    "| `customer_id`, `user_id`    | ✅ Đặc trưng định danh / mã hóa| |\n",
    "| `gender`         | ✅ Đặc trưng thống kê               | |\n",
    "| `location`       | ✅       | |\n",
    "| `province`       | ✅ Đặc trưng thống kê                |  |\n",
    "| `membership`     | ✅ Đặc trưng thống kê               |   |\n",
    "| `install_app`    | ✅ Đặc trưng thống kê               |  |"
   ]
  },
  {
   "cell_type": "code",
   "execution_count": 9,
   "id": "9317d559",
   "metadata": {},
   "outputs": [
    {
     "name": "stdout",
     "output_type": "stream",
     "text": [
      "User DataFrame:\n",
      "shape: (3, 7)\n",
      "┌───────────────────────┬─────────────┬────────┬──────────┬─────────────┬────────────┬─────────────┐\n",
      "│ user_id               ┆ customer_id ┆ gender ┆ location ┆ province    ┆ membership ┆ install_app │\n",
      "│ ---                   ┆ ---         ┆ ---    ┆ ---      ┆ ---         ┆ ---        ┆ ---         │\n",
      "│ str                   ┆ i32         ┆ str    ┆ i32      ┆ str         ┆ str        ┆ str         │\n",
      "╞═══════════════════════╪═════════════╪════════╪══════════╪═════════════╪════════════╪═════════════╡\n",
      "│ e1e48206652bf8c279ff0 ┆ 14732       ┆ Nam    ┆ 155      ┆ Hồ Chí Minh ┆ Standard   ┆ In-Store    │\n",
      "│ 206c69a80…            ┆             ┆        ┆          ┆             ┆            ┆             │\n",
      "│ 77891759204bd27e69fb1 ┆ 15126       ┆ Nữ     ┆ 300      ┆ Hồ Chí Minh ┆ Standard   ┆ In-Store    │\n",
      "│ 1a7b92889…            ┆             ┆        ┆          ┆             ┆            ┆             │\n",
      "│ b8041b584a0bb66553617 ┆ 29718       ┆ Nữ     ┆ 157      ┆ Bến Tre     ┆ Standard   ┆ In-Store    │\n",
      "│ 27a0a6108…            ┆             ┆        ┆          ┆             ┆            ┆             │\n",
      "└───────────────────────┴─────────────┴────────┴──────────┴─────────────┴────────────┴─────────────┘\n"
     ]
    }
   ],
   "source": [
    "df_user_keep = df_user.select([\n",
    "    pl.col(\"user_id\"),\n",
    "    pl.col(\"customer_id\"),\n",
    "    pl.col(\"gender\"),\n",
    "    pl.col(\"location\"),\n",
    "    pl.col(\"province\"),\n",
    "    pl.col(\"membership\"),\n",
    "    pl.col(\"install_app\")\n",
    "])\n",
    "\n",
    "print(\"User DataFrame:\")\n",
    "print(df_user_keep.head(3))"
   ]
  },
  {
   "cell_type": "markdown",
   "id": "645f7291",
   "metadata": {},
   "source": [
    "## Xử lý Province"
   ]
  },
  {
   "cell_type": "code",
   "execution_count": 10,
   "id": "70ecf8d4",
   "metadata": {},
   "outputs": [
    {
     "name": "stdout",
     "output_type": "stream",
     "text": [
      "Unique values in column 'province' after replacement:\n",
      "['Bình Định', 'Hưng Yên', 'Bến Tre', 'Kiên Giang', 'Bắc Kạn', 'Hà Nội', 'Quảng Ninh', 'Đắk Lắk', 'Khánh Hòa', 'Hải Dương', 'Hà Giang', 'Phú Thọ', 'Trà Vinh', 'Sơn La', 'Lai Châu', 'Vĩnh Phúc', 'Cần Thơ', 'Bắc Giang', 'Cà Mau', 'Cao Bằng', 'Sóc Trăng', 'Thái Nguyên', 'An Giang', 'Quảng Trị', 'Bình Thuận', 'Hà Tĩnh', 'Phú Yên', 'Long An', 'Nam Định', 'Lâm Đồng', 'Thái Bình', 'Lạng Sơn', 'Đồng Tháp', 'Đồng Nai', 'Hòa Bình', 'Hà Nam', 'Bạc Liêu', 'Tây Ninh', 'Bà Rịa - Vũng Tàu', 'Kon Tum', 'Bình Dương', 'Yên Bái', 'Quảng Bình', 'Tiền Giang', 'Ninh Thuận', 'Đắk Nông', 'Vĩnh Long', 'Thừa Thiên Huế', 'Hải Phòng', 'Nghệ An', 'Bắc Ninh', 'Quảng Nam', 'Tuyên Quang', 'Bình Phước', 'Hậu Giang', 'Ninh Bình', 'Thanh Hóa', 'Đà Nẵng', 'Quảng Ngãi', 'Gia Lai', 'Lào Cai', 'Hồ Chí Minh', 'Điện Biên']\n"
     ]
    }
   ],
   "source": [
    "# Thay thế các giá trị \"Thành Phố\" và \"Tỉnh\" trong cột 'province'\n",
    "df_user_keep = df_user_keep.with_columns(\n",
    "    pl.col('province')\n",
    "    .str.replace('Thành Phố ', '')  # Loại bỏ \"Thành Phố\"\n",
    "    .str.replace('Tỉnh ', '')  # Loại bỏ \"Tỉnh\"\n",
    "    .alias('province')  # Đặt lại tên cột sau khi thay thế\n",
    ")\n",
    "\n",
    "# In các giá trị duy nhất sau khi thay thế\n",
    "unique_provinces = df_user_keep['province'].unique().to_list()\n",
    "print(\"Unique values in column 'province' after replacement:\")\n",
    "print(unique_provinces)"
   ]
  },
  {
   "cell_type": "markdown",
   "id": "9260cc19",
   "metadata": {},
   "source": [
    "# Purchase chunk"
   ]
  },
  {
   "cell_type": "markdown",
   "id": "be037725",
   "metadata": {},
   "source": [
    "| Cột            | Giữ / Loại bỏ | Lý do                                                                                                                                             |\n",
    "| -------------- | ------------- | ------------------------------------------------------------------------------------------------------------------------------------------------- |\n",
    "| `timestamp`    | ✅ Đặc trưng thời gian         |  |\n",
    "| `user_id`      | ✅ Đặc trưng định danh / mã hóa        |             |\n",
    "| `item_id`      | ✅ Đặc trưng định danh / mã hóa         |       |\n",
    "| `price`        | ✅          |                            |\n",
    "| `quantity`     | ✅ Đặc trưng thống kê         |                                                  |\n",
    "| `customer_id`  | ✅ Đặc trưng định danh / mã hóa         |   |\n",
    "| `created_date` | ✅ Đặc trưng thời gian      ||\n",
    "| `payment`      | ✅ Đặc trưng thống kê       |                 |\n",
    "| `location`     | ✅         |          |\n",
    "| `discount`     | ✅   Chuẩn hóa về 0 - 1        |                                                         |\n",
    "| `channel`      | ✅ Đặc trưng thống kê         |           |"
   ]
  },
  {
   "cell_type": "code",
   "execution_count": 17,
   "id": "7b7c1170",
   "metadata": {},
   "outputs": [
    {
     "name": "stdout",
     "output_type": "stream",
     "text": [
      "Purchase History DataFrame:\n",
      "shape: (3, 11)\n",
      "┌────────────┬────────────┬───────────┬──────────┬───┬──────────┬───────────┬──────────┬───────────┐\n",
      "│ user_id    ┆ item_id    ┆ timestamp ┆ quantity ┆ … ┆ location ┆ discount  ┆ channel  ┆ price     │\n",
      "│ ---        ┆ ---        ┆ ---       ┆ ---      ┆   ┆ ---      ┆ ---       ┆ ---      ┆ ---       │\n",
      "│ str        ┆ str        ┆ i64       ┆ i32      ┆   ┆ i32      ┆ decimal[3 ┆ str      ┆ decimal[3 │\n",
      "│            ┆            ┆           ┆          ┆   ┆          ┆ 8,4]      ┆          ┆ 8,4]      │\n",
      "╞════════════╪════════════╪═══════════╪══════════╪═══╪══════════╪═══════════╪══════════╪═══════════╡\n",
      "│ ca12702ddf ┆ 7115000000 ┆ 173506422 ┆ 1        ┆ … ┆ 656      ┆ 0.0000    ┆ In-Store ┆ 49000.000 │\n",
      "│ 55acaa9fb7 ┆ 004        ┆ 1         ┆          ┆   ┆          ┆           ┆          ┆ 0         │\n",
      "│ 67e10faaa6 ┆            ┆           ┆          ┆   ┆          ┆           ┆          ┆           │\n",
      "│ …          ┆            ┆           ┆          ┆   ┆          ┆           ┆          ┆           │\n",
      "│ 54314ce862 ┆ 0029130000 ┆ 173506848 ┆ 1        ┆ … ┆ 143      ┆ 0.0000    ┆ In-Store ┆ 69000.000 │\n",
      "│ 69f4849f9a ┆ 030        ┆ 1         ┆          ┆   ┆          ┆           ┆          ┆ 0         │\n",
      "│ 4c3fc85d94 ┆            ┆           ┆          ┆   ┆          ┆           ┆          ┆           │\n",
      "│ …          ┆            ┆           ┆          ┆   ┆          ┆           ┆          ┆           │\n",
      "│ 4799de4022 ┆ 3496000000 ┆ 173506984 ┆ 2        ┆ … ┆ 213      ┆ 0.0000    ┆ In-Store ┆ 75000.000 │\n",
      "│ b58689b2b9 ┆ 053        ┆ 3         ┆          ┆   ┆          ┆           ┆          ┆ 0         │\n",
      "│ fb37122479 ┆            ┆           ┆          ┆   ┆          ┆           ┆          ┆           │\n",
      "│ …          ┆            ┆           ┆          ┆   ┆          ┆           ┆          ┆           │\n",
      "└────────────┴────────────┴───────────┴──────────┴───┴──────────┴───────────┴──────────┴───────────┘\n"
     ]
    }
   ],
   "source": [
    "df_purchase_keep = df_purchase.select([\n",
    "    pl.col(\"user_id\"),\n",
    "    pl.col(\"item_id\"),\n",
    "    pl.col(\"timestamp\"),\n",
    "    pl.col(\"quantity\"),\n",
    "    pl.col(\"customer_id\"),\n",
    "    pl.col(\"created_date\"),\n",
    "    pl.col(\"payment\"),\n",
    "    pl.col(\"location\"),\n",
    "    pl.col(\"discount\"),\n",
    "    pl.col(\"channel\"),\n",
    "    pl.col(\"price\")\n",
    "])\n",
    "\n",
    "print(\"Purchase History DataFrame:\")\n",
    "print(df_purchase_keep.head(3))"
   ]
  },
  {
   "cell_type": "markdown",
   "id": "efbbc4e7",
   "metadata": {},
   "source": [
    "### Xử lý discount bằng cách chuyển sang phần trăm dựa trên price"
   ]
  },
  {
   "cell_type": "code",
   "execution_count": 18,
   "id": "685f7876",
   "metadata": {},
   "outputs": [
    {
     "name": "stdout",
     "output_type": "stream",
     "text": [
      "shape: (5, 2)\n",
      "┌───────────────┬───────────────┐\n",
      "│ price         ┆ discount      │\n",
      "│ ---           ┆ ---           │\n",
      "│ decimal[38,4] ┆ decimal[38,4] │\n",
      "╞═══════════════╪═══════════════╡\n",
      "│ 49000.0000    ┆ 0.0000        │\n",
      "│ 69000.0000    ┆ 0.0000        │\n",
      "│ 75000.0000    ┆ 0.0000        │\n",
      "│ 58500.0000    ┆ 0.2222        │\n",
      "│ 89000.0000    ┆ 0.1124        │\n",
      "└───────────────┴───────────────┘\n"
     ]
    }
   ],
   "source": [
    "import polars as pl\n",
    "\n",
    "# Giả sử df_item là DataFrame chứa các cột 'discount' và 'price'\n",
    "\n",
    "df_purchase_keep = df_purchase_keep.with_columns(\n",
    "    # Thay thế giá trị của cột 'discount' bằng discount_percentage (giá trị từ 0 đến 1)\n",
    "    (pl.col(\"discount\") / pl.col(\"price\")).alias(\"discount\")\n",
    ")\n",
    "\n",
    "# Kiểm tra kết quả\n",
    "print(df_purchase_keep[['price', 'discount']].head())\n"
   ]
  },
  {
   "cell_type": "markdown",
   "id": "0d1a4e13",
   "metadata": {},
   "source": [
    "### Xử lý Price bằng Winsorizing"
   ]
  },
  {
   "cell_type": "code",
   "execution_count": 19,
   "id": "33afa518",
   "metadata": {},
   "outputs": [
    {
     "name": "stdout",
     "output_type": "stream",
     "text": [
      "Summary statistics after Winsorizing (Price):\n",
      "shape: (9, 2)\n",
      "┌────────────┬───────────────┐\n",
      "│ statistic  ┆ price         │\n",
      "│ ---        ┆ ---           │\n",
      "│ str        ┆ f64           │\n",
      "╞════════════╪═══════════════╡\n",
      "│ count      ┆ 3.5729825e7   │\n",
      "│ null_count ┆ 0.0           │\n",
      "│ mean       ┆ 157778.138713 │\n",
      "│ std        ┆ 153952.175963 │\n",
      "│ min        ┆ 0.0444        │\n",
      "│ 25%        ┆ 48316.3914    │\n",
      "│ 50%        ┆ 87000.0       │\n",
      "│ 75%        ┆ 244000.0      │\n",
      "│ max        ┆ 537525.4129   │\n",
      "└────────────┴───────────────┘\n"
     ]
    }
   ],
   "source": [
    "import polars as pl\n",
    "\n",
    "# Giả sử df_purchase là DataFrame Polars chứa cột 'price'\n",
    "\n",
    "# Tính IQR cho 'price'\n",
    "Q1_price = df_purchase_keep['price'].quantile(0.25)\n",
    "Q3_price = df_purchase_keep['price'].quantile(0.75)\n",
    "IQR_price = Q3_price - Q1_price\n",
    "\n",
    "# Giới hạn cho Winsorizing 'price'\n",
    "lower_limit_price = Q1_price - 1.5 * IQR_price\n",
    "upper_limit_price = Q3_price + 1.5 * IQR_price\n",
    "\n",
    "# Winsorizing 'price': Thay thế các giá trị ngoài giới hạn bằng giới hạn\n",
    "df_purchase_keep = df_purchase_keep.with_columns(\n",
    "    pl.when(pl.col('price') < lower_limit_price)\n",
    "    .then(lower_limit_price)\n",
    "    .otherwise(\n",
    "        pl.when(pl.col('price') > upper_limit_price)\n",
    "        .then(upper_limit_price)\n",
    "        .otherwise(pl.col('price'))  # Giữ nguyên nếu trong phạm vi\n",
    "    ).alias('price')\n",
    ")\n",
    "\n",
    "# Kiểm tra giá trị sau khi winsorizing\n",
    "print(\"Summary statistics after Winsorizing (Price):\")\n",
    "print(df_purchase_keep.select('price').describe())\n"
   ]
  },
  {
   "cell_type": "markdown",
   "id": "81e9053d",
   "metadata": {},
   "source": [
    "# Item"
   ]
  },
  {
   "cell_type": "markdown",
   "id": "40ec10f8",
   "metadata": {},
   "source": [
    "| Cột                  | Giữ / Loại bỏ       | Lý do                                                                                                                                                    |\n",
    "| -------------------- | ------------------- | -------------------------------------------------------------------------------------------------------------------------------------------------------- |\n",
    "| `created_date`       | ✅ Đặc trưng thời gian             |     |\n",
    "| `creation_timestamp` | ✅ Đặc trưng thời gian               |  |\n",
    "| `price`              | ✅             |  |\n",
    "| `gp` (gross profit)  | ✅                | |\n",
    "| `category`        | ✅ Đặc trưng quan trọng cho task 5               |                |\n",
    "| `category_l1`        | ✅ Đặc trưng quan trọng cho task 5               |                |\n",
    "| `gender_target`      | ✅ Đặc trưng cần xử lý |   |\n",
    "| `sale_status`        | ✅                |      |\n",
    "| `p_id`               | ✅ Đặc trưng định danh / mã hóa            |  |\n"
   ]
  },
  {
   "cell_type": "code",
   "execution_count": 20,
   "id": "db050b18",
   "metadata": {},
   "outputs": [],
   "source": [
    "df_item_keep = df_item.select([\n",
    "    pl.col(\"p_id\"), \n",
    "    pl.col(\"category\"),\n",
    "    pl.col(\"category_l1\"),\n",
    "    pl.col(\"created_date\"),\n",
    "    pl.col(\"creation_timestamp\"),\n",
    "    pl.col(\"price\"),\n",
    "    pl.col(\"gp\"),\n",
    "    pl.col(\"gender_target\"),\n",
    "    pl.col(\"sale_status\")\n",
    "])"
   ]
  },
  {
   "cell_type": "markdown",
   "id": "4931af15",
   "metadata": {},
   "source": [
    "### Xử lý Price bằng Winsorizing"
   ]
  },
  {
   "cell_type": "code",
   "execution_count": 21,
   "id": "3f33e196",
   "metadata": {},
   "outputs": [
    {
     "name": "stdout",
     "output_type": "stream",
     "text": [
      "Summary statistics after Winsorizing (Price):\n",
      "shape: (9, 2)\n",
      "┌────────────┬───────────────┐\n",
      "│ statistic  ┆ price         │\n",
      "│ ---        ┆ ---           │\n",
      "│ str        ┆ f64           │\n",
      "╞════════════╪═══════════════╡\n",
      "│ count      ┆ 27332.0       │\n",
      "│ null_count ┆ 0.0           │\n",
      "│ mean       ┆ 142751.84992  │\n",
      "│ std        ┆ 109120.160588 │\n",
      "│ min        ┆ 0.0           │\n",
      "│ 25%        ┆ 49000.0       │\n",
      "│ 50%        ┆ 119000.0      │\n",
      "│ 75%        ┆ 199000.0      │\n",
      "│ max        ┆ 424000.0      │\n",
      "└────────────┴───────────────┘\n"
     ]
    }
   ],
   "source": [
    "import polars as pl\n",
    "\n",
    "# Giả sử df_item là DataFrame Polars chứa cột 'price'\n",
    "\n",
    "# Tính IQR cho 'price'\n",
    "Q1_price = df_item_keep['price'].quantile(0.25)\n",
    "Q3_price = df_item_keep['price'].quantile(0.75)\n",
    "IQR_price = Q3_price - Q1_price\n",
    "\n",
    "# Giới hạn cho Winsorizing 'price'\n",
    "lower_limit_price = Q1_price - 1.5 * IQR_price\n",
    "upper_limit_price = Q3_price + 1.5 * IQR_price\n",
    "\n",
    "# Winsorizing 'price': Thay thế các giá trị ngoài giới hạn bằng giới hạn\n",
    "df_item_keep = df_item_keep.with_columns(\n",
    "    pl.when(pl.col('price') < lower_limit_price)\n",
    "    .then(lower_limit_price)\n",
    "    .otherwise(\n",
    "        pl.when(pl.col('price') > upper_limit_price)\n",
    "        .then(upper_limit_price)\n",
    "        .otherwise(pl.col('price'))  # Giữ nguyên nếu trong phạm vi\n",
    "    ).alias('price')\n",
    ")\n",
    "\n",
    "# Kiểm tra giá trị sau khi winsorizing\n",
    "print(\"Summary statistics after Winsorizing (Price):\")\n",
    "print(df_item_keep.select('price').describe())\n"
   ]
  },
  {
   "cell_type": "markdown",
   "id": "c2f74de5",
   "metadata": {},
   "source": [
    "### Xử lý gp bằng Winsorizing"
   ]
  },
  {
   "cell_type": "code",
   "execution_count": 22,
   "id": "89752e94",
   "metadata": {},
   "outputs": [
    {
     "name": "stdout",
     "output_type": "stream",
     "text": [
      "Summary statistics after Winsorizing (gp):\n",
      "shape: (9, 2)\n",
      "┌────────────┬──────────────┐\n",
      "│ statistic  ┆ gp           │\n",
      "│ ---        ┆ ---          │\n",
      "│ str        ┆ f64          │\n",
      "╞════════════╪══════════════╡\n",
      "│ count      ┆ 27332.0      │\n",
      "│ null_count ┆ 0.0          │\n",
      "│ mean       ┆ 38494.988837 │\n",
      "│ std        ┆ 42347.432039 │\n",
      "│ min        ┆ 0.0          │\n",
      "│ 25%        ┆ 0.0          │\n",
      "│ 50%        ┆ 25047.0      │\n",
      "│ 75%        ┆ 65532.0      │\n",
      "│ max        ┆ 163830.0     │\n",
      "└────────────┴──────────────┘\n"
     ]
    }
   ],
   "source": [
    "import polars as pl\n",
    "\n",
    "# Giả sử df_item là DataFrame Polars chứa cột 'price'\n",
    "\n",
    "# Tính IQR cho 'price'\n",
    "Q1_price = df_item_keep['gp'].quantile(0.25)\n",
    "Q3_price = df_item_keep['gp'].quantile(0.75)\n",
    "IQR_price = Q3_price - Q1_price\n",
    "\n",
    "# Giới hạn cho Winsorizing 'price'\n",
    "lower_limit_price = Q1_price - 1.5 * IQR_price\n",
    "upper_limit_price = Q3_price + 1.5 * IQR_price\n",
    "\n",
    "# Winsorizing 'price': Thay thế các giá trị ngoài giới hạn bằng giới hạn\n",
    "df_item_keep = df_item_keep.with_columns(\n",
    "    pl.when(pl.col('gp') < lower_limit_price)\n",
    "    .then(lower_limit_price)\n",
    "    .otherwise(\n",
    "        pl.when(pl.col('gp') > upper_limit_price)\n",
    "        .then(upper_limit_price)\n",
    "        .otherwise(pl.col('gp'))  # Giữ nguyên nếu trong phạm vi\n",
    "    ).alias('gp')\n",
    ")\n",
    "\n",
    "# Kiểm tra giá trị sau khi winsorizing\n",
    "print(\"Summary statistics after Winsorizing (gp):\")\n",
    "print(df_item_keep.select('gp').describe())\n"
   ]
  },
  {
   "cell_type": "markdown",
   "id": "cd451055",
   "metadata": {},
   "source": [
    "### Xử lý một số giá trị \"Không xác định của gender_target"
   ]
  },
  {
   "cell_type": "code",
   "execution_count": 34,
   "id": "b8eb4f89",
   "metadata": {},
   "outputs": [
    {
     "name": "stdout",
     "output_type": "stream",
     "text": [
      "shape: (5, 3)\n",
      "┌────────────────┬─────────────────────────────────┬─────────────────────────────────┐\n",
      "│ gender_target  ┆ description                     ┆ description_new                 │\n",
      "│ ---            ┆ ---                             ┆ ---                             │\n",
      "│ str            ┆ str                             ┆ str                             │\n",
      "╞════════════════╪═════════════════════════════════╪═════════════════════════════════╡\n",
      "│ Không xác định ┆ Không xác định                  ┆ Chi tiết sản phẩm             … │\n",
      "│ Bé Gái         ┆ Không xác định                  ┆ Không xác định                  │\n",
      "│ Không xác định ┆ - Chất liệu: Sản phẩm được làm… ┆ Chi tiết sản phẩm             … │\n",
      "│ Không xác định ┆ ﻿﻿Tã dán Merries size S 82 miế…   ┆ Không xác định                  │\n",
      "│ Không xác định ┆ ﻿﻿﻿Bỉm tã quần Merries size M …    ┆ Không xác định                  │\n",
      "└────────────────┴─────────────────────────────────┴─────────────────────────────────┘\n"
     ]
    }
   ],
   "source": [
    "import polars as pl\n",
    "\n",
    "# Giả sử df_item chứa các cột 'description' và 'description_new'\n",
    "\n",
    "# Định nghĩa các từ khóa tìm kiếm cho gender_target\n",
    "gender_keywords = {\n",
    "    \"Bé Gái\": ['bé gái', 'gái', 'nữ', 'women', 'girl'],\n",
    "    \"Bé Trai\": ['bé trai', 'trai', 'nam', 'men', 'boy'],\n",
    "    \"Unisex\": ['unisex'],\n",
    "    \"Sơ sinh\": ['sơ sinh', 'newborn']\n",
    "}\n",
    "\n",
    "# Hàm để xác định giới tính (gender) trong text (description hoặc description_new)\n",
    "def get_gender_from_keywords(text):\n",
    "    # Kiểm tra các từ khóa trong text và trả về giới tính\n",
    "    found_genders = set()\n",
    "    for gender, keywords in gender_keywords.items():\n",
    "        if any(keyword in text for keyword in keywords):\n",
    "            found_genders.add(gender)\n",
    "    if \"Bé Gái\" in found_genders and \"Bé Trai\" in found_genders:\n",
    "        return \"Unisex\"  # Nếu tìm thấy cả \"Bé Gái\" và \"Bé Trai\", gán \"Unisex\"\n",
    "    return found_genders.pop() if found_genders else \"Không xác định\"  # Nếu chỉ tìm thấy một, trả về giới tính, nếu không gán \"Không xác định\"\n",
    "\n",
    "\n",
    "# Tạo cột mới gender_target từ description và description_new mà không dùng apply\n",
    "def fill_gender_target(df):\n",
    "    # Kiểm tra nếu gender_target là \"Không xác định\"\n",
    "    condition = pl.col('gender_target') == 'Không xác định'\n",
    "\n",
    "    # Kiểm tra nếu description chứa từ khóa giới tính và thay thế\n",
    "    for gender, keywords in gender_keywords.items():\n",
    "        condition_description = pl.col('description').str.contains('|'.join(keywords))\n",
    "        condition_description_new = pl.col('description_new').str.contains('|'.join(keywords))\n",
    "        \n",
    "        # Cập nhật gender_target nếu có từ khóa trong description hoặc description_new\n",
    "        df = df.with_columns(\n",
    "            pl.when(condition)\n",
    "            .then(\n",
    "                pl.when(condition_description)\n",
    "                .then(pl.lit(gender))  # Nếu tìm thấy từ khóa trong description\n",
    "                .otherwise(\n",
    "                    pl.when(condition_description_new)\n",
    "                    .then(pl.lit(gender))  # Nếu tìm thấy từ khóa trong description_new\n",
    "                    .otherwise(pl.lit(\"Không xác định\"))\n",
    "                )\n",
    "            )\n",
    "            .otherwise(pl.col('gender_target'))  # Giữ nguyên nếu không phải \"Không xác định\"\n",
    "            .alias('gender_target')\n",
    "        )\n",
    "    \n",
    "    return df\n",
    "\n",
    "# Áp dụng hàm vào DataFrame\n",
    "df_item = fill_gender_target(df_item)\n",
    "\n",
    "# Kiểm tra kết quả\n",
    "print(df_item[['gender_target', 'description', 'description_new']].head())\n"
   ]
  },
  {
   "cell_type": "code",
   "execution_count": 35,
   "id": "9d3337f0",
   "metadata": {},
   "outputs": [
    {
     "name": "stdout",
     "output_type": "stream",
     "text": [
      "shape: (5, 2)\n",
      "┌────────────────┬───────┐\n",
      "│ gender_target  ┆ count │\n",
      "│ ---            ┆ ---   │\n",
      "│ str            ┆ u32   │\n",
      "╞════════════════╪═══════╡\n",
      "│ Sơ sinh        ┆ 3063  │\n",
      "│ Không xác định ┆ 14880 │\n",
      "│ Unisex         ┆ 6     │\n",
      "│ Bé Gái         ┆ 5064  │\n",
      "│ Bé Trai        ┆ 4319  │\n",
      "└────────────────┴───────┘\n"
     ]
    }
   ],
   "source": [
    "print(df_item['gender_target'].value_counts())"
   ]
  },
  {
   "cell_type": "code",
   "execution_count": 83,
   "id": "0348da6f",
   "metadata": {},
   "outputs": [
    {
     "name": "stdout",
     "output_type": "stream",
     "text": [
      "shape: (5, 3)\n",
      "┌────────────────┬───────────────────┬────────────────┐\n",
      "│ gender_target  ┆ category          ┆ category_l1    │\n",
      "│ ---            ┆ ---               ┆ ---            │\n",
      "│ str            ┆ str               ┆ str            │\n",
      "╞════════════════╪═══════════════════╪════════════════╡\n",
      "│ Không xác định ┆ Núm ty Dr Brown   ┆ Babycare       │\n",
      "│ Bé Gái         ┆ Bộ quần áo bé gái ┆ Thời trang     │\n",
      "│ Không xác định ┆ Gặm nướu khác     ┆ Đồ chơi & Sách │\n",
      "│ Không xác định ┆ Merries_Sơ Sinh   ┆ Tã             │\n",
      "│ Không xác định ┆ Merries_Tã Quần   ┆ Tã             │\n",
      "└────────────────┴───────────────────┴────────────────┘\n"
     ]
    }
   ],
   "source": [
    "import polars as pl\n",
    "\n",
    "# Giả sử df_item chứa các cột 'description' và 'description_new'\n",
    "\n",
    "# Định nghĩa các từ khóa tìm kiếm cho gender_target\n",
    "gender_keywords = {\n",
    "    \"Bé Gái\": ['bé gái', 'gái', 'nữ', 'women', 'girl'],\n",
    "    \"Bé Trai\": ['bé trai', 'trai', 'nam', 'men', 'boy'],\n",
    "    \"Unisex\": ['unisex','thời trang' ],\n",
    "    \"Sơ sinh\": ['sơ sinh', 'newborn', 'tã', 'babycare', 'hóa mỹ phẩm cho bé']\n",
    "}\n",
    "\n",
    "# Hàm để xác định giới tính (gender) trong text (description hoặc description_new)\n",
    "def get_gender_from_keywords(text):\n",
    "    # Kiểm tra các từ khóa trong text và trả về giới tính\n",
    "    found_genders = set()\n",
    "    for gender, keywords in gender_keywords.items():\n",
    "        if any(keyword in text for keyword in keywords):\n",
    "            found_genders.add(gender)\n",
    "    if \"Bé Gái\" in found_genders and \"Bé Trai\" in found_genders:\n",
    "        return \"Unisex\"  # Nếu tìm thấy cả \"Bé Gái\" và \"Bé Trai\", gán \"Unisex\"\n",
    "    return found_genders.pop() if found_genders else \"Không xác định\"  # Nếu chỉ tìm thấy một, trả về giới tính, nếu không gán \"Không xác định\"\n",
    "\n",
    "\n",
    "# Tạo cột mới gender_target từ description và description_new mà không dùng apply\n",
    "def fill_gender_target(df):\n",
    "    # Kiểm tra nếu gender_target là \"Không xác định\"\n",
    "    condition = pl.col('gender_target') == 'Không xác định'\n",
    "\n",
    "    # Kiểm tra nếu description chứa từ khóa giới tính và thay thế\n",
    "    for gender, keywords in gender_keywords.items():\n",
    "        condition_description = pl.col('category').str.contains('|'.join(keywords))\n",
    "        condition_description_new = pl.col('category_l1').str.contains('|'.join(keywords))\n",
    "        \n",
    "        # Cập nhật gender_target nếu có từ khóa trong description hoặc description_new\n",
    "        df = df.with_columns(\n",
    "            pl.when(condition)\n",
    "            .then(\n",
    "                pl.when(condition_description)\n",
    "                .then(pl.lit(gender))  # Nếu tìm thấy từ khóa trong description\n",
    "                .otherwise(\n",
    "                    pl.when(condition_description_new)\n",
    "                    .then(pl.lit(gender))  # Nếu tìm thấy từ khóa trong description_new\n",
    "                    .otherwise(pl.lit(\"Không xác định\"))\n",
    "                )\n",
    "            )\n",
    "            .otherwise(pl.col('gender_target'))  # Giữ nguyên nếu không phải \"Không xác định\"\n",
    "            .alias('gender_target')\n",
    "        )\n",
    "    \n",
    "    return df\n",
    "\n",
    "# Áp dụng hàm vào DataFrame\n",
    "df_item = fill_gender_target(df_item)\n",
    "\n",
    "# Kiểm tra kết quả\n",
    "print(df_item[['gender_target', 'category', 'category_l1']].head())\n"
   ]
  },
  {
   "cell_type": "code",
   "execution_count": 84,
   "id": "93d55bed",
   "metadata": {},
   "outputs": [
    {
     "name": "stdout",
     "output_type": "stream",
     "text": [
      "shape: (5, 2)\n",
      "┌────────────────┬───────┐\n",
      "│ gender_target  ┆ count │\n",
      "│ ---            ┆ ---   │\n",
      "│ str            ┆ u32   │\n",
      "╞════════════════╪═══════╡\n",
      "│ Bé Trai        ┆ 5446  │\n",
      "│ Unisex         ┆ 6     │\n",
      "│ Sơ sinh        ┆ 5257  │\n",
      "│ Bé Gái         ┆ 7075  │\n",
      "│ Không xác định ┆ 9548  │\n",
      "└────────────────┴───────┘\n"
     ]
    }
   ],
   "source": [
    "print(df_item['gender_target'].value_counts())"
   ]
  },
  {
   "cell_type": "code",
   "execution_count": 38,
   "id": "746fb061",
   "metadata": {},
   "outputs": [
    {
     "name": "stdout",
     "output_type": "stream",
     "text": [
      "shape: (5, 3)\n",
      "┌────────────────┬────────────────────┬───────────────────────────────┐\n",
      "│ gender_target  ┆ category_l2        ┆ category_l3                   │\n",
      "│ ---            ┆ ---                ┆ ---                           │\n",
      "│ str            ┆ str                ┆ str                           │\n",
      "╞════════════════╪════════════════════╪═══════════════════════════════╡\n",
      "│ Không xác định ┆ Bình sữa, phụ kiện ┆ Núm ty                        │\n",
      "│ Bé Gái         ┆ Cơ cấu hàng cũ     ┆ Thời trang bé trai, bé gái cũ │\n",
      "│ Không xác định ┆ 0-1Y               ┆ Gặm nướu                      │\n",
      "│ Không xác định ┆ Merries            ┆ Merries                       │\n",
      "│ Không xác định ┆ Merries            ┆ Merries                       │\n",
      "└────────────────┴────────────────────┴───────────────────────────────┘\n"
     ]
    }
   ],
   "source": [
    "import polars as pl\n",
    "\n",
    "# Giả sử df_item chứa các cột 'description' và 'description_new'\n",
    "\n",
    "# Định nghĩa các từ khóa tìm kiếm cho gender_target\n",
    "gender_keywords = {\n",
    "    \"Bé Gái\": ['bé gái', 'gái', 'nữ', 'women', 'girl'],\n",
    "    \"Bé Trai\": ['bé trai', 'trai', 'nam', 'men', 'boy'],\n",
    "    \"Unisex\": ['unisex'],\n",
    "    \"Sơ sinh\": ['sơ sinh', 'newborn']\n",
    "}\n",
    "\n",
    "# Hàm để xác định giới tính (gender) trong text (description hoặc description_new)\n",
    "def get_gender_from_keywords(text):\n",
    "    # Kiểm tra các từ khóa trong text và trả về giới tính\n",
    "    found_genders = set()\n",
    "    for gender, keywords in gender_keywords.items():\n",
    "        if any(keyword in text for keyword in keywords):\n",
    "            found_genders.add(gender)\n",
    "    if \"Bé Gái\" in found_genders and \"Bé Trai\" in found_genders:\n",
    "        return \"Unisex\"  # Nếu tìm thấy cả \"Bé Gái\" và \"Bé Trai\", gán \"Unisex\"\n",
    "    return found_genders.pop() if found_genders else \"Không xác định\"  # Nếu chỉ tìm thấy một, trả về giới tính, nếu không gán \"Không xác định\"\n",
    "\n",
    "\n",
    "# Tạo cột mới gender_target từ description và description_new mà không dùng apply\n",
    "def fill_gender_target(df):\n",
    "    # Kiểm tra nếu gender_target là \"Không xác định\"\n",
    "    condition = pl.col('gender_target') == 'Không xác định'\n",
    "\n",
    "    # Kiểm tra nếu description chứa từ khóa giới tính và thay thế\n",
    "    for gender, keywords in gender_keywords.items():\n",
    "        condition_description = pl.col('category_l2').str.contains('|'.join(keywords))\n",
    "        condition_description_new = pl.col('category_l3').str.contains('|'.join(keywords))\n",
    "        \n",
    "        # Cập nhật gender_target nếu có từ khóa trong description hoặc description_new\n",
    "        df = df.with_columns(\n",
    "            pl.when(condition)\n",
    "            .then(\n",
    "                pl.when(condition_description)\n",
    "                .then(pl.lit(gender))  # Nếu tìm thấy từ khóa trong description\n",
    "                .otherwise(\n",
    "                    pl.when(condition_description_new)\n",
    "                    .then(pl.lit(gender))  # Nếu tìm thấy từ khóa trong description_new\n",
    "                    .otherwise(pl.lit(\"Không xác định\"))\n",
    "                )\n",
    "            )\n",
    "            .otherwise(pl.col('gender_target'))  # Giữ nguyên nếu không phải \"Không xác định\"\n",
    "            .alias('gender_target')\n",
    "        )\n",
    "    \n",
    "    return df\n",
    "\n",
    "# Áp dụng hàm vào DataFrame\n",
    "df_item = fill_gender_target(df_item)\n",
    "\n",
    "# Kiểm tra kết quả\n",
    "print(df_item[['gender_target', 'category_l2', 'category_l3']].head())\n"
   ]
  },
  {
   "cell_type": "code",
   "execution_count": null,
   "id": "a2fd7950",
   "metadata": {},
   "outputs": [
    {
     "name": "stdout",
     "output_type": "stream",
     "text": [
      "shape: (5, 2)\n",
      "┌────────────────┬───────┐\n",
      "│ gender_target  ┆ count │\n",
      "│ ---            ┆ ---   │\n",
      "│ str            ┆ u32   │\n",
      "╞════════════════╪═══════╡\n",
      "│ Không xác định ┆ 9548  │\n",
      "│ Bé Gái         ┆ 7075  │\n",
      "│ Bé Trai        ┆ 5446  │\n",
      "│ Unisex         ┆ 6     │\n",
      "│ Sơ sinh        ┆ 5257  │\n",
      "└────────────────┴───────┘\n"
     ]
    }
   ],
   "source": [
    "print(df_item['gender_target'].value_counts())"
   ]
  },
  {
   "cell_type": "code",
   "execution_count": 86,
   "id": "7ee2c79d",
   "metadata": {},
   "outputs": [
    {
     "name": "stdout",
     "output_type": "stream",
     "text": [
      "['Giày chút chít 179k S15', 'Trị muỗi, côn trùng Vương Tràm Hương', 'Nón sơ sinh nhập khẩu', 'Friso Prestige Step 3', 'Giấy vệ sinh Cellox - Lốc 10', 'Aptamil Hà Lan Step 1', 'Dầu gội Enchanteur', 'Abbott Grow Step 3', 'Giày chút chít 229k S16', 'Ba lô', 'Dầu Bơ', 'President', 'Nước rửa bình sữa Arau', 'Dầu massage Nautral Botanical', 'Địu vải Kinderkraft', 'Royal Family', \"Banquet D'or\", 'Balo, túi cho mẹ', 'Huggies Platinum_Tã Dán M-XXL', 'Sữa tắm Lifebuoy', 'Dầu xả Dove', 'Dụng cụ bảo vệ an toàn', 'Oldenburger', 'Kem chống hăm Sudocream', 'Optimum Step 1', 'Sữa tắm Lux', 'Similac Protection Step 2', 'Tắm gội toàn thân Cetaphil', 'Quần bé trai', 'Grow Plus Xanh Step 3 Specialty', 'Xe tập đi Akigo', 'Pejoy', 'Ghế ngồi ô tô Animo', 'Hyperion', '0-12M Áo sơ sinh cài chéo tay ngắn', 'Khử mùi Avander', 'Dầu gội Cỏ Cây Hoa Lá', 'Heinz', '0-24M Áo thun bé trai tay dài đông', 'Bộ bé gái Animo Easy', 'TH True Water', 'Xe đẩy Tobby', 'Thú bông cầm tay', 'Siêu nhân, robot', 'Bubs Goat Step 3', 'Danisa', 'Khăn choàng ủ TH khác', 'Aptamil Úc Step 4', 'Dielac Step 1', 'Kem đánh răng Closeup', 'Dung dịch vệ sinh phụ nữ Bimunica', 'Ghế ngồi ăn chân thấp Concung Good', 'Tắm gội toàn thân Chicco', 'Gói Hội Viên 1 tháng Mass', 'Pedia Sure', 'Ruột gối NIN HOUSE', 'Kem chống hăm Crevil', 'Gạc, rơ lưỡi vải', 'Kit test SARS-CoV-2 Humasis', 'Dầu massage Johnson baby', 'Hikid đặc trị', 'NAN Supreme Step 4', 'Dimao D3', 'Khẩu trang', 'Bao cao su Sagami', 'Immunel', 'Hạt Hạnh nhân', 'Dầu tỏi Diệp Chi', '0-3Y Cột', 'Gói Hội Viên Pink MOM Easy', 'Goodhealth', 'Mixxo', 'Pin ngừng bán', 'Bàn ủi hơi nước Bear', 'Nước tẩy trang Cocoon', 'Dad and Me step 4', 'Hút sữa điện Spectra', 'C2', 'Bubs Goat Step 1', 'Sữa đêm Fruto', 'Tracybee', 'Bô/ Miếng lót bồn cầu Concung Good', 'Aptamil Úc Step 1', 'Dưỡng môi Palmer', 'Nước rửa tay Lifebouy', 'Nước giặt xả Docilee', 'PreNAN Specialty', 'Giày tập đi 165k S16', 'Quần, áo, đầm bầu', 'Gạc y tế Nexcare', 'Thảm xốp mảnh ghép', 'Gặm nướu Antona', 'Glico Step 1', 'Bánh Trung Thu', 'Nước xả Animo', 'Máy xay ngừng bán', 'Tắm gội thảo dược Elemis', 'Yoko Step 1', 'Nón tồn cũ', 'Nước rửa bình sữa Animo', 'Wakodo', 'Khăn mặt Animo', 'Yoko Step 3', 'Bộ Modal lẻ', 'Dielac Step 2', 'Sandal bé trai S17', 'Pororo', 'Làm đẹp da', 'Height Boosting Step 4', 'Moony_Tã Quần', 'Bình đun nước Animo', 'Hạt hướng dương', 'NAN Nga Step 3', 'Khăn giấy rút bịch Tempo', 'Bình tập uống Concung Good', 'Kem chống nắng Skin Aqua', 'Babi Bird', 'Nôi, cũi, võng ngừng bán', 'Tắm gội Romano', 'Áo khoác', 'Gạc, rơ lưỡi Sachi', 'Babyplus', 'Nước cân bằng Delon', 'Phụ kiện Comotomo', 'Skittles', 'Giày tập đi 165k S15', 'Glico', 'Quần sơ sinh Animo Easy', 'Núm ty Hegen', 'TH True Juice', 'Humana Step 3', 'Tã vải', 'Nước muối sinh lý Fysoline', 'Yếm Bebear', 'Kem đánh răng Eucryl', 'Tắm gội toàn thân Chupa chups', 'Dầu khuynh diệp Diệp An', 'Lê Gia', 'Khăn ướt  Hàn Quốc - Green Finger', 'Tấm lót chống thấm Mamaru', 'Bình đun nước Fatz', 'Phấn rôm Goongbe', 'Nôi, cũi Kinderkraft', 'Dụng cụ ăn uống ngừng bán', 'Similac Mom', 'Merries Volume Up_Tã quần', 'Gặm nướu khác', 'QBB', 'Bông tẩy trang IPEK', 'Băng vệ sinh Diana sau sinh', 'Bodysuit tam giác', 'Nồi nấu chậm ngừng bán', \"Khăn lau tóc S'BABY\", 'Nước hoa Johnson baby', 'Kem chống hăm Abena', 'Nước tẩy rửa toilet Earth Choice', 'Lạc Lạc', 'Bình trữ sữa', 'Dielac Grow Plus', 'Dụng cụ ăn uống Concung Good', 'Mayumi', 'Mason', 'Ginbis', 'Molfix_Sơ sinh', 'Phụ kiện tồn SPC', 'Metacare Step 4', 'Bodysuit Animo', 'Grinny', '3M Pharma', '3-6Y Nón bé gái', 'Set 6 Bộ bao tay chân', 'Bộ Modal set 2', 'Mug', 'Xúc xắc khác', 'Sandal bé trai S23', 'Dầu Óc chó', 'Set 3 quần lót bé gái', 'XO Step 3', 'Bột gia vị', 'Anmum', 'Chăn xô, chăn Linen TH khác', 'Phụ kiện Kuku', 'Nutren', 'Gối ôm TH khác', 'Phụ kiện Mam', 'Dầu xả Thái Dương', 'Vfresh', 'Thau/ Lưới tắm Autoru', 'Hikid Step 4', 'Dung dịch vệ sinh phụ nữ Felce Azzurra', 'Famna Step 4', 'Nước rửa bình sữa khác', 'Hero lẻ 129k', 'Menz & Gasser', 'Caryn_Tã dán', 'Life Space', 'Calbee', 'Boost Optimum', 'Bình tập uống Diller', 'Bánh gạo An', 'Dầu gội Sunsilk', 'Nước cân bằng Milaganics', 'Băng vệ sinh Goodfeel', 'Colosbaby Step 3', 'Đồ chơi xếp chồng/thả hình khối', 'Playmore', 'Snickers', 'Máy hâm sữa, tiệt trùng Moaz BéBé', 'Nệm mát Kareal', 'Sách phát triển kỹ năng, trí tuệ', 'Khăn khô Mama', 'Nước lau sàn Dettol', 'Bộ bé trai Animo Easy', 'Friso Pro Step 4', 'Nước giặt Goongbe', 'Anpaso', 'Xịt khuẩn Kentori', 'Bình tập uống Nuby', 'Abbott Grow', 'Kingphar', 'NAN Step 2', 'Miếng lót thấm sữa ngừng bán', 'Dầu Hạnh Nhân', 'Cornetto', 'Con Bò Cười', 'Giày sơ sinh 149k S9', 'Khăn gạc, khăn sữa TH khác', 'Dụng cụ ăn uống Moreware', 'Pampers Nhật_Tã Dán M-XXL', 'Varna Elite', 'Tắm gội toàn thân Aveeno', 'ColosCare Step 2', '0-12M Nón sơ sinh', 'Kem đánh răng Kodomo', 'NAN Nga Step 4', 'Bàn chải 2Y+', 'Đầm bé gái Animo', 'Matsuya', 'Ganbare', 'Bellamy Step 3', 'Ispoon', 'Colos DHA Step 1', 'Dielac Alpha Step 3', 'Dụng cụ ăn uống Animo', 'Bàn chải 1-2Y', 'Whoopee_Sơ Sinh', 'Núm ty ConCung Good', 'Dầu tràm Con Yêu', 'Khăn giấy rút bịch Bless you', 'Khăn giấy bỏ túi Tempo - Lốc 10', 'Tắm gội thảo dược Kutieskin', 'Giày chút chít 179k S17', 'Huggies Platinum_Sơ Sinh', 'Vinamilk Organic Step 4', 'Nước rửa bình sữa Pigeon', 'Colosbaby Step 4', 'Gối nằm cao su Animo', 'A2 skim milk', 'Moony_Tã dán M-XXL', 'Ghế ngồi ô tô Combi, Chicco', 'Inno', 'Bình sữa Tommee Tippee', 'Gối ôm thú bông', 'Bình sữa Agi', 'Đai an toàn xe máy', 'Giấy vệ sinh Tessa - Lốc 6', 'Phô mai rắc', 'Humana Step 2', 'Khăn đa năng Animo', 'Núm ty Wesser', 'Nhiệt kế Laica', 'MorningKids', 'Harrys', 'Máy rửa bình sữa Moaz BéBé', 'Kem chống hăm Bepanthen', 'Gối ôm cũ', 'GenKi_Sơ Sinh', 'Ghế ngồi ăn Baby Pretty', 'Dầu gội Organic care', 'Khẩu trang người lớn Wakamono', 'Nước giặt Arau', 'Kem trị rôm sảy Agrin', 'Núm ty Aga-ae', 'Phụ kiện máy hút sữa', 'Nước xả Comfort', 'Thau/ Lưới tắm Duy Tân', 'Purelac Step 1', 'Solgar', 'Chewy Vites', 'GenKi_Mẫu thử', 'Máy hâm sữa, tiệt trùng Concung Good', 'Molfix_Tã dán M-XXL', 'Khăn ướt Animo', 'Máy hâm sữa, tiệt trùng ngừng bán', 'Bubs', 'Tắm gội toàn thân Organic care', 'Vớ', 'Giấm', 'Giày và sandal S25 cũ', 'Nước giặt khác', 'Wakodo Step 4', 'Dầu tràm Cung Đình', 'Meiji Step 3', 'Whito_Sơ Sinh', 'Hộp quà', 'Gối nằm bông gòn Animo', 'Elprairie AW_Tã dán M-XXL', 'Bubs Organic step 4', 'Trị muỗi, côn trùng Ola Papi', 'Kabrita Step 4', 'Metacare Step 3', 'Nan', 'Tắm gội toàn thân Bimunica', 'Xe lắc', 'Tẩy tế bào chết da mặt Cocoon', 'Áo ghile đông', 'Gạc, rơ lưỡi silicone', 'Túi/ Giỏ quần áo', 'Kellogg', 'Giày tập đi 249k', 'Khăn cotton tắm trẻ em Animo', 'Colos Gain Step 3', 'Ghế ngồi ăn Mastela', 'Set 2 Bộ bao tay chân', 'Binggrae', 'Tông đơ', \"Nature's Way\", 'Dụng cụ ăn uống Kuku', 'Midkid', 'Phụ kiện cho mẹ ngừng bán', 'Pediakid', 'Miếng lót thấm sữa Aga-ae', 'Friso Pro Step 2', 'Rocket 1h', 'Bình tập uống Wesser', 'Morinaga Step 4', 'Bình sữa Pur', 'Dầu màng tang Bạch Mã', 'Nước rửa tay Antabax', 'Giày chút chít 229k S13', 'Bubs A2 Step 4', 'Gặm nướu lạnh', 'Bình sữa Comotomo', 'Dép sục S23', 'Nệm mát/ Chiếu ngừng bán', 'Special Kid', 'Dầu tràm Mệ Đoan', 'Dầu xả OGX', 'Xúc xắc Antona', 'Morning Rice', 'Quần lót tiện lợi ConCung Good', 'Xe đẩy Mastela', 'Bubs Full Cream', 'Glucerna Adult', 'Elle & Vire', 'Gối chặn cũ', 'Gối chặn TH khác', 'Áo bé gái Animo Easy', 'Grow Plus Xanh', 'Ghế nôi Joie', 'Merries 1st Premium_Tã dán M-XXL', 'Giày tập đi khác tồn', 'Thau/ Lưới tắm Inochi', 'Phấn rôm & phấn thơm Kodomo', 'Kem chống hăm Mustela', 'Bình sữa, phụ kiện khác', 'Merino', 'Xe tập đi gỗ', 'Bodysuit Modal lẻ', 'Sách kể chuyện, thơ, đồng dao', 'Túi ngủ, swaddle', 'Nước súc miệng Listerine', 'Khăn giấy bỏ túi Tessa - Lốc 6', 'Khăn tay đa năng Animo', 'Nước giặt Aga', 'Kem đánh răng PS', 'Xe nhún Autoru', 'Nước muối sinh lý Physiodose', 'Khăn tắm trẻ em TH khác', 'Pedia Kenji Step 4', 'Alphagen Step 1', 'Sáp thơm Felce Azzurra', 'Bio Acimin', 'Ghế ngồi ăn ngừng bán', 'Pate', 'Khăn lau tóc Peomy', 'Nestle đặc trị', 'Kimo', 'Xịt thơm miệng Lana', 'Túi trữ sữa ngừng bán', 'Hút sữa rảnh tay Animo', 'Áo bé gái Animo', 'Friso Prestige Step 1', 'Bprotected', 'Thảm nằm chơi vải', 'Trợ ty', 'Tắm gội toàn thân Carrie Junior', 'Aquafina', 'Momby', 'Nước rửa chén Earth Choice', 'Purelac Step 3', 'Gumi Gumi', 'Pringles', 'Abbott Grow Step 2', 'Ruột gối EVERON', 'Ghế ngồi xe hơi', 'Tắm gội thảo dược 3M', 'SynterAct', 'Aptamil NZ Step 1', 'Height Boosting Step 3', 'Hipp Step 3', 'Grow Plus đỏ', 'Aptamil', 'Bebedang', 'Takato_Tã Quần', 'Dưỡng da Johnson Baby', 'Dr Frei', 'Khăn ướt Moflix', 'Dielac Đặc trị - KM', 'Morinaga Mom', 'Varna Complete', 'Nuvi Grow', 'Knor', 'Dutch lady', 'Vệ sinh nhà bếp CIF', 'Pedia Kenji Step 2', 'Bobby Quần Mở Một Bên_Sơ sinh', 'Bình nước gia đình', 'Tắm gội toàn thân khác', 'Phụ kiện khác tồn', 'Plasmon', 'Tắm gội toàn thân Pureen', 'Hút sữa điện đôi Fatz', 'Bình giữ nhiệt ngừng bán', 'Huggies Platinum_Tã Quần', 'Chibi', 'Tắm gội thảo dược Diệp An Nhi', 'Phụ kiện Edison', 'Enfa A2 Step 3', 'Địu BeBéar', 'Xe đẩy Evenflo', 'Even', 'Trị muỗi, côn trùng Anti-in', 'Maeil', 'Goldkids', 'Optibac', 'Dầu Hạt cải', 'Cốc hứng sữa', 'Khăn ướt Merries 1st Premium', 'Bút viết', 'Khăn gia đình cũ', 'Phấn rôm & phấn thơm Chicco', 'Danesita', 'Ghế nhà tắm/ Gáo nhựa', 'Khăn em bé cũ', 'GMPharm', 'Hershey', 'Dầu gội Head & Shoulders', 'Gói Hội Viên 6 tháng Mass', 'Grow plus đỏ Step 4 Specialty', 'Tăm bông, băng rốn', 'Moony Natural_Sơ Sinh', '0-12M Bodysuit tam giác', 'NAN Step 4', 'Enspire Thái Step 4', 'Khăn ướt Bobby Care', 'Quần, chân váy bé gái', 'Núm ty Agi', 'Tắm gội toàn thân Arau', 'Height Boosting', 'Phúc Long', 'Colosbaby Pedia Step 3 Specialty', 'Caryn_Miếng lót', 'Primal', 'Colos Opti Step 1', 'XO Mom', 'Hút sữa điện đôi Medela', 'Dung dịch vệ sinh phụ nữ Lactacyd', 'Dầu gội Pantene', 'Giày và sandal bé gái S19', 'Địu vải Comfy Baby', 'Hạt nêm', 'Cầu tuột/Quây chặn', 'SpringLeaf', 'Pediasure Step 0', 'Famna Step 1', 'Dielac Alpha Step 2', 'Bodysuit bé trai dài', 'Phấn rôm & phấn thơm Babi mild', 'Dầu Mù U U', 'Tắm gội toàn thân Kodomo', 'Bình sữa Dr Brown', 'Khăn vải khô Animo', 'Hi-Chew', 'Kem đánh răng P/S', 'Bộ chống muỗi set 2', 'Enfa', 'Ribon', 'Bình tập uống Pigeon', 'Dầu khuynh diệp Lovely', 'Sữa tắm Cocoon', 'Thau tắm/ Lưới tắm ngừng bán', 'Colosbaby Bio Gold Step 1', 'Gối chống trào ngược TH khác', 'Kem đặc trị Kutieskin', 'Huggies Thường_Sơ Sinh', 'Bình sữa, phụ kiện Beanstalk', 'Famna Step 2', 'Khăn khô Mamamy', 'Bình đun nước ngừng bán', 'Dino', 'Tấm lót xe đẩy/ Nôi sơ sinh', 'Sprite', 'Khăn tắm gia đình Cotton Animo', 'Enterogermina', 'Dầu tỏi Omega', 'Huggies Skin Perfect_Tã Dán M-XXL', 'Moony Natural_Tã dán M-XXL', 'Bodysuit đông vải dày', 'Grow Plus trắng', 'Similac Neosure Specialty', 'Kem đánh răng Sensitive', 'Nước xả Downy', 'Colosbaby IQ Gold Step 4', 'Sản phẩm về giấy', 'Sữa tắm Purite', 'Đồ chơi đi biển', 'Băng vệ sinh khác', 'Hubba Bubba', 'Anlene', 'Dụng cụ bếp và vệ sinh', 'Nước rửa đa năng Babyganics', 'Clavie', 'Dầu tràm Eagle', 'Bộ đông bé gái dài', 'Lactino', 'Yếm ngừng bán', \"Ella's Kitchen\", 'Apaman', 'Tấm lót chống thấm ngừng bán', 'Alphagen Step 4', 'Khăn tắm Mamamy Tropical', 'Nước giặt Essence', 'Khăn lau tóc Mollis', 'Túi rác', 'Máy xay Bear', 'Nutimilk', 'Nan A2 Step 4', 'Dầu gội Tsubaki', 'Thuyền xưa', 'Dầu gội Tresemme', 'Bộ chăn gối nệm Animo', 'Nước rửa bình sữa Wesser', 'Bô/ Miếng lót bồn cầu ngừng bán', 'Promax', 'Tắm gội toàn thân Bobini', 'Hikid Step 3', 'Animo_Tã Sơ sinh', 'Giày bún tập đi', 'Bình sữa Mam', 'Vinamilk Organic Step 3', 'Metacare Eco', '0-12M Quần sơ sinh ngắn', \"Kem rạn da Palmer's\", 'Nước lau sàn Earth Choice', 'Thịt hộp', 'Kid&Young', 'Kem đánh răng Darlie', 'Áo ngực cho mẹ', 'Tao Kae Noi', 'Leibniz', 'Sahmyook', 'Nước rửa tay Titione', 'Enfa Step 2', 'Molfix_Tã quần Jumbo', 'Rạn da', 'Nón sơ sinh', 'Giày và Sandal bé gái tồn', 'Kính chống giọt bắn', 'Tắm gội thảo dược Lovely', 'Dụng cụ ăn uống Inochi', 'Hipp Step 2', 'Nhập vai bé gái', 'Sách nuôi dạy con', 'Nước tẩy trang Senka', 'Bộ chăn gối nệm TH khác', 'Glico Step 3', 'Welkids', 'Goon Mommy Kiss_Tã Dán', 'Xylitol', 'Khẩu trang cho bé Stay Dry', 'Quần legging bé gái', 'Dầu Cá hồi', 'Nước cân bằng Hada Labo', 'Dầu gội Clear Men', 'Pigeon', 'Maya', 'A2', 'Ildong', 'Tắm gội toàn thân Baby Magic', 'Tắm gội toàn thân Aga-ae', 'Immunel Step 1', 'Sunday Natural', 'Dầu xả Selsun', 'Wellbaby', 'Cosy', 'Pocky', 'Ghế nôi Kinderkraft', 'Ned Nature', 'Hạt Mắc ca', 'NAN Organic_Step 1', 'Bánh mì', 'Phụ kiện trang trí tiệc', 'Giày tập đi 89k S13', 'Bộ đông bé trai dài', 'Dép sục người lớn', 'Bút tô màu', 'Ocecri', 'Fruto', 'Moochews', 'Con bò cười', 'Núm ty Pigeon', 'Sữa tắm Senka', 'Olamami', 'Bình sữa Puku', 'Moony_Sơ Sinh', 'Giấy vệ sinh Elène - Lốc 10', 'Chăn vải chần bông Animo', 'Elprairie AW_Tã Quần', 'Happy Family', 'Giày sơ sinh 119k S9', 'ILDong số 1', 'Chăn xô, chăn Linen Animo', 'Cocomong', 'Meiji Mom', 'Dầu gội Cocoon', \"Khăn giấy bỏ túi E'mos\", 'AFC', 'Khăn giấy rút hộp Bless you', 'Dầu xả Cocoon', 'Giày chút chít 179k S16', 'Vệ sinh cơ thể ngừng bán', 'Nước lau sàn Gift', 'Khăn giấy rút bịch Cellox', 'Lee Kum Kee', 'TH Rice', 'Friso Step 3', 'Pampers Overnight_Tã Quần', 'Khăn voan', 'Khăn ướt Gentle care - Con Cung', 'Tearoma', 'Vệ sinh mũi', 'Meiji nội địa Step 1', 'PNI Kids', 'Enfamil A2 Step 2', 'Enfa C-sec Step 4', 'Aojiru', 'Dưỡng da Aveeno', 'Nhập vai Unisex', 'Xe đẩy Aprica, Joie', 'Muối & viên rửa chén Finish', 'Sandal bé trai S21', 'Khử mùi Dove', 'Nước giặt Con Cung Gentle Care', 'Dầu khuynh diệp Con yêu', 'DT Nest', 'Vicenzi', 'Gạc, rơ lưỡi Dr Papie', 'Lắp ráp/Xếp hình', 'Kem đánh răng Tom&jerry', 'Varna Colostrum Adult', 'Giày sơ sinh 149k S10', '0-3Y Cài', 'Takato_Tã Dán M-XXL', 'Quaker', 'Dung dịch vệ sinh phụ nữ Fremfesh', 'Pin Energizer', 'Khăn mặt viên nén Mamamy Tropical', 'Pin Animo', 'Oggi Gold Step 3 Specialty', 'Kem chống nắng Aga-ae', 'Dầu Gấc', 'Colomi', 'Bodysuit bé trai đùi', 'Muối tắm Bảo Nhiên', 'Biogaia', 'Kem dưỡng ẩm Neutrogena', 'NAN Nga Step 2', 'Bình sữa, phụ kiện Puku', 'Tắm gội thảo dược Oriss', 'Goon Mommy Kiss_Tã Quần', 'TH True Tea', 'Whoopee_Tã Dán M-XXL', 'Bình sữa Kuku', 'Confidence_Tã dán', 'Tokyo Noodle NK', 'Khăn gạc tắm trẻ em Animo', 'ColosGold', 'Núm ty Edison', 'Giày sơ sinh 149k S11', 'Enfa A2 Step 2', 'Kewpie', 'Hút sữa điện Pigeon', 'Quần đông', 'Kem đánh răng Splat', 'Colosbaby Step 1', 'Sữa rửa mặt Neutrogena', 'Innerset', 'Aptamil Úc Step 2', 'Sữa tắm & thuốc tắm', 'Dưỡng tóc Cocoon', 'Tắm gội toàn thân Saforelle', 'Colosbaby D3K2 Step 4', 'Somen', 'Ty ngậm Philips Avent', 'Good Health', 'ColosGold Step 4', 'Dung dịch vệ sinh phụ nữ Crevil', 'Túi trữ sữa Perfection', 'ColosGold Step 1', 'Gối nằm bông gòn TH khác', 'Bộ trải tiện ích EVERON', 'Corbiere', 'Quần short bé gái', 'Fruit Me Up', 'Gói Hội Viên Pink MOM All in', 'Bellamy Step 2', 'Optibac Tím', 'Yến Việt', \"Khăn tắm gia đình Sợi tre S'BABY\", 'Enfa Step 3', 'Tăm, chỉ nha khoa', 'Dung dịch vệ sinh phụ nữ Chilly', 'Hút sữa điện đôi Concung Good', 'Orihiro', 'NAN Supreme Step 2', '1-3Y Nón bé trai', 'Đồ dùng bé ngủ tồn cũ', 'Aptamil Úc Step 3', 'Famna Step 3', 'Morinaga Step 2', 'Núm ty Philips Avent', 'Song Yến', 'Nước xả Aga', 'Vinamilk', 'Gối tựa lưng NIN HOUSE', 'Bình sữa Beanstalk', 'Mũ bảo hiểm/ bảo vệ đầu', 'Gói Hội Viên Pink MOM Upgrade', 'Curmilk', 'Friso Prestige Step 4', 'Dầu Mắc ca', 'Bobby Fresh_Tã Quần', 'Goce', 'Rascal_Tã dán M-XXL', 'Xe tập đi/Bàn chơi đa năng', 'Bubs Organic step 3', 'Máy hút bụi giường nệm Moaz BéBé', 'Blackmores Step 3', 'Milo', 'Hút sữa điện đôi Tommee Tippee', 'Phụ kiện cũ khác', 'Đồ bơi tồn', 'Xe tập đi Tobby', 'Bộ nón bao tay chân', 'Frappy', 'Mùng cho bé Animo', 'Lineabon K2D3', 'Popin Cookin', 'Nước rửa tay Organic care', 'Kem dưỡng da cho bé Bzu Bzu', 'Quần lót tiện lợi ngừng bán', 'Similac Protection Step 1', 'Bodysuit Modal set 2', 'Động vật mô hình', 'Ghế bập bênh Concung Good', 'Khăn gạc, khăn sữa Cotton Animo', 'Dầu Đậu nành', 'Nôi kề giường Baby Pretty', 'Áo ngực bầu', 'Tắm gội toàn thân Wesser', 'Hút sữa điện Philips Avent', 'Kids Boost Step 3', 'Sài Gòn Food', 'Wakodo Step 1', 'Fristy', 'Chăn lưới, chăn len Animo', 'Quần dài bé trai', 'Áo bé trai cũ', 'Nước giặt Ariel', '1-3Y Nón bé gái', 'Sữa tắm khác', 'Friso Gold', 'Khăn ướt bột giấy Huggies', 'Huggies Thường_Tã Quần', 'Whito_Tã Quần', 'Nồi nấu chậm Bear', 'Zott', 'Grow Plus Fruity', 'Lu', 'Humana Step 1', 'Khay trữ đông', 'Happy Bites', 'Nệm Đồng Phú', 'Suku Suku', 'Khăn đa năng TH khác', 'NutriBoost', 'Ferrero Rocher', 'Similac Total Comfort Specialty', 'Nước xả Felce Azzura', 'Sữa rửa mặt Hada Labo', '0-3Y Kẹp', 'Similac Protection Step 3', 'Kem dưỡng ẩm Hada Labo', 'Bodysuit cũ', 'Gối nằm cũ', 'Nước tẩy toilet VIM', '0-12M Nón khăn voan', 'Pink Fong', 'Pediasure Step 3 Specialty', 'Đầm cũ', 'Udon', 'Beanstalk', 'Kem đánh răng Colgate', 'Nước rửa tay Babyganics', 'Tắm gội toàn thân cho bé Bzu Bzu', 'Optimum Step 2', 'Chăm sóc da khác', 'Ghế ngồi xe máy Concung Good', 'Móc/ Giá phơi đồ', 'Little Blossom', 'Dụng cụ ăn uống Marcus, Tommee', 'Gobebe', 'Bobby Fresh_Sơ Sinh', 'Springen', 'Grow plus vàng Step 1 Specialty', 'Dầu Hướng dương', 'Nước giặt D-Nee', 'Từ điển - Thư viện hình ảnh', 'Rong biển rắc', 'Merries_Sơ Sinh', 'Misura', 'Hoành thánh', 'Goute', 'Feroglobin', 'Immunel Step 4', 'Bình sữa Olababy', 'Giày chút chít 229k S15', 'Paysan Breton', '0-12M Bộ nón tay chân sơ sinh bo', 'Dầu Gạo', 'Giày và sandal bé gái S21', 'Nestle đặc trị - KM', 'Metafresh', 'Khăn tắm gia đình Mollis', 'Sữa tắm Felce Azzurra', 'Nutramigen Specialty', 'Devondale', 'Phấn rôm & phấn thơm Johnson Baby', 'Núm ty Moyuum', 'Khẩu trang cho bé PIGEON', 'Colosbaby Mom', 'Sữa rửa mặt Cetaphil', 'Hút sữa điện Gluck', 'Nước súc miệng Spry', 'Núm ty Comotomo', 'Aga', 'Dung dịch vệ sinh phụ nữ SAFORELLE', 'Meiji', 'Kem đánh răng cho bé Bzu Bzu', 'Xịt côn trùng Ars', 'Tarami', 'Moony Natural_Tã Quần', 'Chăm sóc mắt V.Rohto', 'Chăn ga gối NIN HOUSE', 'Haagen Dazs', 'Enfa A2 Step 1', 'Kun', 'Glico Step 4', 'Kem chống hăm Cetaphil', 'Dầu gội Wakamono', 'Bình sữa, phụ kiện Gluck', 'Bobby Fresh_Tã Dán M-XXL', 'Kinder Joy', 'Máy hâm sữa, tiệt trùng Fatz', 'Giày tập đi 165k S13', 'Gel bôi trơn Durex', 'Trị muỗi, côn trùng Baby Ganics', 'Blackmores Step 2', 'Quần sơ sinh Animo', 'Kệ chữ A', 'Mars', 'Xịt mũi Humer', 'Xe tập đi Autoru', 'Khăn lau tóc Animo', 'Provital', 'Miếng dán hạ sốt - Byebye Fever', 'Smartbibi', 'Wellkid', 'Kem dưỡng ẩm Senka', 'Tắm gội thảo dược Rosabela', 'Phụ kiện Animo', 'NAN Nga Step 1', 'Ty ngậm Pigeon', 'Enspire Thái Step 1', 'Hipp Step 4', 'Nôi, cũi  Kub', 'Đầm', 'Ván trượt/Patin/Bảo hộ', 'Bình sữa Concung Good', 'Kid Essential Step 3 Specialty', 'Phấn rôm & phấn thơm Pureen', 'Tã vải cũ', 'Hokka', 'Bodysuit bé gái tam giác', 'Merries_Tã dán M-XXL', 'Tủ, kệ, bàn ghế', 'Meizan', 'Gối nằm bông gòn KUKU', 'Khăn tay đa năng Poemy', 'Miếng lót thấm sữa Pigeon', 'Metacare đặc trị', 'Sữa tắm Dove', 'Nôi chung giường Bebear', 'Phụ kiện bơi tồn', 'Bodysuit đông vải mỏng', 'Lays', 'Tắm gội toàn thân Lactacyd', 'Tấm lót/ Nệm mát/ Chiếu ngừng bán', 'Dầu Mè', 'Ghế rung xích đu Fitch Baby', 'Envy', 'Colos Gain', 'Wakodo Mom', 'Nuvi Grow Step 4', 'Ofukuro', 'Đất nặn/bột nặn', 'Nước giặt Animo', 'Herbs of Gold', 'Kem đánh răng MIDBOS', 'GenKi_Tã Dán M-XXL', 'Băng vệ sinh Diana thường', 'Vitadairy', 'Địu Joie', 'Dầu xả Tresemme', 'Dầu xả Our herb story', 'Dầu Khuynh diệp Euca Kid', 'Zespri', 'Corniche', 'Rascal_Sơ Sinh', 'Phụ kiện treo nôi', 'Bô/ Miếng lót bồn cầu Animo', 'Appekidz Step 3', 'Growplus', 'Enfa US Step 1', 'Vihoney', 'Khăn giấy rút bịch Tessa', 'Dưỡng da Chicco', 'Datino', 'Nệm mát Pureen', 'Baby Ball', 'Biolizin', 'Hạt Óc chó', 'Bubs A2 Step 1', 'Rockit', 'Ensure Step 0', 'Ivenet', 'Kem chống hăm Goongbe', \"Brand's\", 'Dầu gội Selsun', 'Tắm gội thảo dược Sachi', 'Bộ quần áo bé gái', 'Nhiệt kế Microlife', 'Tắm gội toàn thân Johnson Baby', 'Sữa tắm Cetaphil', 'Morinaga Step 1', 'Ghế ngồi ăn chân cao Kinderkraft', 'S26 Step 3', 'Kabrita Step 1', 'CDK', 'Grow plus vàng Step 1', 'Dưỡng da Cetaphil', 'Vinamilk Organic Step 2', 'S26 Step 2', 'Địu ngừng bán', 'Dép sục S17', 'Thú bông', 'Yếm Animo', 'Nước rửa bình sữa Dapple', 'Mega', 'Purelac Step 2', 'Nước rửa bình sữa Bzu Bzu', 'ILDong số 2', 'Metacare Step 2', 'Máy hâm sữa, tiệt trùng Kenjo', 'Sữa tắm Dettol', 'NAN Organic_Step 4', 'Áo sơ sinh Animo', 'Similac Step 2', 'Dụng cụ ăn uống Pigeon', 'Tinh dầu tự nhiên Haeva', 'Khăn ướt Mamamy', 'Yếm cho bé', 'Sữa tắm Aveeno', 'Bình sữa Wesser', 'Nước giặt Earth Choice', 'Bellamy Step 4', 'Bóng/lều bóng', 'Zeambi', 'Dalat Milk', 'Enfa Step 4', 'Vinamilk Green Farm', 'Nước xả Con Cung Gentle Care', 'Xịt mũi Xisat', 'Nfood', 'Băng vệ sinh UUCare', 'XiaoLeFeng', 'Pop Ups', 'Elprairie AW_Sơ sinh', 'Gặm nướu silicone Animo', 'Goon Premium_Tã dán M-XXL', 'Khăn gạc, khăn sữa Sợi Tre Animo', 'Grow Plus Đỏ Step 3 Specialty', 'Nescafe', 'Khẩu trang người lớn NIVA', 'Bình sữa, phụ kiện Pur', 'Seoul Milk', 'Bellamy Step 1', '3-6Y Nón bé trai', 'Wakodo Step 2', 'Gold Bird', 'Probi', 'Bình tập uống Edison', 'Lifes Nest', 'Chăn ga gối EVERON', 'Kẹo Nhật', 'Lucky Me', 'Băng vệ sinh Kotex', 'DHC', 'NAN Expert Specialty', 'Hút sữa rảnh tay Fatz', 'Huggies Thin & Soft_Tã Quần', 'Meiji Step 1', 'Yoko Step 4', 'Dầu gội Wonmom', 'Scooter 2 bánh/3 bánh', 'Áo sơ sinh Animo Easy', 'Bodysuit bé gái đùi', 'Dầu Kim Agi', 'Colosbaby D3K2 Step 3', 'Hút sữa tay', 'Nước rửa bình sữa Kodomo', 'Bellamy Mom', 'Khăn ăn Bless you', 'Phụ kiện Wesser', 'La Vie', 'Trị muỗi, côn trùng Chicco', 'Brauer', 'Colosbaby IQ Gold Step 3', 'Burine', 'Khẩu trang cho bé Anyguard', 'Dưỡng tóc Milaganics', 'Bubs A2 Step 3', 'Phụ kiện khác', 'Whito_Tã dán M-XXL', 'The Coffee House', 'Xe chòi chân', 'Orion', 'Nhiệt kế ngừng bán', 'A2 milk', 'LiveSpo', 'Danalac', 'Tắm gội toàn thân Dnee', 'Phấn rôm & phấn thơm Pigeon', 'Bình sữa Aga-ae', 'Dép sục S25', 'Nịt bụng cho mẹ', \"Khăn tay đa năng S'BABY\", 'Nôi vải Khang Home', 'Nước tẩy trang Micellar', 'Nước rửa tay khác', 'Manna', 'Kem đánh răng Ích Nhi', 'Nước lau sàn Sunlight', 'Kem chống hăm Chicco', 'Optimum Step 4', 'Enspire Thái Step 3', 'Taylor', 'Chan Bé', 'Mắt kính cho bé tồn', 'Nôi, cũi Joie', 'Choco Rock 2', 'Varna Colostrum', 'Faneco', 'Học tập', 'Sáp thơm Glade', 'Haribo', 'Đầm bé gái Animo Easy', 'Dầu gội Hairburst', 'Gumazing', 'Gói Hội Viên 12 tháng Mass', 'Bình tập uống Ami', 'Tắm gội toàn thân Mustela', 'Dụng cụ ăn uống Ami', 'Bông tẩy trang Silcot', 'Kem đánh răng Chicco', 'Thau/ Lưới tắm ConCung Good', 'Bình tập uống Richell', 'Whoopee_Tã Quần', 'Enfa US Step 3', 'Ferrolip', 'Hộp đựng phấn rôm', 'Xịt mũi Navax', 'Similac', \"Khăn ăn E'mos\", 'Bubs Goat Step 4', 'Humana Step 4', 'Kenko', 'Orion Nhật', 'Ty ngậm Nuby, Dr Brown', 'Nước xả Enfant', 'Colosbaby Bio Gold Step 3', 'Huro', 'Fitolife', 'Băng vệ sinh Laurier', 'Yếm nhập khẩu', 'Meiwa', 'Relkon', 'Khăn gạc, khăn sữa Mamaru', 'Áo bé trai', 'Bubs Organic step 1', 'Oralux', 'Nước rửa bình sữa Con Cung Gentle Care', 'Máy hâm sữa, tiệt trùng Animo', 'Slide', 'Giày chút chít 179k S14', 'Nước xả Earth Choice', 'TH', 'Bình tập uống Bbox', 'Dầu gội X-men', 'Grow plus vàng Step 4 Specialty', 'Nôi, cũi Autoru', 'Dầu gội Clear', 'Nestle Gấu', 'Meadow Fresh', 'Enfa A2 Step 4', 'Kiwigarden', 'Byba', 'Huggies Thin & Soft_Tã Dán', 'Confidence_Tã quần', 'Quần lót cho bé', 'Aptamil NZ Step 4', 'Nhật', 'Friso Mom', 'Giày chút chít 229k S14', 'Sữa tắm Cung đình', 'Gel trị mụn Decumar', 'Dược Khoa', 'Dung dịch vệ sinh phụ nữ Lovely', 'Tấm lót chống thấm Mama', 'Áo bé trai Animo Easy', 'Bình sữa Philips Avent', 'Áo bé gái', 'Gối chống trào ngược Animo', 'Molfix_Tã quần', 'Abbott Grow Gold Step 4', 'Meiji Step 4', 'Colosbaby D3K2 Step 1', 'Nestle', 'Máy đưa võng', 'Saila', 'Máy hâm sữa, tiệt trùng Philips Avent', 'Sữa tắm Johnson Baby', 'Bubs Goat Step 2', 'Tắm gội thảo dược Yaocare', 'Nước rửa bình sữa D-Nee', 'Tắm gội X-men', 'Green Babi', 'Dép sục S19', 'Văn phòng phẩm', 'Nan A2 Step 1', 'Bộ quần áo bé trai', 'Tấm lót chống thấm Vietmat', 'Nước hoa Chicco', 'Địu vải Bubi', 'Giày chút chít 229k S17', 'Bình sữa Moyuum', 'Bellamy', 'Varna Complete Adult', 'Dầu gội Cetaphil', 'Enfa C-sec Step 1', 'Dầu gội OGX', 'Dầu Olive', 'Dielac Grow Plus Step 4 Specialty', 'Đồ chơi bập bênh', 'Chiếu điều hòa Animo', 'Xe đẩy Gluck', 'Máy đo huyết áp/ Máy xông', 'Sữa tắm Enchanteur', 'Khăn ướt Rascal + Friends', 'Grow plus vàng', 'Xe đẩy Kinderkraft', 'Ikumune', \"M'Smarty\", 'Tắm gội toàn thân Pigeon', 'Sun-Hee', 'Máy hâm sữa, tiệt trùng Boboduck', 'Little Etoile', 'Khăn giấy khô Kleenex', 'Ty ngậm Kuku', 'Yumearth', 'Chocopie', \"Khăn mặt S'BABY\", 'Dụng cụ ăn uống Edison', 'Nước xả Goongbe', 'Dưỡng da Aga-ae', 'Túi ngủ', 'Dielac Grow', 'Băng vệ sinh Sofy', 'Your Supper Food', 'Gối ôm Animo', 'Dụng cụ ăn uống Konbini', 'Núm ty Tommee Tippee', 'Enfa Gentle care Step 3', 'Dầu Mù U Thái Dương', 'Túi trữ sữa Sunmum', \"Kem dưỡng đầu ti Palmer's\", 'Animo_Tã quần', 'Dụng cụ ăn uống Nuby, Dr Brown', 'Sữa rửa mặt Senka', 'Xe đẩy Cool Baby', 'Dép sục S21', 'Xông vùng kín', 'Nước giặt Omo', 'Kidsmania', 'Dầu xả Tsubaki', 'Pregnacare', 'Bộ chăn gối nệm cũ', 'Mệ đoan', 'Máy hâm sữa, tiệt trùng Gluck', 'Tắm gội toàn thân Goongbe', '0-12M Bodysuit đông vải mỏng', 'Thiên Việt', 'NAN Step 1', 'Nôi, cũi Concung Good', 'Bàn chải điện', 'Quần lót bầu', 'Galactogil', 'Hipp', 'Grow plus vàng Step 3 Specialty', 'Dầu tràm khác', 'Merries 1st Premium_Tã quần', 'Goon Premium_Sơ Sinh', 'Kem dưỡng ẩm Cetaphil', 'Bô/ Miếng lót bồn cầu Inochi', 'Nunest', 'Morinaga', 'Giày tập đi 89k S12', 'Dầu gội Delon', 'Hút sữa ngừng bán', 'Pretz', 'Lactozim', 'S26 Step 1', 'Trị muỗi, côn trùng Haeva', 'Friso Pro Step 1', 'Caryn_Tã quần', 'Thú nhún kéo', 'Abbott Grow Step 1', 'Similac Step 1', 'Hạt hỗn hợp', 'Mặt nạ dưỡng da khác', 'Colos DHA Step 3', 'Agnesi', 'Chupa Chups', 'Bledina', 'Que Thử Thai Quickstick', 'Natori', 'Gối nằm cao su Đồng Phú', 'Xe đạp 2 bánh/3 bánh', 'Xe tập đi ngừng bán', \"Baby's Tooth\", 'Bình giữ nhiệt LnL', 'Pampers Nhật_Sơ Sinh', 'Núm ty Dr Brown', 'Alvins', 'Hipp Step 1', 'Giày và sandal bé gái S23', '0-3Y Hộp thun', \"Nature's Way Trio\", 'Funmore', 'Ty ngậm ConCung Good', 'ColosGold Step 2', 'Meiji nội địa Step 3', 'Phụ kiện Moaz BéBé', 'Núm ty Beanstalk', 'Colosbaby IQ Gold Step 1', 'Green Calcium', 'ColosCare Step 1', 'Aptamil Hà Lan Step 2', 'Tokyo Noodle', 'Gối chặn Animo', 'Kentek', 'Khăn tắm Yko', 'Tắm gội toàn thân Cadum', 'Gói Hội Viên 3 tháng Mass', 'Bao cao su Durex', 'Sandal bé trai S19', 'Enspire Thai Step 1', 'Thú rối', 'Dầu gội Thái Dương', 'Bình tập uống Mam', 'Ptit', 'Dầu xả Organic care', 'Sáp thơm Ami', 'Enfamil A2 Step 3', 'Đồ lưu niệm', 'Dielac Grow Plus Step 3 Specialty', 'Nhiệt kế AOJ', 'Dầu tràm Tiên Ông', 'Otto', 'Khăn lau hạ sốt - Dr. Papie', 'Nước rửa tay Dettol', 'Dưỡng tóc Tsubaki', 'Bình giữ nhiệt Diller', 'Tắm gội thảo dược Cung Đình', 'Mister Potato', 'Xe mô hình/hoạt hình', 'Grow plus xanh Step 4 Specialty', 'Dorkbua', 'Bestical', 'Tắm gội thảo dược Dao Care Baby', 'Minik Bonbon', 'Yakult', 'Bình, túi ủ sữa', 'Phụ kiện Pigeon', 'Minion Happy', 'Elevit', 'Bộ bé trai Animo', 'Healthy Care', 'Cây Thị', 'Nước rửa bình sữa Dr.Spock', 'Chela', 'Gia vị rắc', 'Dưỡng da Natural Botanical', 'Bình sữa Hegen', 'Nutren Step 3 Specialty', 'Nước tẩy trang Simple', 'Giày sơ sinh 119k S11', 'Ghế ngồi ô tô Joie', 'Swiss Energy', 'Nước rửa bình sữa Ecos', 'Mabio', 'Ghế ngồi ăn chân cao Joie', 'Sách tương tác, vừa học vừa chơi', 'Phụ kiện Philips Avent', 'Huggies Thường_Tã Dán M-XXL', 'Khăn tắm gia đình Sợi tre Animo', 'Lotte', 'Chăn tồn cũ', 'Set 2 đôi vớ', 'Pediasure', 'Dầu Khuynh diệp Mệ Đoan', 'Enfa C-sec Step 3', 'Gặm nướu silicone Mombella', 'NAN Organic_Step 2', 'Quần sơ sinh', 'Xe điều khiển', 'Cung Đình', 'Núm ty Mam', 'Gối nằm cao su TH khác', 'Bobby Antimos_Tã Quần', 'Cá hộp', 'Vinamilk 9 loại hạt', 'Miếng lót thấm sữa ChuchuBaby', 'Dầu xả Sunsilk', 'Bodysuit Chống muỗi set 2', 'Hikari', \"C'Lavie\", 'Ghế ngồi ăn Akigo', 'Doppel Herz', 'Sách tô màu, bóc dán, luyện chữ', 'Khăn ướt Hàn Quốc - Cheng Cheng', 'Nissui', 'Đồ chơi âm nhạc', 'Nước rửa bình sữa Aga', 'Xe đẩy ngừng bán', 'A2 full cream milk', 'Máy pha sữa Baby Brezza', 'Menacal', 'Enfa Mom', 'Oggi Gold', 'Bình đun nước Bear', 'Hoff', 'Giấy vệ sinh Bless you - Lốc 10', 'Similac Step 4', 'Khẩu trang người lớn Anyguard', 'Optimum Step 3', 'Khăn tắm gia đình Sợi sồi Animo', 'Dielac Step 4', 'Damtuh', 'Kabrita Step 3', 'Bình sữa khác', 'BioCare', 'Kinohimitsu', 'NAN Supreme Step 1', 'Phụ kiện Bebear', 'Xịt mũi Bisalt & Hymasalt', 'Kagome', 'Friso Step 1', 'ColosCare Step 4', 'Dung dịch vệ sinh cho bé Saforelle', 'Thau/ Lưới tắm Animo', 'Mùng cho bé TH khác', 'Green Bird', 'Dielac Alpha Step 1', 'Trị muỗi Remos', 'Chăn vải chần bông TH khác', 'Phụ kiện Concung Good', 'Bóng mềm', 'Enspire Step 1', 'MyVita', 'Dầu Mix hạt', 'Celano', 'HiBaby', 'Xịt thơm miệng Pierrot', 'Máy xay Animo', '0-12M Bodysuit bé trai đùi', 'Sanest', 'Friso Step 2', 'Fe max', 'Alphagen Step 3', 'Bodysuit bé trai tam giác', 'Tan mỡ', 'Dép sục cho bé tồn', 'Pampers Thường_Tã Quần', 'Bình sữa Edison', 'Áo bé trai Animo', 'Khăn bếp Bless you', 'Xe đẩy Combi', 'Dụng cụ ăn uống Bebear', 'Bodysuit', 'Bledina NK', 'Tắm gội thảo dược Dr.Papie', 'Nước lau bếp Earth Choice', 'Custas', 'Bao cao su Okamoto', 'Maggi', 'Nan A2 Step 3', 'Friso', 'Ty ngậm Mam', 'Dầu gội Romano', 'Immunel Step 3', 'Huggies Skin Perfect_Tã Quần', 'Similac Protection Step 4', 'Merries Volume Up_Sơ sinh', 'Khăn choàng ủ Animo', 'Caprisun', 'Bảo nhiên', 'Khăn giấy bỏ túi Tempo - Lốc 6', 'Bộ bé gái Animo', 'Kem đánh răng Kuku', 'Phụ kiện Puku', 'Kiến thức bách khoa', 'Optimum Gold', 'Giấy vệ sinh Bless you Famille - Lốc 10', 'ColosCare', 'Gối khác cũ', 'Fruit Jelly', 'Thảm xốp gấp gọn', 'Giặt xả MaxKleen', 'Ruốc', 'Ty ngậm Tommee Tippee', 'Đồ chơi nhà tắm', 'Yếm', '137', 'Sweety_Tã quần', 'Thanh Lương Thảo', 'Bình sữa Pigeon', 'Quần short bé trai', 'Goon Premium_Tã Quần', 'Nước giặt Enfant', 'NAN Step 3', 'Máy tạo ẩm Laica', 'Kem chống nắng Anessa', 'Jele', 'Đồ chơi phát nhạc', 'Metacare Step 1', 'Viên sủi Fitolife', 'Gạc, rơ lưỡi tẩm ngừng bán', 'Núm ty Gluck', 'Quần lót tiện lợi Animo', 'Bubs A2 Step 2', 'Glucerna Step 0', 'Animo_Tã dán M-XL', 'Máy vắt cam Bear', 'Sugus', 'Pasquier', 'Colosbaby', 'Bioamicus', 'Giày và sandal bé gái S17', 'Ghế ngồi ăn gỗ Autoru', 'Túi, hộp, màng bọc thực phẩm', 'Xe nhún ngừng bán', 'Chăm sóc da bé khác', 'Picnic', 'Ensure Adult', 'Giày tập đi 165k S14', 'TH Milk', 'Búp bê', 'Ghế ngồi ô tô', 'Agusha', 'Kem chống nắng Senka', 'Nước cân bằng Simple', 'Bông tắm/ Nón gội đầu', 'Quây cũi', 'Ostercare', 'Bút thử thai QuickStick', \"C'est Bon\", 'Buona', 'Giày tập đi 89k S14', 'Sangha', 'Pasta', 'Nước rửa bình sữa Berkley', 'Bodysuit bé gái dài', 'Băng vệ sinh Abena sau sinh', 'Núm ty Olababy', 'Tẩy tế bào chết cơ thể Cocoon', 'Vinamilk Organic Step 1', 'Thuyền Xưa', 'Phụ kiện Dr Brown', 'Colos Opti Step 3', \"Nature's Bounty\", 'Tắm Thảo dược', 'Friso Step 4', 'Vệ sinh móng', 'Phụ kiện Aga-ae', 'Eugica', 'Nước cân bằng Senka', 'Viên sủi Sapphire', 'Nước rửa chén Gift', 'Phấn rôm & phấn thơm Cadum', 'Bubs Organic step 2', 'Bình ủ cháo', 'Cozy', 'Nutrinest', 'Bourbon', 'Kem trị rôm sảy Oribebe', 'Cân sức khỏe', 'Dầu xả Delon', 'Huggies Skin Perfect_Sơ Sinh', 'Sữa dưỡng thể Vaseline', 'Nissin', 'Pampers Nhật_Tã Quần', 'Nestea', 'Neo Kids', 'Friso Pro Step 3', 'Tắm gội toàn thân Babi mild', 'Bình tập uống Animo', 'Dimao', 'Merries Volume Up_Tã dán M-XXL', 'Áo bé gái cũ', 'Dụng cụ ăn uống Mombella', 'Bebecook', 'Bình sữa Gluck', 'Blackmores', 'Sữa rửa mặt khác', 'Blackmores Step 1', '0-3Y Bộ đông bé trai dài', 'Giày sơ sinh 119k S10', 'Xúc xắc Animo', 'Kem đánh răng Spry', 'M&M', 'Dầu gội Dove', 'Sữa tắm mụn Acnevir', 'Pfanner', 'Aptamil NZ Step 3', 'Đồ Chơi khác', 'Pati', 'Oreo', 'Gadopax', 'Xe đẩy Mstar', 'Bình tập uống ngừng bán', 'Takato_Sơ Sinh', 'Nam Dược', '2-6Y Vòng tay, vòng cổ', 'Rascal_Tã quần', 'Kids Mix', 'Colosbaby Bio Gold Step 4', 'Nước rửa chén Sunlight', 'Bauli', 'Băng vệ sinh Molped', 'Set 2 Nón sơ sinh', 'Tấm lót chống thấm Concung Good', 'Merries_Tã Quần', 'Wellman', 'Colos Gain Step 1 Specialty', 'JustNest', 'Khăn mặt Luck Lady', 'Kem đánh răng Our herb story', 'Vớ cho mẹ', 'Dầu Khuynh diệp Eagle', 'Goon Friend_Tã Quần', 'Dưỡng da Goongbe', 'Khẩu trang cho bé Skaters', 'Giày dép cũ tồn', 'Máy hâm sữa, tiệt trùng Tommee Tippee', 'Khăn ướt gia dụng Läupro', 'Quần bé trai cũ', 'Sữa tắm Olay', 'Bao tay chân', 'Khẩu trang cho bé NIVA', 'Yoko', 'Xe thăng bằng', 'Gerber', 'Helio', \"Wall's\", 'BioIsland', 'Dầu Sachi', 'CJ Food', 'Mixxi', 'Băng đô tồn', \"Nature's Gift\", 'Ghế ngồi ăn Animo', 'Xe đẩy Animo', 'Tắm gội toàn thân Purite', 'Chăn bông Animo', 'Nước xả D-Nee', 'Hi Mom', 'GenKi_Tã Quần', 'Trị muỗi Mosquitan', 'Sách vải', 'Miếng dán mụn Somaderm', 'Áo sơ sinh', 'Khẩu trang cho bé Wakamono', 'Bodysuit Animo Easy', 'Bánh flan', 'Similac Step 3', 'Kem đánh răng Kindee', 'Xúc xắc Polesie', 'Khăn lau hạ sốt Oribebe', 'Enfa Step 1', 'Kem đánh răng khác', 'Famna', 'Khăn mặt Mollis', 'Bình tập uống Kuku', 'Grow plus vàng Step 3', 'Cerelac Nutripuffs', 'Bàn chải 0-1Y', 'Dielac Step 3', 'Dụng cụ ăn uống Baby&I', 'Dầu xả Pantene']\n"
     ]
    }
   ],
   "source": [
    "print(df_item['category'].unique().to_list())"
   ]
  }
 ],
 "metadata": {
  "kernelspec": {
   "display_name": "Python 3",
   "language": "python",
   "name": "python3"
  },
  "language_info": {
   "codemirror_mode": {
    "name": "ipython",
    "version": 3
   },
   "file_extension": ".py",
   "mimetype": "text/x-python",
   "name": "python",
   "nbconvert_exporter": "python",
   "pygments_lexer": "ipython3",
   "version": "3.11.8"
  }
 },
 "nbformat": 4,
 "nbformat_minor": 5
}
