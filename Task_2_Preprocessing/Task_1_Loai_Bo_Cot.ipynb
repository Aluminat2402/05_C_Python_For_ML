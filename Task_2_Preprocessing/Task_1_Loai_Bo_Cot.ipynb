{
  "cells": [
    {
      "cell_type": "markdown",
      "id": "a966b847",
      "metadata": {},
      "source": [
        "# User chunk"
      ]
    },
    {
      "cell_type": "markdown",
      "id": "b5b9cb61",
      "metadata": {},
      "source": [
        "| Cột              | Giữ / Loại bỏ       | Lý do                                                                                                               |\n",
        "| ---------------- | ------------------- | ------------------------------------------------------------------------------------------------------------------- |\n",
        "| `customer_id`, `user_id`    | ✅ Giữ| các biến định danh, không mang ý nghĩa thống kê trong phân tích dữ liệu. Nhưng  có thể giữ lại để liên kết với purchase chunk và item chunk|\n",
        "| `gender`         | ✅ Giữ               | Có thể ảnh hưởng đến hành vi mua hàng                                                                               |\n",
        "| `location`       | ✅ Giữ               | Thể hiện mã khu vực – hữu ích trong phân tích địa lý                                                                |\n",
        "| `province`       | ✅ Giữ               | Dùng phân tích xu hướng theo địa phương                                                                             |\n",
        "| `region`         | ✅ Giữ               | Cung cấp thông tin phân cấp cao hơn, có thể hữu ích trong mô hình                                                   |\n",
        "| `membership`     | ✅ Giữ               | Ảnh hưởng lớn đến hành vi và giá trị khách hàng                                                                     |\n",
        "| `sync_status_id` | ❌ Loại bỏ           | Gần như toàn bộ giá trị Null, phần còn lại đều bằng 2 → không có giá trị phân biệt                                  |\n",
        "| `location_name`  | ❌ Loại bỏ           | Dữ liệu quá chi tiết, rời rạc và không khái quát được                                                               |\n",
        "| `install_app`    | ✅ Giữ               | Kênh cài đặt có thể ảnh hưởng đến tần suất mua hàng                                                                 |\n",
        "| `district`       | ⚙️ Giữ có điều kiện | Có thể giữ nếu cần phân tích chi tiết theo khu vực; nếu không, loại bỏ do trùng lặp thông tin địa lý với `province` |\n",
        "| `is_deleted`     | ❌ Loại bỏ           | Toàn bộ là `False`, không mang thông tin                                                                            |\n"
      ]
    },
    {
      "cell_type": "code",
      "execution_count": 3,
      "id": "1b2ad405",
      "metadata": {},
      "outputs": [],
      "source": [
        "import os\n",
        "import polars as pl\n",
        "import matplotlib.pyplot as plt\n",
        "import seaborn as sns\n",
        "import numpy as np"
      ]
    },
    {
      "cell_type": "code",
      "execution_count": 4,
      "id": "2d2a0933",
      "metadata": {},
      "outputs": [],
      "source": [
        "def read_parquet_by_type(train_path: str):\n",
        "    # Lấy tất cả các file parquet trong thư mục\n",
        "    files = [os.path.join(train_path, f) for f in os.listdir(train_path) if f.endswith('.parquet')]\n",
        "    \n",
        "    # Phân loại các file theo loại tên\n",
        "    user_chunk_files = [file for file in files if 'user_chunk' in file]\n",
        "    purchase_history_chunk_files = [file for file in files if 'purchase_history_daily_chunk' in file]\n",
        "    item_chunk_files = [file for file in files if 'item_chunk' in file]\n",
        "    \n",
        "    # Đọc các file riêng biệt thành DataFrame\n",
        "    user_chunk_df = pl.concat([pl.read_parquet(file) for file in user_chunk_files]) if user_chunk_files else None\n",
        "    purchase_history_chunk_df = pl.concat([pl.read_parquet(file) for file in purchase_history_chunk_files]) if purchase_history_chunk_files else None\n",
        "    item_chunk_df = pl.concat([pl.read_parquet(file) for file in item_chunk_files]) if item_chunk_files else None\n",
        "    \n",
        "    # Trả về một dictionary chứa các DataFrame\n",
        "    return {\n",
        "        \"user_chunk\": user_chunk_df,\n",
        "        \"purchase_history_chunk\": purchase_history_chunk_df,\n",
        "        \"item_chunk\": item_chunk_df\n",
        "    }"
      ]
    },
    {
      "cell_type": "code",
      "execution_count": 5,
      "id": "b2126c08",
      "metadata": {},
      "outputs": [],
      "source": [
        "train_path = 'E:\\KHMT2023_CS_UIT/05_C_Python_For_ML/recommendation_dataset'\n",
        "dataframes = read_parquet_by_type(train_path)\n",
        "\n",
        "df_user = dataframes[\"user_chunk\"]\n",
        "df_purchase = dataframes[\"purchase_history_chunk\"]\n",
        "df_item = dataframes[\"item_chunk\"]"
      ]
    },
    {
      "cell_type": "code",
      "execution_count": 6,
      "id": "0ff9e5cc",
      "metadata": {},
      "outputs": [
        {
          "name": "stdout",
          "output_type": "stream",
          "text": [
            "User Chunk DataFrame:\n"
          ]
        },
        {
          "data": {
            "text/html": [
              "<div><style>\n",
              ".dataframe > thead > tr,\n",
              ".dataframe > tbody > tr {\n",
              "  text-align: right;\n",
              "  white-space: pre-wrap;\n",
              "}\n",
              "</style>\n",
              "<small>shape: (5, 8)</small><table border=\"1\" class=\"dataframe\"><thead><tr><th>customer_id</th><th>user_id</th><th>gender</th><th>location</th><th>province</th><th>region</th><th>membership</th><th>install_app</th></tr><tr><td>i32</td><td>str</td><td>str</td><td>i32</td><td>str</td><td>str</td><td>str</td><td>str</td></tr></thead><tbody><tr><td>14732</td><td>&quot;e1e48206652bf8c279ff0206c69a80…</td><td>&quot;Nam&quot;</td><td>155</td><td>&quot;Hồ Chí Minh&quot;</td><td>&quot;Đông Nam Bộ&quot;</td><td>&quot;Standard&quot;</td><td>&quot;In-Store&quot;</td></tr><tr><td>15126</td><td>&quot;77891759204bd27e69fb11a7b92889…</td><td>&quot;Nữ&quot;</td><td>300</td><td>&quot;Hồ Chí Minh&quot;</td><td>&quot;Đông Nam Bộ&quot;</td><td>&quot;Standard&quot;</td><td>&quot;In-Store&quot;</td></tr><tr><td>29718</td><td>&quot;b8041b584a0bb6655361727a0a6108…</td><td>&quot;Nữ&quot;</td><td>157</td><td>&quot;Bến Tre&quot;</td><td>&quot;Đồng bằng sông Cửu Long&quot;</td><td>&quot;Standard&quot;</td><td>&quot;In-Store&quot;</td></tr><tr><td>30077</td><td>&quot;c52ceaca44a83ec41a219cfaff0e05…</td><td>&quot;Nữ&quot;</td><td>53</td><td>&quot;Hồ Chí Minh&quot;</td><td>&quot;Đông Nam Bộ&quot;</td><td>&quot;Standard&quot;</td><td>&quot;In-Store&quot;</td></tr><tr><td>30085</td><td>&quot;74ac5764f5d67d341aacf238d7762f…</td><td>&quot;Nữ&quot;</td><td>660</td><td>&quot;Hồ Chí Minh&quot;</td><td>&quot;Đông Nam Bộ&quot;</td><td>&quot;Standard&quot;</td><td>&quot;In-Store&quot;</td></tr></tbody></table></div>"
            ],
            "text/plain": [
              "shape: (5, 8)\n",
              "┌─────────────┬────────────┬────────┬──────────┬────────────┬────────────┬────────────┬────────────┐\n",
              "│ customer_id ┆ user_id    ┆ gender ┆ location ┆ province   ┆ region     ┆ membership ┆ install_ap │\n",
              "│ ---         ┆ ---        ┆ ---    ┆ ---      ┆ ---        ┆ ---        ┆ ---        ┆ p          │\n",
              "│ i32         ┆ str        ┆ str    ┆ i32      ┆ str        ┆ str        ┆ str        ┆ ---        │\n",
              "│             ┆            ┆        ┆          ┆            ┆            ┆            ┆ str        │\n",
              "╞═════════════╪════════════╪════════╪══════════╪════════════╪════════════╪════════════╪════════════╡\n",
              "│ 14732       ┆ e1e4820665 ┆ Nam    ┆ 155      ┆ Hồ Chí     ┆ Đông Nam   ┆ Standard   ┆ In-Store   │\n",
              "│             ┆ 2bf8c279ff ┆        ┆          ┆ Minh       ┆ Bộ         ┆            ┆            │\n",
              "│             ┆ 0206c69a80 ┆        ┆          ┆            ┆            ┆            ┆            │\n",
              "│             ┆ …          ┆        ┆          ┆            ┆            ┆            ┆            │\n",
              "│ 15126       ┆ 7789175920 ┆ Nữ     ┆ 300      ┆ Hồ Chí     ┆ Đông Nam   ┆ Standard   ┆ In-Store   │\n",
              "│             ┆ 4bd27e69fb ┆        ┆          ┆ Minh       ┆ Bộ         ┆            ┆            │\n",
              "│             ┆ 11a7b92889 ┆        ┆          ┆            ┆            ┆            ┆            │\n",
              "│             ┆ …          ┆        ┆          ┆            ┆            ┆            ┆            │\n",
              "│ 29718       ┆ b8041b584a ┆ Nữ     ┆ 157      ┆ Bến Tre    ┆ Đồng bằng  ┆ Standard   ┆ In-Store   │\n",
              "│             ┆ 0bb6655361 ┆        ┆          ┆            ┆ sông Cửu   ┆            ┆            │\n",
              "│             ┆ 727a0a6108 ┆        ┆          ┆            ┆ Long       ┆            ┆            │\n",
              "│             ┆ …          ┆        ┆          ┆            ┆            ┆            ┆            │\n",
              "│ 30077       ┆ c52ceaca44 ┆ Nữ     ┆ 53       ┆ Hồ Chí     ┆ Đông Nam   ┆ Standard   ┆ In-Store   │\n",
              "│             ┆ a83ec41a21 ┆        ┆          ┆ Minh       ┆ Bộ         ┆            ┆            │\n",
              "│             ┆ 9cfaff0e05 ┆        ┆          ┆            ┆            ┆            ┆            │\n",
              "│             ┆ …          ┆        ┆          ┆            ┆            ┆            ┆            │\n",
              "│ 30085       ┆ 74ac5764f5 ┆ Nữ     ┆ 660      ┆ Hồ Chí     ┆ Đông Nam   ┆ Standard   ┆ In-Store   │\n",
              "│             ┆ d67d341aac ┆        ┆          ┆ Minh       ┆ Bộ         ┆            ┆            │\n",
              "│             ┆ f238d7762f ┆        ┆          ┆            ┆            ┆            ┆            │\n",
              "│             ┆ …          ┆        ┆          ┆            ┆            ┆            ┆            │\n",
              "└─────────────┴────────────┴────────┴──────────┴────────────┴────────────┴────────────┴────────────┘"
            ]
          },
          "execution_count": 6,
          "metadata": {},
          "output_type": "execute_result"
        }
      ],
      "source": [
        "cols_to_keep_user = [\n",
        "    'customer_id', 'user_id', 'gender', 'location', 'province',\n",
        "    'region', 'membership', 'install_app'\n",
        "]\n",
        "\n",
        "df_user = df_user.select(cols_to_keep_user)\n",
        "\n",
        "print(\"User Chunk DataFrame:\")\n",
        "df_user.head()"
      ]
    },
    {
      "cell_type": "markdown",
      "id": "349c3aea",
      "metadata": {},
      "source": [
        "# Purchase chunk"
      ]
    },
    {
      "cell_type": "markdown",
      "id": "8740af88",
      "metadata": {},
      "source": [
        "| Cột            | Giữ / Loại bỏ | Lý do                                                                                                                                             |\n",
        "| -------------- | ------------- | ------------------------------------------------------------------------------------------------------------------------------------------------- |\n",
        "| `timestamp`    | ✅ Giữ         | Biểu diễn thời gian giao dịch, có thể phân tích xu hướng theo thời gian; cần chuyển từ UNIX timestamp sang dạng datetime để thuận tiện phân tích. |\n",
        "| `user_id`      | ✅ Giữ         | Biến định danh người dùng, cần để liên kết với bảng `User Chunk`; không có ý nghĩa thống kê độc lập nhưng quan trọng cho join dữ liệu.            |\n",
        "| `item_id`      | ✅ Giữ         | Dùng để xác định sản phẩm và phân tích tần suất, mức độ phổ biến của mặt hàng.                                                                    |\n",
        "| `event_type`   | ❌ Loại bỏ     | Toàn bộ dữ liệu chỉ có giá trị “Purchase” → không mang thông tin phân biệt.                                                                       |\n",
        "| `event_value`  | ❌ Loại bỏ     | Tương quan hoàn hảo với `quantity` (r = 1.0) → gây multicollinearity, nên giữ `quantity`.                                                         |\n",
        "| `price`        | ✅ Giữ         | Biến quan trọng để phân tích doanh thu, hành vi giá và khuyến mãi; cần xử lý outlier (trimming hoặc winsorizing).                                 |\n",
        "| `quantity`     | ✅ Giữ         | Thể hiện số lượng mua; cần xử lý outlier (giá trị quá lớn có thể là đơn hàng sỉ hoặc lỗi).                                                        |\n",
        "| `date_key`     | ❌ Loại bỏ     | Tương quan gần tuyệt đối với `timestamp` (r ≈ 0.998) → dư thừa thông tin thời gian.                                                               |\n",
        "| `customer_id`  | ✅ Giữ         | Biến định danh khách hàng, cần để liên kết với bảng `User Chunk`.                                                                                 |\n",
        "| `created_date` | ✅ Giữ         | Thời điểm tạo đơn hàng, có thể khác thời điểm mua (timestamp); hữu ích trong phân tích hành vi và vận hành.                                       |\n",
        "| `payment`      | ✅ Giữ         | Thông tin phương thức thanh toán (cash, transfer, v.v.) → quan trọng trong phân tích kênh thanh toán và hành vi người dùng.                       |\n",
        "| `location`     | ✅ Giữ         | Cho phép phân tích xu hướng mua hàng theo khu vực; không có outlier.                                                                              |\n",
        "| `discount`     | ✅ Giữ         | Thể hiện mức chiết khấu; cần chuẩn hóa hoặc winsorize do phân bố lệch và nhiều outlier.                                                           |\n",
        "| `channel`      | ✅ Giữ         | Phân biệt kênh bán hàng (In-Store, Chat, CRM, v.v.), có mối liên hệ mạnh với `payment` → hữu ích trong phân tích hành vi.                         |\n",
        "| `is_deleted`   | ❌ Loại bỏ     | Toàn bộ giá trị là `False` → không mang thông tin phân biệt.                                                                                      |\n"
      ]
    },
    {
      "cell_type": "code",
      "execution_count": 8,
      "id": "270a6e08",
      "metadata": {},
      "outputs": [
        {
          "name": "stdout",
          "output_type": "stream",
          "text": [
            "Purchase Chunk DataFrame:\n"
          ]
        },
        {
          "data": {
            "text/html": [
              "<div><style>\n",
              ".dataframe > thead > tr,\n",
              ".dataframe > tbody > tr {\n",
              "  text-align: right;\n",
              "  white-space: pre-wrap;\n",
              "}\n",
              "</style>\n",
              "<small>shape: (5, 11)</small><table border=\"1\" class=\"dataframe\"><thead><tr><th>customer_id</th><th>user_id</th><th>item_id</th><th>created_date</th><th>price</th><th>timestamp</th><th>quantity</th><th>location</th><th>discount</th><th>channel</th><th>payment</th></tr><tr><td>i32</td><td>str</td><td>str</td><td>datetime[μs]</td><td>decimal[38,4]</td><td>i64</td><td>i32</td><td>i32</td><td>decimal[38,4]</td><td>str</td><td>str</td></tr></thead><tbody><tr><td>5254214</td><td>&quot;ca12702ddf55acaa9fb767e10faaa6…</td><td>&quot;7115000000004&quot;</td><td>2024-12-24 18:17:01.027</td><td>49000.0000</td><td>1735064221</td><td>1</td><td>656</td><td>0.0000</td><td>&quot;In-Store&quot;</td><td>&quot;VietQR&quot;</td></tr><tr><td>7573232</td><td>&quot;54314ce86269f4849f9a4c3fc85d94…</td><td>&quot;0029130000030&quot;</td><td>2024-12-24 19:28:01.870</td><td>69000.0000</td><td>1735068481</td><td>1</td><td>143</td><td>0.0000</td><td>&quot;In-Store&quot;</td><td>&quot;Tiền mặt&quot;</td></tr><tr><td>8187418</td><td>&quot;4799de4022b58689b2b9fb37122479…</td><td>&quot;3496000000053&quot;</td><td>2024-12-24 19:50:43.760</td><td>75000.0000</td><td>1735069843</td><td>2</td><td>213</td><td>0.0000</td><td>&quot;In-Store&quot;</td><td>&quot;MoMo&quot;</td></tr><tr><td>8187418</td><td>&quot;4799de4022b58689b2b9fb37122479…</td><td>&quot;2700000000002&quot;</td><td>2024-12-24 19:49:39.223</td><td>58500.0000</td><td>1735069779</td><td>2</td><td>213</td><td>13000.0000</td><td>&quot;In-Store&quot;</td><td>&quot;MoMo&quot;</td></tr><tr><td>6931560</td><td>&quot;3b2423f730815273dfd6f6220b0c5c…</td><td>&quot;0029110000036&quot;</td><td>2024-12-28 09:49:33.780</td><td>89000.0000</td><td>1735379373</td><td>1</td><td>590</td><td>10000.0000</td><td>&quot;Android&quot;</td><td>&quot;MoMo&quot;</td></tr></tbody></table></div>"
            ],
            "text/plain": [
              "shape: (5, 11)\n",
              "┌────────────┬────────────┬───────────┬───────────┬───┬──────────┬───────────┬──────────┬──────────┐\n",
              "│ customer_i ┆ user_id    ┆ item_id   ┆ created_d ┆ … ┆ location ┆ discount  ┆ channel  ┆ payment  │\n",
              "│ d          ┆ ---        ┆ ---       ┆ ate       ┆   ┆ ---      ┆ ---       ┆ ---      ┆ ---      │\n",
              "│ ---        ┆ str        ┆ str       ┆ ---       ┆   ┆ i32      ┆ decimal[3 ┆ str      ┆ str      │\n",
              "│ i32        ┆            ┆           ┆ datetime[ ┆   ┆          ┆ 8,4]      ┆          ┆          │\n",
              "│            ┆            ┆           ┆ μs]       ┆   ┆          ┆           ┆          ┆          │\n",
              "╞════════════╪════════════╪═══════════╪═══════════╪═══╪══════════╪═══════════╪══════════╪══════════╡\n",
              "│ 5254214    ┆ ca12702ddf ┆ 711500000 ┆ 2024-12-2 ┆ … ┆ 656      ┆ 0.0000    ┆ In-Store ┆ VietQR   │\n",
              "│            ┆ 55acaa9fb7 ┆ 0004      ┆ 4 18:17:0 ┆   ┆          ┆           ┆          ┆          │\n",
              "│            ┆ 67e10faaa6 ┆           ┆ 1.027     ┆   ┆          ┆           ┆          ┆          │\n",
              "│            ┆ …          ┆           ┆           ┆   ┆          ┆           ┆          ┆          │\n",
              "│ 7573232    ┆ 54314ce862 ┆ 002913000 ┆ 2024-12-2 ┆ … ┆ 143      ┆ 0.0000    ┆ In-Store ┆ Tiền mặt │\n",
              "│            ┆ 69f4849f9a ┆ 0030      ┆ 4 19:28:0 ┆   ┆          ┆           ┆          ┆          │\n",
              "│            ┆ 4c3fc85d94 ┆           ┆ 1.870     ┆   ┆          ┆           ┆          ┆          │\n",
              "│            ┆ …          ┆           ┆           ┆   ┆          ┆           ┆          ┆          │\n",
              "│ 8187418    ┆ 4799de4022 ┆ 349600000 ┆ 2024-12-2 ┆ … ┆ 213      ┆ 0.0000    ┆ In-Store ┆ MoMo     │\n",
              "│            ┆ b58689b2b9 ┆ 0053      ┆ 4 19:50:4 ┆   ┆          ┆           ┆          ┆          │\n",
              "│            ┆ fb37122479 ┆           ┆ 3.760     ┆   ┆          ┆           ┆          ┆          │\n",
              "│            ┆ …          ┆           ┆           ┆   ┆          ┆           ┆          ┆          │\n",
              "│ 8187418    ┆ 4799de4022 ┆ 270000000 ┆ 2024-12-2 ┆ … ┆ 213      ┆ 13000.000 ┆ In-Store ┆ MoMo     │\n",
              "│            ┆ b58689b2b9 ┆ 0002      ┆ 4 19:49:3 ┆   ┆          ┆ 0         ┆          ┆          │\n",
              "│            ┆ fb37122479 ┆           ┆ 9.223     ┆   ┆          ┆           ┆          ┆          │\n",
              "│            ┆ …          ┆           ┆           ┆   ┆          ┆           ┆          ┆          │\n",
              "│ 6931560    ┆ 3b2423f730 ┆ 002911000 ┆ 2024-12-2 ┆ … ┆ 590      ┆ 10000.000 ┆ Android  ┆ MoMo     │\n",
              "│            ┆ 815273dfd6 ┆ 0036      ┆ 8 09:49:3 ┆   ┆          ┆ 0         ┆          ┆          │\n",
              "│            ┆ f6220b0c5c ┆           ┆ 3.780     ┆   ┆          ┆           ┆          ┆          │\n",
              "│            ┆ …          ┆           ┆           ┆   ┆          ┆           ┆          ┆          │\n",
              "└────────────┴────────────┴───────────┴───────────┴───┴──────────┴───────────┴──────────┴──────────┘"
            ]
          },
          "execution_count": 8,
          "metadata": {},
          "output_type": "execute_result"
        }
      ],
      "source": [
        "# Các cột cần giữ lại \n",
        "cols_to_keep_purchase = [\n",
        "    'customer_id', 'user_id', 'item_id', 'created_date', 'price', \n",
        "    'timestamp', 'quantity', 'location', 'discount', 'channel', 'payment'\n",
        "]\n",
        "\n",
        "# Chọn các cột cần giữ\n",
        "df_purchase = df_purchase.select(cols_to_keep_purchase)\n",
        "\n",
        "print(\"Purchase Chunk DataFrame:\")\n",
        "df_purchase.head()\n"
      ]
    },
    {
      "cell_type": "markdown",
      "id": "6d42254e",
      "metadata": {},
      "source": [
        "# Item chunk"
      ]
    },
    {
      "cell_type": "markdown",
      "id": "bf90eb5e",
      "metadata": {},
      "source": [
        "| Cột                  | Giữ / Loại bỏ       | Lý do                                                                                                                                                    |\n",
        "| -------------------- | ------------------- | -------------------------------------------------------------------------------------------------------------------------------------------------------- |\n",
        "| `item_id`            | ❌ Loại bỏ           | Mỗi giá trị đều duy nhất, chỉ mang tính định danh, không cung cấp thông tin thống kê; giữ lại chỉ khi cần join với bảng khác (`purchase`).               |\n",
        "| `is_deleted`         | ❌ Loại bỏ           | Tất cả giá trị đều là `False` → không mang thông tin phân biệt.                                                                                          |\n",
        "| `created_date`       | ✅ Giữ               | Cho biết thời điểm tạo sản phẩm, có thể dùng phân tích vòng đời sản phẩm, xác định hàng cũ / hàng mới.                                                   |\n",
        "| `creation_timestamp` | ✅ Giữ               | Biểu diễn thời gian tạo ở dạng timestamp, có thể dùng phân tích xu hướng sản phẩm theo thời gian; nên chuyển sang dạng datetime để trực quan hóa dễ hơn. |\n",
        "| `price`              | ✅ Giữ               | Biến chính trong phân tích lợi nhuận và định giá sản phẩm; có nhiều outlier nên cần trimming hoặc winsorizing trước khi phân tích.                       |\n",
        "| `gp` (gross profit)  | ✅ Giữ               | Thể hiện lợi nhuận gộp, tương quan cao với `price` (r = 0.8867); có ý nghĩa kinh doanh mạnh, dùng để phân tích hiệu quả từng nhóm sản phẩm.              |\n",
        "| `weight`             | ⚙️ Giữ có điều kiện | Có nhiều giá trị 0 hoặc “Không xác định”; có thể giữ lại nếu muốn phân tích theo khối lượng hoặc vận chuyển, nhưng cần chuẩn hóa đơn vị đo.              |\n",
        "| `category_l1`        | ✅ Giữ               | Danh mục cấp 1 – hữu ích cho phân tích xu hướng ngành hàng lớn, nhưng cần xử lý mất cân đối khi huấn luyện mô hình.                                      |\n",
        "| `category_l2`        | ✅ Giữ               | Danh mục cấp 2 – thể hiện rõ sự khác biệt trong khả năng tiêu thụ sản phẩm (`sale_status` khác nhau đáng kể giữa các nhóm).                              |\n",
        "| `category_l3`        | ✅ Giữ               | Danh mục cấp 3 – phản ánh phân khúc chi tiết của sản phẩm; cần gộp nhóm các nhãn hiếm (rare categories) để giảm nhiễu khi mã hóa.                        |\n",
        "| `brand`              | ⚙️ Giữ có điều kiện | Khoảng 70% giá trị bị thiếu hoặc “Không xác định”; có thể giữ nếu được làm sạch và gộp nhóm “Unknown”, nếu không thì nên loại bỏ do thiếu dữ liệu.       |\n",
        "| `manufacturer`       | ❌ Loại bỏ           | Hơn 94% giá trị “Không xác định” → không mang thông tin hữu ích.                                                                                         |\n",
        "| `gender_target`      | ⚙️ Giữ có điều kiện | 66% “Không xác định”, phần còn lại có thể hữu ích trong phân tích hành vi theo giới tính nếu được làm sạch.                                            |\n",
        "| `age_group`          | ✅ Giữ               | Cung cấp thông tin độ tuổi mục tiêu (dù mất cân đối nhưng vẫn hữu ích để mô tả sản phẩm).                                                                |\n",
        "| `sale_status`        | ✅ Giữ               | Phản ánh tình trạng bán (bán được / không bán được); có mối liên hệ rõ với `category_l2`, hữu ích cho phân tích sức tiêu thụ.                            |\n",
        "| `p_id`               | ✅ Giữ               | Liên quan đến thế hệ mã hàng; giúp nhận diện vòng đời sản phẩm, đặc biệt trong phân tích hàng lỗi thời.                                                  |\n"
      ]
    },
    {
      "cell_type": "code",
      "execution_count": 9,
      "id": "e4859884",
      "metadata": {},
      "outputs": [
        {
          "name": "stdout",
          "output_type": "stream",
          "text": [
            "Item Chunk DataFrame:\n"
          ]
        },
        {
          "data": {
            "text/html": [
              "<div><style>\n",
              ".dataframe > thead > tr,\n",
              ".dataframe > tbody > tr {\n",
              "  text-align: right;\n",
              "  white-space: pre-wrap;\n",
              "}\n",
              "</style>\n",
              "<small>shape: (5, 13)</small><table border=\"1\" class=\"dataframe\"><thead><tr><th>created_date</th><th>creation_timestamp</th><th>price</th><th>gp</th><th>weight</th><th>category_l1</th><th>category_l2</th><th>category_l3</th><th>brand</th><th>gender_target</th><th>age_group</th><th>sale_status</th><th>p_id</th></tr><tr><td>datetime[μs]</td><td>i64</td><td>decimal[38,4]</td><td>decimal[38,4]</td><td>f32</td><td>str</td><td>str</td><td>str</td><td>str</td><td>str</td><td>str</td><td>i32</td><td>i32</td></tr></thead><tbody><tr><td>2012-04-04 09:25:44.240</td><td>1333531544</td><td>99000.0000</td><td>36828.0000</td><td>null</td><td>&quot;Babycare&quot;</td><td>&quot;Bình sữa, phụ kiện&quot;</td><td>&quot;Núm ty&quot;</td><td>&quot;Dr.Brown&#x27;s&quot;</td><td>&quot;Không xác định&quot;</td><td>&quot;Không xác định&quot;</td><td>0</td><td>17065</td></tr><tr><td>2017-08-18 08:50:50.713</td><td>1503046250</td><td>69000.0000</td><td>0.0000</td><td>null</td><td>&quot;Thời trang&quot;</td><td>&quot;Cơ cấu hàng cũ&quot;</td><td>&quot;Thời trang bé trai, bé gái cũ&quot;</td><td>&quot;Con Cưng&quot;</td><td>&quot;Bé Gái&quot;</td><td>&quot;Từ 3Y&quot;</td><td>0</td><td>72370</td></tr><tr><td>2013-01-18 09:33:04.260</td><td>1358501584</td><td>45000.0000</td><td>14490.0000</td><td>null</td><td>&quot;Đồ chơi &amp; Sách&quot;</td><td>&quot;0-1Y&quot;</td><td>&quot;Gặm nướu&quot;</td><td>&quot;Thương hiệu khác&quot;</td><td>&quot;Không xác định&quot;</td><td>&quot;Không xác định&quot;</td><td>0</td><td>31154</td></tr><tr><td>2014-05-14 10:07:19.603</td><td>1400062039</td><td>401000.0000</td><td>59749.0000</td><td>null</td><td>&quot;Tã&quot;</td><td>&quot;Merries&quot;</td><td>&quot;Merries&quot;</td><td>&quot;Merries Nhật&quot;</td><td>&quot;Không xác định&quot;</td><td>&quot;Không xác định&quot;</td><td>0</td><td>46123</td></tr><tr><td>2014-05-14 10:07:20.370</td><td>1400062040</td><td>401000.0000</td><td>65764.0000</td><td>null</td><td>&quot;Tã&quot;</td><td>&quot;Merries&quot;</td><td>&quot;Merries&quot;</td><td>&quot;Merries Nhật&quot;</td><td>&quot;Không xác định&quot;</td><td>&quot;Không xác định&quot;</td><td>0</td><td>46127</td></tr></tbody></table></div>"
            ],
            "text/plain": [
              "shape: (5, 13)\n",
              "┌────────────┬────────────┬────────────┬───────────┬───┬───────────┬───────────┬───────────┬───────┐\n",
              "│ created_da ┆ creation_t ┆ price      ┆ gp        ┆ … ┆ gender_ta ┆ age_group ┆ sale_stat ┆ p_id  │\n",
              "│ te         ┆ imestamp   ┆ ---        ┆ ---       ┆   ┆ rget      ┆ ---       ┆ us        ┆ ---   │\n",
              "│ ---        ┆ ---        ┆ decimal[38 ┆ decimal[3 ┆   ┆ ---       ┆ str       ┆ ---       ┆ i32   │\n",
              "│ datetime[μ ┆ i64        ┆ ,4]        ┆ 8,4]      ┆   ┆ str       ┆           ┆ i32       ┆       │\n",
              "│ s]         ┆            ┆            ┆           ┆   ┆           ┆           ┆           ┆       │\n",
              "╞════════════╪════════════╪════════════╪═══════════╪═══╪═══════════╪═══════════╪═══════════╪═══════╡\n",
              "│ 2012-04-04 ┆ 1333531544 ┆ 99000.0000 ┆ 36828.000 ┆ … ┆ Không xác ┆ Không xác ┆ 0         ┆ 17065 │\n",
              "│ 09:25:44.2 ┆            ┆            ┆ 0         ┆   ┆ định      ┆ định      ┆           ┆       │\n",
              "│ 40         ┆            ┆            ┆           ┆   ┆           ┆           ┆           ┆       │\n",
              "│ 2017-08-18 ┆ 1503046250 ┆ 69000.0000 ┆ 0.0000    ┆ … ┆ Bé Gái    ┆ Từ 3Y     ┆ 0         ┆ 72370 │\n",
              "│ 08:50:50.7 ┆            ┆            ┆           ┆   ┆           ┆           ┆           ┆       │\n",
              "│ 13         ┆            ┆            ┆           ┆   ┆           ┆           ┆           ┆       │\n",
              "│ 2013-01-18 ┆ 1358501584 ┆ 45000.0000 ┆ 14490.000 ┆ … ┆ Không xác ┆ Không xác ┆ 0         ┆ 31154 │\n",
              "│ 09:33:04.2 ┆            ┆            ┆ 0         ┆   ┆ định      ┆ định      ┆           ┆       │\n",
              "│ 60         ┆            ┆            ┆           ┆   ┆           ┆           ┆           ┆       │\n",
              "│ 2014-05-14 ┆ 1400062039 ┆ 401000.000 ┆ 59749.000 ┆ … ┆ Không xác ┆ Không xác ┆ 0         ┆ 46123 │\n",
              "│ 10:07:19.6 ┆            ┆ 0          ┆ 0         ┆   ┆ định      ┆ định      ┆           ┆       │\n",
              "│ 03         ┆            ┆            ┆           ┆   ┆           ┆           ┆           ┆       │\n",
              "│ 2014-05-14 ┆ 1400062040 ┆ 401000.000 ┆ 65764.000 ┆ … ┆ Không xác ┆ Không xác ┆ 0         ┆ 46127 │\n",
              "│ 10:07:20.3 ┆            ┆ 0          ┆ 0         ┆   ┆ định      ┆ định      ┆           ┆       │\n",
              "│ 70         ┆            ┆            ┆           ┆   ┆           ┆           ┆           ┆       │\n",
              "└────────────┴────────────┴────────────┴───────────┴───┴───────────┴───────────┴───────────┴───────┘"
            ]
          },
          "execution_count": 9,
          "metadata": {},
          "output_type": "execute_result"
        }
      ],
      "source": [
        "# Các cột cần giữ lại\n",
        "cols_to_keep_item = [\n",
        "    'created_date', 'creation_timestamp', 'price', 'gp',\n",
        "    'weight', 'category_l1', 'category_l2', 'category_l3',\n",
        "    'brand', 'gender_target', 'age_group', 'sale_status', 'p_id'\n",
        "]\n",
        "\n",
        "# Chọn các cột cần giữ\n",
        "df_item = df_item.select(cols_to_keep_item)\n",
        "\n",
        "print(\"Item Chunk DataFrame:\")\n",
        "df_item.head()\n"
      ]
    }
  ],
  "metadata": {
    "kernelspec": {
      "display_name": "Python 3",
      "language": "python",
      "name": "python3"
    },
    "language_info": {
      "codemirror_mode": {
        "name": "ipython",
        "version": 3
      },
      "file_extension": ".py",
      "mimetype": "text/x-python",
      "name": "python",
      "nbconvert_exporter": "python",
      "pygments_lexer": "ipython3",
      "version": "3.11.8"
    }
  },
  "nbformat": 4,
  "nbformat_minor": 5
}
