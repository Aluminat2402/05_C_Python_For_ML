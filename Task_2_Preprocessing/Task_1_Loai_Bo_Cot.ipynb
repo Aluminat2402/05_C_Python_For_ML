{
 "cells": [
  {
   "cell_type": "markdown",
   "id": "b5b9cb61",
   "metadata": {},
   "source": [
    "| Cột              | Giữ / Loại bỏ       | Lý do                                                                                                               |\n",
    "| ---------------- | ------------------- | ------------------------------------------------------------------------------------------------------------------- |\n",
    "| `customer_id`, `user_id`    | ✅ Giữ| các biến định danh, không mang ý nghĩa thống kê trong phân tích dữ liệu. Nhưng  có thể giữ lại để liên kết với purchase chunk và item chunk|\n",
    "| `gender`         | ✅ Giữ               | Có thể ảnh hưởng đến hành vi mua hàng                                                                               |\n",
    "| `location`       | ✅ Giữ               | Thể hiện mã khu vực – hữu ích trong phân tích địa lý                                                                |\n",
    "| `province`       | ✅ Giữ               | Dùng phân tích xu hướng theo địa phương                                                                             |\n",
    "| `region`         | ✅ Giữ               | Cung cấp thông tin phân cấp cao hơn, có thể hữu ích trong mô hình                                                   |\n",
    "| `membership`     | ✅ Giữ               | Ảnh hưởng lớn đến hành vi và giá trị khách hàng                                                                     |\n",
    "| `sync_status_id` | ❌ Loại bỏ           | Gần như toàn bộ giá trị Null, phần còn lại đều bằng 2 → không có giá trị phân biệt                                  |\n",
    "| `location_name`  | ❌ Loại bỏ           | Dữ liệu quá chi tiết, rời rạc và không khái quát được                                                               |\n",
    "| `install_app`    | ✅ Giữ               | Kênh cài đặt có thể ảnh hưởng đến tần suất mua hàng                                                                 |\n",
    "| `district`       | ⚙️ Giữ có điều kiện | Có thể giữ nếu cần phân tích chi tiết theo khu vực; nếu không, loại bỏ do trùng lặp thông tin địa lý với `province` |\n",
    "| `is_deleted`     | ❌ Loại bỏ           | Toàn bộ là `False`, không mang thông tin                                                                            |\n"
   ]
  },
  {
   "cell_type": "code",
   "execution_count": 4,
   "id": "1b2ad405",
   "metadata": {},
   "outputs": [],
   "source": [
    "import os\n",
    "import polars as pl\n",
    "import matplotlib.pyplot as plt\n",
    "import seaborn as sns\n",
    "import numpy as np"
   ]
  },
  {
   "cell_type": "code",
   "execution_count": 6,
   "id": "2d2a0933",
   "metadata": {},
   "outputs": [],
   "source": [
    "def read_parquet_by_type(train_path: str):\n",
    "    # Lấy tất cả các file parquet trong thư mục\n",
    "    files = [os.path.join(train_path, f) for f in os.listdir(train_path) if f.endswith('.parquet')]\n",
    "    \n",
    "    # Phân loại các file theo loại tên\n",
    "    user_chunk_files = [file for file in files if 'user_chunk' in file]\n",
    "    purchase_history_chunk_files = [file for file in files if 'purchase_history_daily_chunk' in file]\n",
    "    item_chunk_files = [file for file in files if 'item_chunk' in file]\n",
    "    \n",
    "    # Đọc các file riêng biệt thành DataFrame\n",
    "    user_chunk_df = pl.concat([pl.read_parquet(file) for file in user_chunk_files]) if user_chunk_files else None\n",
    "    purchase_history_chunk_df = pl.concat([pl.read_parquet(file) for file in purchase_history_chunk_files]) if purchase_history_chunk_files else None\n",
    "    item_chunk_df = pl.concat([pl.read_parquet(file) for file in item_chunk_files]) if item_chunk_files else None\n",
    "    \n",
    "    # Trả về một dictionary chứa các DataFrame\n",
    "    return {\n",
    "        \"user_chunk\": user_chunk_df,\n",
    "        \"purchase_history_chunk\": purchase_history_chunk_df,\n",
    "        \"item_chunk\": item_chunk_df\n",
    "    }"
   ]
  },
  {
   "cell_type": "code",
   "execution_count": 7,
   "id": "b2126c08",
   "metadata": {},
   "outputs": [],
   "source": [
    "train_path = 'C:/Users/23521/Downloads/recommendation_dataset'\n",
    "dataframes = read_parquet_by_type(train_path)\n",
    "\n",
    "df_user = dataframes[\"user_chunk\"]\n",
    "df_purchase = dataframes[\"purchase_history_chunk\"]\n",
    "df_item = dataframes[\"item_chunk\"]"
   ]
  },
  {
   "cell_type": "code",
   "execution_count": 10,
   "id": "0ff9e5cc",
   "metadata": {},
   "outputs": [
    {
     "name": "stdout",
     "output_type": "stream",
     "text": [
      "User Chunk DataFrame:\n"
     ]
    },
    {
     "data": {
      "text/html": [
       "<div><style>\n",
       ".dataframe > thead > tr,\n",
       ".dataframe > tbody > tr {\n",
       "  text-align: right;\n",
       "  white-space: pre-wrap;\n",
       "}\n",
       "</style>\n",
       "<small>shape: (5, 8)</small><table border=\"1\" class=\"dataframe\"><thead><tr><th>customer_id</th><th>gender</th><th>location</th><th>province</th><th>region</th><th>membership</th><th>install_app</th><th>district</th></tr><tr><td>i32</td><td>str</td><td>i32</td><td>str</td><td>str</td><td>str</td><td>str</td><td>str</td></tr></thead><tbody><tr><td>14732</td><td>&quot;Nam&quot;</td><td>155</td><td>&quot;Hồ Chí Minh&quot;</td><td>&quot;Đông Nam Bộ&quot;</td><td>&quot;Standard&quot;</td><td>&quot;In-Store&quot;</td><td>&quot;7&quot;</td></tr><tr><td>15126</td><td>&quot;Nữ&quot;</td><td>300</td><td>&quot;Hồ Chí Minh&quot;</td><td>&quot;Đông Nam Bộ&quot;</td><td>&quot;Standard&quot;</td><td>&quot;In-Store&quot;</td><td>&quot;Thủ Đức&quot;</td></tr><tr><td>29718</td><td>&quot;Nữ&quot;</td><td>157</td><td>&quot;Bến Tre&quot;</td><td>&quot;Đồng bằng sông Cửu Long&quot;</td><td>&quot;Standard&quot;</td><td>&quot;In-Store&quot;</td><td>&quot;Bến Tre&quot;</td></tr><tr><td>30077</td><td>&quot;Nữ&quot;</td><td>53</td><td>&quot;Hồ Chí Minh&quot;</td><td>&quot;Đông Nam Bộ&quot;</td><td>&quot;Standard&quot;</td><td>&quot;In-Store&quot;</td><td>&quot;1&quot;</td></tr><tr><td>30085</td><td>&quot;Nữ&quot;</td><td>660</td><td>&quot;Hồ Chí Minh&quot;</td><td>&quot;Đông Nam Bộ&quot;</td><td>&quot;Standard&quot;</td><td>&quot;In-Store&quot;</td><td>&quot;Tân Phú&quot;</td></tr></tbody></table></div>"
      ],
      "text/plain": [
       "shape: (5, 8)\n",
       "┌─────────────┬────────┬──────────┬─────────────┬─────────────┬────────────┬────────────┬──────────┐\n",
       "│ customer_id ┆ gender ┆ location ┆ province    ┆ region      ┆ membership ┆ install_ap ┆ district │\n",
       "│ ---         ┆ ---    ┆ ---      ┆ ---         ┆ ---         ┆ ---        ┆ p          ┆ ---      │\n",
       "│ i32         ┆ str    ┆ i32      ┆ str         ┆ str         ┆ str        ┆ ---        ┆ str      │\n",
       "│             ┆        ┆          ┆             ┆             ┆            ┆ str        ┆          │\n",
       "╞═════════════╪════════╪══════════╪═════════════╪═════════════╪════════════╪════════════╪══════════╡\n",
       "│ 14732       ┆ Nam    ┆ 155      ┆ Hồ Chí Minh ┆ Đông Nam Bộ ┆ Standard   ┆ In-Store   ┆ 7        │\n",
       "│ 15126       ┆ Nữ     ┆ 300      ┆ Hồ Chí Minh ┆ Đông Nam Bộ ┆ Standard   ┆ In-Store   ┆ Thủ Đức  │\n",
       "│ 29718       ┆ Nữ     ┆ 157      ┆ Bến Tre     ┆ Đồng bằng   ┆ Standard   ┆ In-Store   ┆ Bến Tre  │\n",
       "│             ┆        ┆          ┆             ┆ sông Cửu    ┆            ┆            ┆          │\n",
       "│             ┆        ┆          ┆             ┆ Long        ┆            ┆            ┆          │\n",
       "│ 30077       ┆ Nữ     ┆ 53       ┆ Hồ Chí Minh ┆ Đông Nam Bộ ┆ Standard   ┆ In-Store   ┆ 1        │\n",
       "│ 30085       ┆ Nữ     ┆ 660      ┆ Hồ Chí Minh ┆ Đông Nam Bộ ┆ Standard   ┆ In-Store   ┆ Tân Phú  │\n",
       "└─────────────┴────────┴──────────┴─────────────┴─────────────┴────────────┴────────────┴──────────┘"
      ]
     },
     "execution_count": 10,
     "metadata": {},
     "output_type": "execute_result"
    }
   ],
   "source": [
    "cols_to_keep_user = [\n",
    "    'customer_id', 'gender', 'location', 'province',\n",
    "    'region', 'membership', 'install_app', 'district'\n",
    "]\n",
    "\n",
    "df_user = df_user.select(cols_to_keep_user)\n",
    "\n",
    "print(\"User Chunk DataFrame:\")\n",
    "df_user.head()"
   ]
  }
 ],
 "metadata": {
  "kernelspec": {
   "display_name": "Python 3",
   "language": "python",
   "name": "python3"
  },
  "language_info": {
   "codemirror_mode": {
    "name": "ipython",
    "version": 3
   },
   "file_extension": ".py",
   "mimetype": "text/x-python",
   "name": "python",
   "nbconvert_exporter": "python",
   "pygments_lexer": "ipython3",
   "version": "3.13.7"
  }
 },
 "nbformat": 4,
 "nbformat_minor": 5
}
