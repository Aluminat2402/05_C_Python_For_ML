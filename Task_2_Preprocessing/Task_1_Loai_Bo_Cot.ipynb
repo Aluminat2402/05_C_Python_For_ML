{
  "cells": [
    {
      "cell_type": "markdown",
      "id": "a966b847",
      "metadata": {},
      "source": [
        "# User chunk"
      ]
    },
    {
      "cell_type": "markdown",
      "id": "5e2447be",
      "metadata": {},
      "source": [
        "## Loại bỏ cột"
      ]
    },
    {
      "cell_type": "markdown",
      "id": "b5b9cb61",
      "metadata": {},
      "source": [
        "| Cột              | Giữ / Loại bỏ       | Lý do                                                                                                               |\n",
        "| ---------------- | ------------------- | ------------------------------------------------------------------------------------------------------------------- |\n",
        "| `customer_id`, `user_id`    | ✅ Giữ| các biến định danh, không mang ý nghĩa thống kê trong phân tích dữ liệu. Nhưng  có thể giữ lại để liên kết với purchase chunk và item chunk|\n",
        "| `gender`         | ✅ Giữ               | Có thể ảnh hưởng đến hành vi mua hàng                                                                               |\n",
        "| `location`       | ✅ Giữ               | Thể hiện mã khu vực – hữu ích trong phân tích địa lý                                                                |\n",
        "| `province`       | ✅ Giữ               | Dùng phân tích xu hướng theo địa phương                                                                             |\n",
        "| `region`         | ✅ Giữ               | Cung cấp thông tin phân cấp cao hơn, có thể hữu ích trong mô hình                                                   |\n",
        "| `membership`     | ✅ Giữ               | Ảnh hưởng lớn đến hành vi và giá trị khách hàng                                                                     |\n",
        "| `sync_status_id` | ❌ Loại bỏ           | Gần như toàn bộ giá trị Null, phần còn lại đều bằng 2 → không có giá trị phân biệt                                  |\n",
        "| `location_name`  | ❌ Loại bỏ           | Dữ liệu quá chi tiết, rời rạc và không khái quát được                                                               |\n",
        "| `install_app`    | ✅ Giữ               | Kênh cài đặt có thể ảnh hưởng đến tần suất mua hàng                                                                 |\n",
        "| `district`       | ⚙️ Giữ có điều kiện | Có thể giữ nếu cần phân tích chi tiết theo khu vực; nếu không, loại bỏ do trùng lặp thông tin địa lý với `province` |\n",
        "| `is_deleted`     | ❌ Loại bỏ           | Toàn bộ là `False`, không mang thông tin                                                                            |\n"
      ]
    },
    {
      "cell_type": "code",
      "execution_count": 1,
      "id": "1b2ad405",
      "metadata": {},
      "outputs": [],
      "source": [
        "import os\n",
        "import polars as pl\n",
        "import matplotlib.pyplot as plt\n",
        "import seaborn as sns\n",
        "import numpy as np"
      ]
    },
    {
      "cell_type": "code",
      "execution_count": 2,
      "id": "2d2a0933",
      "metadata": {},
      "outputs": [],
      "source": [
        "def read_parquet_by_type(train_path: str):\n",
        "    # Lấy tất cả các file parquet trong thư mục\n",
        "    files = [os.path.join(train_path, f) for f in os.listdir(train_path) if f.endswith('.parquet')]\n",
        "    \n",
        "    # Phân loại các file theo loại tên\n",
        "    user_chunk_files = [file for file in files if 'user_chunk' in file]\n",
        "    purchase_history_chunk_files = [file for file in files if 'purchase_history_daily_chunk' in file]\n",
        "    item_chunk_files = [file for file in files if 'item_chunk' in file]\n",
        "    \n",
        "    # Đọc các file riêng biệt thành DataFrame\n",
        "    user_chunk_df = pl.concat([pl.read_parquet(file) for file in user_chunk_files]) if user_chunk_files else None\n",
        "    purchase_history_chunk_df = pl.concat([pl.read_parquet(file) for file in purchase_history_chunk_files]) if purchase_history_chunk_files else None\n",
        "    item_chunk_df = pl.concat([pl.read_parquet(file) for file in item_chunk_files]) if item_chunk_files else None\n",
        "    \n",
        "    # Trả về một dictionary chứa các DataFrame\n",
        "    return {\n",
        "        \"user_chunk\": user_chunk_df,\n",
        "        \"purchase_history_chunk\": purchase_history_chunk_df,\n",
        "        \"item_chunk\": item_chunk_df\n",
        "    }"
      ]
    },
    {
      "cell_type": "code",
      "execution_count": 3,
      "id": "b2126c08",
      "metadata": {},
      "outputs": [],
      "source": [
        "train_path = 'E:/KHMT2023_CS_UIT/05_C_Python_For_ML/recommendation_dataset'\n",
        "dataframes = read_parquet_by_type(train_path)\n",
        "\n",
        "df_user = dataframes[\"user_chunk\"]\n",
        "df_purchase = dataframes[\"purchase_history_chunk\"]\n",
        "df_item = dataframes[\"item_chunk\"]"
      ]
    },
    {
      "cell_type": "markdown",
      "id": "349c3aea",
      "metadata": {},
      "source": [
        "# Purchase chunk"
      ]
    },
    {
      "cell_type": "markdown",
      "id": "2a437fcc",
      "metadata": {},
      "source": [
        "## Loại bỏ cột\n"
      ]
    },
    {
      "cell_type": "markdown",
      "id": "8740af88",
      "metadata": {},
      "source": [
        "| Cột            | Giữ / Loại bỏ | Lý do                                                                                                                                             |\n",
        "| -------------- | ------------- | ------------------------------------------------------------------------------------------------------------------------------------------------- |\n",
        "| `timestamp`    | ✅ Giữ         | Biểu diễn thời gian giao dịch, có thể phân tích xu hướng theo thời gian; cần chuyển từ UNIX timestamp sang dạng datetime để thuận tiện phân tích. |\n",
        "| `user_id`      | ✅ Giữ         | Biến định danh người dùng, cần để liên kết với bảng `User Chunk`; không có ý nghĩa thống kê độc lập nhưng quan trọng cho join dữ liệu.            |\n",
        "| `item_id`      | ✅ Giữ         | Dùng để xác định sản phẩm và phân tích tần suất, mức độ phổ biến của mặt hàng.                                                                    |\n",
        "| `event_type`   | ❌ Loại bỏ     | Toàn bộ dữ liệu chỉ có giá trị “Purchase” → không mang thông tin phân biệt.                                                                       |\n",
        "| `event_value`  | ❌ Loại bỏ     | Tương quan hoàn hảo với `quantity` (r = 1.0) → gây multicollinearity, nên giữ `quantity`.                                                         |\n",
        "| `price`        | ✅ Giữ         | Biến quan trọng để phân tích doanh thu, hành vi giá và khuyến mãi; cần xử lý outlier (trimming hoặc winsorizing).                                 |\n",
        "| `quantity`     | ✅ Giữ         | Thể hiện số lượng mua; cần xử lý outlier (giá trị quá lớn có thể là đơn hàng sỉ hoặc lỗi).                                                        |\n",
        "| `date_key`     | ❌ Loại bỏ     | Tương quan gần tuyệt đối với `timestamp` (r ≈ 0.998) → dư thừa thông tin thời gian.                                                               |\n",
        "| `customer_id`  | ✅ Giữ         | Biến định danh khách hàng, cần để liên kết với bảng `User Chunk`.                                                                                 |\n",
        "| `created_date` | ✅ Giữ         | Thời điểm tạo đơn hàng, có thể khác thời điểm mua (timestamp); hữu ích trong phân tích hành vi và vận hành.                                       |\n",
        "| `payment`      | ✅ Giữ         | Thông tin phương thức thanh toán (cash, transfer, v.v.) → quan trọng trong phân tích kênh thanh toán và hành vi người dùng.                       |\n",
        "| `location`     | ✅ Giữ         | Cho phép phân tích xu hướng mua hàng theo khu vực; không có outlier.                                                                              |\n",
        "| `discount`     | ✅ Giữ         | Thể hiện mức chiết khấu; cần chuẩn hóa hoặc winsorize do phân bố lệch và nhiều outlier.                                                           |\n",
        "| `channel`      | ✅ Giữ         | Phân biệt kênh bán hàng (In-Store, Chat, CRM, v.v.), có mối liên hệ mạnh với `payment` → hữu ích trong phân tích hành vi.                         |\n",
        "| `is_deleted`   | ❌ Loại bỏ     | Toàn bộ giá trị là `False` → không mang thông tin phân biệt.                                                                                      |\n"
      ]
    },
    {
      "cell_type": "markdown",
      "id": "6d42254e",
      "metadata": {},
      "source": [
        "# Item chunk"
      ]
    },
    {
      "cell_type": "markdown",
      "id": "33035d3d",
      "metadata": {},
      "source": [
        "## Loại bỏ cột"
      ]
    },
    {
      "cell_type": "markdown",
      "id": "bf90eb5e",
      "metadata": {},
      "source": [
        "| Cột                  | Giữ / Loại bỏ       | Lý do                                                                                                                                                    |\n",
        "| -------------------- | ------------------- | -------------------------------------------------------------------------------------------------------------------------------------------------------- |\n",
        "| `item_id`            | ❌ Loại bỏ           | Mỗi giá trị đều duy nhất, chỉ mang tính định danh, không cung cấp thông tin thống kê; giữ lại chỉ khi cần join với bảng khác (`purchase`).               |\n",
        "| `is_deleted`         | ❌ Loại bỏ           | Tất cả giá trị đều là `False` → không mang thông tin phân biệt.                                                                                          |\n",
        "| `created_date`       | ✅ Giữ               | Cho biết thời điểm tạo sản phẩm, có thể dùng phân tích vòng đời sản phẩm, xác định hàng cũ / hàng mới.                                                   |\n",
        "| `creation_timestamp` | ✅ Giữ               | Biểu diễn thời gian tạo ở dạng timestamp, có thể dùng phân tích xu hướng sản phẩm theo thời gian; nên chuyển sang dạng datetime để trực quan hóa dễ hơn. |\n",
        "| `price`              | ✅ Giữ               | Biến chính trong phân tích lợi nhuận và định giá sản phẩm; có nhiều outlier nên cần trimming hoặc winsorizing trước khi phân tích.                       |\n",
        "| `gp` (gross profit)  | ✅ Giữ               | Thể hiện lợi nhuận gộp, tương quan cao với `price` (r = 0.8867); có ý nghĩa kinh doanh mạnh, dùng để phân tích hiệu quả từng nhóm sản phẩm.              |\n",
        "| `weight`             | ⚙️ Giữ có điều kiện | Có nhiều giá trị 0 hoặc “Không xác định”; có thể giữ lại nếu muốn phân tích theo khối lượng hoặc vận chuyển, nhưng cần chuẩn hóa đơn vị đo.              |\n",
        "| `category_l1`        | ✅ Giữ               | Danh mục cấp 1 – hữu ích cho phân tích xu hướng ngành hàng lớn, nhưng cần xử lý mất cân đối khi huấn luyện mô hình.                                      |\n",
        "| `category_l2`        | ✅ Giữ               | Danh mục cấp 2 – thể hiện rõ sự khác biệt trong khả năng tiêu thụ sản phẩm (`sale_status` khác nhau đáng kể giữa các nhóm).                              |\n",
        "| `category_l3`        | ✅ Giữ               | Danh mục cấp 3 – phản ánh phân khúc chi tiết của sản phẩm; cần gộp nhóm các nhãn hiếm (rare categories) để giảm nhiễu khi mã hóa.                        |\n",
        "| `brand`              | ⚙️ Giữ có điều kiện | Khoảng 70% giá trị bị thiếu hoặc “Không xác định”; có thể giữ nếu được làm sạch và gộp nhóm “Unknown”, nếu không thì nên loại bỏ do thiếu dữ liệu.       |\n",
        "| `manufacturer`       | ❌ Loại bỏ           | Hơn 94% giá trị “Không xác định” → không mang thông tin hữu ích.                                                                                         |\n",
        "| `gender_target`      | ⚙️ Giữ có điều kiện | 66% “Không xác định”, phần còn lại có thể hữu ích trong phân tích hành vi theo giới tính nếu được làm sạch.                                            |\n",
        "| `age_group`          | ✅ Giữ               | Cung cấp thông tin độ tuổi mục tiêu (dù mất cân đối nhưng vẫn hữu ích để mô tả sản phẩm).                                                                |\n",
        "| `sale_status`        | ✅ Giữ               | Phản ánh tình trạng bán (bán được / không bán được); có mối liên hệ rõ với `category_l2`, hữu ích cho phân tích sức tiêu thụ.                            |\n",
        "| `p_id`               | ✅ Giữ               | Liên quan đến thế hệ mã hàng; giúp nhận diện vòng đời sản phẩm, đặc biệt trong phân tích hàng lỗi thời.                                                  |\n"
      ]
    }
  ],
  "metadata": {
    "kernelspec": {
      "display_name": "Python 3",
      "language": "python",
      "name": "python3"
    },
    "language_info": {
      "codemirror_mode": {
        "name": "ipython",
        "version": 3
      },
      "file_extension": ".py",
      "mimetype": "text/x-python",
      "name": "python",
      "nbconvert_exporter": "python",
      "pygments_lexer": "ipython3",
      "version": "3.11.8"
    }
  },
  "nbformat": 4,
  "nbformat_minor": 5
}
