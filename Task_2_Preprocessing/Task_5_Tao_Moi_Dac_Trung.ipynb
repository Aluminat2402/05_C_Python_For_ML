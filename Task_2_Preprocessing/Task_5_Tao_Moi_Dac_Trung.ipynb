{
 "cells": [
  {
   "cell_type": "code",
   "execution_count": 108,
   "id": "0ea33034",
   "metadata": {},
   "outputs": [],
   "source": [
    "import os\n",
    "import polars as pl\n",
    "import matplotlib.pyplot as plt\n",
    "import seaborn as sns\n",
    "import numpy as np"
   ]
  },
  {
   "cell_type": "markdown",
   "id": "50994569",
   "metadata": {},
   "source": [
    "# Đọc dữ liệu"
   ]
  },
  {
   "cell_type": "code",
   "execution_count": 109,
   "id": "4f88bed9",
   "metadata": {},
   "outputs": [],
   "source": [
    "def read_parquet_by_type(train_path: str):\n",
    "    # Lấy tất cả các file parquet trong thư mục\n",
    "    files = [os.path.join(train_path, f) for f in os.listdir(train_path) if f.endswith('.parquet')]\n",
    "    \n",
    "    # Phân loại các file theo loại tên\n",
    "    user_chunk_files = [file for file in files if 'user_chunk' in file]\n",
    "    purchase_history_chunk_files = [file for file in files if 'purchase_history_daily_chunk' in file]\n",
    "    item_chunk_files = [file for file in files if 'item_chunk' in file]\n",
    "    \n",
    "    # Đọc các file riêng biệt thành DataFrame\n",
    "    user_chunk_df = pl.concat([pl.read_parquet(file) for file in user_chunk_files]) if user_chunk_files else None\n",
    "    purchase_history_chunk_df = pl.concat([pl.read_parquet(file) for file in purchase_history_chunk_files]) if purchase_history_chunk_files else None\n",
    "    item_chunk_df = pl.concat([pl.read_parquet(file) for file in item_chunk_files]) if item_chunk_files else None\n",
    "    \n",
    "    # Trả về một dictionary chứa các DataFrame\n",
    "    return {\n",
    "        \"user_chunk\": user_chunk_df,\n",
    "        \"purchase_history_chunk\": purchase_history_chunk_df,\n",
    "        \"item_chunk\": item_chunk_df\n",
    "    }"
   ]
  },
  {
   "cell_type": "code",
   "execution_count": 110,
   "id": "b2ae0266",
   "metadata": {},
   "outputs": [],
   "source": [
    "train_path = 'D:/2025-2026/HK1-2025-2026/CS116_Python_for_ML/recommendation_dataset'\n",
    "dataframes = read_parquet_by_type(train_path)"
   ]
  },
  {
   "cell_type": "code",
   "execution_count": 111,
   "id": "bd54fe6e",
   "metadata": {},
   "outputs": [],
   "source": [
    "df_user = dataframes[\"user_chunk\"]\n",
    "df_purchase = dataframes[\"purchase_history_chunk\"]\n",
    "df_item = dataframes[\"item_chunk\"]"
   ]
  },
  {
   "cell_type": "markdown",
   "id": "32ad7e22",
   "metadata": {},
   "source": [
    "# Thêm Đặc Trưng Mới (Feature Engineering)"
   ]
  },
  {
   "cell_type": "markdown",
   "id": "25734bbc",
   "metadata": {},
   "source": [
    "Trong bài toán dự đoán mua hàng, việc tạo ra các đặc trưng mới (Feature Engineering) từ dữ liệu thô đóng vai trò then chốt, quyết định phần lớn đến hiệu quả của mô hình. Dữ liệu ban đầu, đặc biệt là các cột mô tả sản phẩm như description, category, category_l1, l2, và l3, chứa đựng thông tin vô cùng giá trị nhưng lại ở dạng văn bản phi cấu trúc, khiến mô hình học máy khó có thể khai thác trực tiếp.\n",
    "\n",
    "Nhận thấy rằng hành vi mua sắm của khách hàng thường phản ánh một nhu cầu hoặc một giai đoạn cụ thể trong cuộc sống (ví dụ: đang chuẩn bị sinh, có con trong độ tuổi ăn dặm...), nhóm đã quyết định xây dựng một bộ đặc trưng mới nhằm \"phiên dịch\" thông tin sản phẩm thành các nhóm nhu cầu của khách hàng.\n",
    "\n",
    "Phương pháp thực hiện của chúng tôi dựa trên kỹ thuật trích xuất từ khóa (keyword extraction). Quy trình bao gồm việc phân tích sâu vào ngữ nghĩa của các cột mô tả để định nghĩa các nhóm khách hàng tiêu biểu (ví dụ: \"Mẹ Bầu & Sau Sinh\", \"Phụ huynh Sơ sinh\", \"Người mua sắm cho Gia đình\"...). Tương ứng với mỗi nhóm, một bộ từ khóa (keyword dictionary) đặc trưng đã được xây dựng. Bằng cách quét qua dữ liệu mô tả của từng sản phẩm, chúng tôi tiến hành tìm kiếm và gán sản phẩm đó vào nhóm khách hàng phù hợp nhất dựa trên sự hiện diện của các từ khóa này.\n",
    "\n",
    "Kết quả của quá trình này là một đặc trưng phân loại (categorical feature) mới, giúp mô hình không chỉ \"nhìn\" thấy một sản phẩm là \"sữa bột\" mà còn \"hiểu\" rằng sản phẩm này phục vụ cho nhóm \"Phụ huynh có con Sơ sinh\". Đặc trưng này hứa hẹn sẽ làm tăng đáng kể độ chính xác và khả năng diễn giải cho mô hình dự đoán của chúng tôi."
   ]
  },
  {
   "cell_type": "markdown",
   "id": "1789fefd",
   "metadata": {},
   "source": [
    "## In ra các giá trị unique trong các cột"
   ]
  },
  {
   "cell_type": "code",
   "execution_count": 112,
   "id": "cf35dd5b",
   "metadata": {},
   "outputs": [],
   "source": [
    "#print(df_item['category'].unique().to_list())"
   ]
  },
  {
   "cell_type": "code",
   "execution_count": 113,
   "id": "aa2862f8",
   "metadata": {},
   "outputs": [],
   "source": [
    "#print(df_item['category_l1'].unique().to_list())"
   ]
  },
  {
   "cell_type": "code",
   "execution_count": 114,
   "id": "878dc166",
   "metadata": {},
   "outputs": [],
   "source": [
    "#print(df_item['category_l2'].unique().to_list())"
   ]
  },
  {
   "cell_type": "code",
   "execution_count": 115,
   "id": "f1b5814c",
   "metadata": {},
   "outputs": [],
   "source": [
    "#print(df_item['category_l3'].unique().to_list())"
   ]
  },
  {
   "cell_type": "markdown",
   "id": "20ef6cfa",
   "metadata": {},
   "source": [
    "## Xử lí các giá trị không xác định"
   ]
  },
  {
   "cell_type": "code",
   "execution_count": 116,
   "id": "dbb1468e",
   "metadata": {},
   "outputs": [],
   "source": [
    "# Định nghĩa các từ khóa tìm kiếm cho gender_target\n",
    "object_target_keywords = {\n",
    "    # --- CÁC NHÓM THEO ĐỐI TƯỢNG SỬ DỤNG ---\n",
    "    \"Bé Gái\": [\n",
    "        'bé gái', 'girl', 'đầm', 'váy', 'cài', 'kẹp', 'cột'\n",
    "    ],\n",
    "    \"Bé Trai\": [\n",
    "        'bé trai', 'boy'\n",
    "    ],\n",
    "    \"Sơ sinh\": [\n",
    "        'sơ sinh', 'newborn', 'ss', '0-1y'\n",
    "    ],\n",
    "    \"Unisex\": [\n",
    "        'unisex', 'tã', 'bỉm', 'bình sữa', 'núm ty', 'xe đẩy', 'địu'\n",
    "    ],\n",
    "    \"Nữ\": [\n",
    "        'cho mẹ', 'mẹ bầu', 'sau sinh', 'băng vệ sinh', 'bvs', 'dưỡng da', 'collagen', 'lợi sữa'\n",
    "    ],\n",
    "    \"Nam\": [\n",
    "        'nam giới', 'men', 'for men'\n",
    "    ],\n",
    "    \"Người lớn\": [\n",
    "        'gia đình', 'người lớn', 'cho cả nhà', 'khẩu trang người lớn', 'giặt xả', 'nước lau sàn'\n",
    "    ],\n",
    "\n",
    "    # --- CÁC NHÓM THEO NHU CẦU/MỤC ĐÍCH SỬ DỤDNG ---\n",
    "    \"Dinh dưỡng & Cho ăn\": [\n",
    "        'sữa', 'sữa bột', 'sữa tươi', 'sữa chua', 'váng sữa', 'sữa non', 'sữa hạt', 'sữa đặc trị',\n",
    "        'ăn dặm', 'bột ăn dặm', 'cháo ăn dặm', 'cháo tươi', 'bánh gạo', 'snack ăn dặm',\n",
    "        'trái cây nghiền', 'rau củ nghiền', 'hạt nêm', 'dashi', 'ghế ngồi ăn', 'yếm'\n",
    "    ],\n",
    "    \"Sức khỏe & An toàn\": [\n",
    "        'tpcn', 'vitamin', 'dha', 'omega-3', 'canxi', 'sắt', 'kẽm',\n",
    "        'men vi sinh', 'men tiêu hóa', 'tăng cường sức đề kháng',\n",
    "        'nước muối sinh lý', 'hút mũi', 'gạc', 'rơ lưỡi', 'kem chống hăm', 'dầu tràm', 'hạ sốt'\n",
    "    ],\n",
    "    \"Đồ chơi & Phát triển\": [\n",
    "        'đồ chơi', 'gặm nướu', 'xúc xắc', 'đồ chơi nước', 'đồ chơi nhồi bông',\n",
    "        'phát triển giác quan', 'học tập và phát triển tư duy',\n",
    "        'vận động', 'xe tập đi', 'thảm chơi', 'kệ chữ a', 'sách'\n",
    "    ]\n",
    "}"
   ]
  },
  {
   "cell_type": "code",
   "execution_count": 117,
   "id": "2c1f7cfa",
   "metadata": {},
   "outputs": [
    {
     "name": "stdout",
     "output_type": "stream",
     "text": [
      "shape: (5, 2)\n",
      "┌────────────────┬───────┐\n",
      "│ gender_target  ┆ count │\n",
      "│ ---            ┆ ---   │\n",
      "│ str            ┆ u32   │\n",
      "╞════════════════╪═══════╡\n",
      "│ Unisex         ┆ 6     │\n",
      "│ Bé Trai        ┆ 3318  │\n",
      "│ Không xác định ┆ 18038 │\n",
      "│ Sơ sinh        ┆ 1862  │\n",
      "│ Bé Gái         ┆ 4108  │\n",
      "└────────────────┴───────┘\n"
     ]
    }
   ],
   "source": [
    "# Trước khi xử lí \n",
    "print(df_item['gender_target'].value_counts())"
   ]
  },
  {
   "cell_type": "code",
   "execution_count": 118,
   "id": "86ad7d50",
   "metadata": {},
   "outputs": [
    {
     "name": "stdout",
     "output_type": "stream",
     "text": [
      "shape: (27_332, 34)\n",
      "┌────────┬────────────┬────────────┬───────────┬───┬───────────┬───────────┬───────────┬───────────┐\n",
      "│ p_id   ┆ item_id    ┆ price      ┆ category_ ┆ … ┆ volume    ┆ material  ┆ sale_stat ┆ descripti │\n",
      "│ ---    ┆ ---        ┆ ---        ┆ l1_id     ┆   ┆ ---       ┆ ---       ┆ us        ┆ on_new    │\n",
      "│ i32    ┆ str        ┆ decimal[38 ┆ ---       ┆   ┆ str       ┆ str       ┆ ---       ┆ ---       │\n",
      "│        ┆            ┆ ,4]        ┆ i32       ┆   ┆           ┆           ┆ i32       ┆ str       │\n",
      "╞════════╪════════════╪════════════╪═══════════╪═══╪═══════════╪═══════════╪═══════════╪═══════════╡\n",
      "│ 17065  ┆ 0502020000 ┆ 99000.0000 ┆ 1         ┆ … ┆ Không xác ┆ Không xác ┆ 0         ┆ Chi tiết  │\n",
      "│        ┆ 004        ┆            ┆           ┆   ┆ định      ┆ định      ┆           ┆ sản phẩm  │\n",
      "│        ┆            ┆            ┆           ┆   ┆           ┆           ┆           ┆ …         │\n",
      "│ 72370  ┆ 0010290040 ┆ 69000.0000 ┆ 3292      ┆ … ┆ Không xác ┆ Không xác ┆ 0         ┆ Không xác │\n",
      "│        ┆ 150        ┆            ┆           ┆   ┆ định      ┆ định      ┆           ┆ định      │\n",
      "│ 31154  ┆ 0008010000 ┆ 45000.0000 ┆ 351       ┆ … ┆ Không xác ┆ Không xác ┆ 0         ┆ Chi tiết  │\n",
      "│        ┆ 015        ┆            ┆           ┆   ┆ định      ┆ định      ┆           ┆ sản phẩm  │\n",
      "│        ┆            ┆            ┆           ┆   ┆           ┆           ┆           ┆ …         │\n",
      "│ 46123  ┆ 0020010000 ┆ 401000.000 ┆ 2222      ┆ … ┆ Không xác ┆ Giấy, bột ┆ 0         ┆ Không xác │\n",
      "│        ┆ 094        ┆ 0          ┆           ┆   ┆ định      ┆ giấy, vải ┆           ┆ định      │\n",
      "│        ┆            ┆            ┆           ┆   ┆           ┆ không     ┆           ┆           │\n",
      "│        ┆            ┆            ┆           ┆   ┆           ┆ dệt,…     ┆           ┆           │\n",
      "│ 46127  ┆ 0020010000 ┆ 401000.000 ┆ 2222      ┆ … ┆ Không xác ┆ Giấy, bột ┆ 0         ┆ Không xác │\n",
      "│        ┆ 098        ┆ 0          ┆           ┆   ┆ định      ┆ giấy, vải ┆           ┆ định      │\n",
      "│        ┆            ┆            ┆           ┆   ┆           ┆ không     ┆           ┆           │\n",
      "│        ┆            ┆            ┆           ┆   ┆           ┆ dệt,…     ┆           ┆           │\n",
      "│ …      ┆ …          ┆ …          ┆ …         ┆ … ┆ …         ┆ …         ┆ …         ┆ …         │\n",
      "│ 157065 ┆ 3389000000 ┆ 129000.000 ┆ 3292      ┆ … ┆ Không xác ┆ Không xác ┆ 1         ┆ Không xác │\n",
      "│        ┆ 238        ┆ 0          ┆           ┆   ┆ định      ┆ định      ┆           ┆ định      │\n",
      "│ 157039 ┆ 3389000000 ┆ 129000.000 ┆ 3292      ┆ … ┆ Không xác ┆ Không xác ┆ 1         ┆ Không xác │\n",
      "│        ┆ 212        ┆ 0          ┆           ┆   ┆ định      ┆ định      ┆           ┆ định      │\n",
      "│ 157040 ┆ 3389000000 ┆ 129000.000 ┆ 3292      ┆ … ┆ Không xác ┆ Không xác ┆ 1         ┆ Không xác │\n",
      "│        ┆ 213        ┆ 0          ┆           ┆   ┆ định      ┆ định      ┆           ┆ định      │\n",
      "│ 157824 ┆ 6996000000 ┆ 129000.000 ┆ 3292      ┆ … ┆ Không xác ┆ 95% modal ┆ 1         ┆ Không xác │\n",
      "│        ┆ 174        ┆ 0          ┆           ┆   ┆ định      ┆ 5%        ┆           ┆ định      │\n",
      "│        ┆            ┆            ┆           ┆   ┆           ┆ spandex   ┆           ┆           │\n",
      "│ 162379 ┆ 5999000000 ┆ 745000.000 ┆ 1         ┆ … ┆ Không xác ┆ Không xác ┆ 1         ┆ Chi tiết  │\n",
      "│        ┆ 001        ┆ 0          ┆           ┆   ┆ định      ┆ định      ┆           ┆ sản       │\n",
      "│        ┆            ┆            ┆           ┆   ┆           ┆           ┆           ┆ phẩmTên   │\n",
      "│        ┆            ┆            ┆           ┆   ┆           ┆           ┆           ┆ sản       │\n",
      "│        ┆            ┆            ┆           ┆   ┆           ┆           ┆           ┆ phẩm:…    │\n",
      "└────────┴────────────┴────────────┴───────────┴───┴───────────┴───────────┴───────────┴───────────┘\n"
     ]
    }
   ],
   "source": [
    "import polars as pl\n",
    "\n",
    "\n",
    "def fill_gender_target_legacy_6_cols(df: pl.DataFrame) -> pl.DataFrame:\n",
    "    \"\"\"\n",
    "    Điền giá trị cho 'gender_target' bằng cách duyệt qua 6 cột,\n",
    "    vẫn giữ cấu trúc vòng lặp for và cập nhật df tuần tự.\n",
    "    \"\"\"\n",
    "    condition_is_unknown = pl.col('gender_target') == 'Không xác định'\n",
    "\n",
    "    for gender, keywords in object_target_keywords.items():\n",
    "        regex_pattern = '|'.join(keywords)\n",
    "        cond_des = pl.col('description').str.contains(regex_pattern)\n",
    "        cond_des_new = pl.col('description_new').str.contains(regex_pattern)\n",
    "        cond_category = pl.col('category').str.contains(regex_pattern)\n",
    "        cond_category_l1 = pl.col('category_l1').str.contains(regex_pattern)\n",
    "        cond_l2 = pl.col('category_l2').str.contains(regex_pattern)\n",
    "        cond_l3 = pl.col('category_l3').str.contains(regex_pattern)\n",
    "\n",
    "        df = df.with_columns(\n",
    "            pl.when(condition_is_unknown)\n",
    "            .then(\n",
    "                # ===== PHẦN SỬA LỖI BẮT ĐẦU TỪ ĐÂY =====\n",
    "                pl.when(cond_des).then(pl.lit(gender))\n",
    "                .otherwise(\n",
    "                    pl.when(cond_des_new).then(pl.lit(gender))\n",
    "                    .otherwise(\n",
    "                        pl.when(cond_category).then(pl.lit(gender))\n",
    "                        .otherwise(\n",
    "                            pl.when(cond_category_l1).then(pl.lit(gender))\n",
    "                            .otherwise(\n",
    "                                pl.when(cond_l2).then(pl.lit(gender))\n",
    "                                .otherwise(\n",
    "                                    pl.when(cond_l3).then(pl.lit(gender))\n",
    "                                    .otherwise(pl.lit(\"Không xác định\"))\n",
    "                                )\n",
    "                            )\n",
    "                        )\n",
    "                    )\n",
    "                )\n",
    "                # ===== KẾT THÚC PHẦN SỬA LỖI =====\n",
    "            )\n",
    "            .otherwise(pl.col('gender_target'))\n",
    "            .alias('gender_target')\n",
    "        )\n",
    "    \n",
    "    return df\n",
    "\n",
    "\n",
    "\n",
    "# Áp dụng hàm\n",
    "df_item = fill_gender_target_legacy_6_cols(df_item)\n",
    "print(df_item)"
   ]
  },
  {
   "cell_type": "code",
   "execution_count": 119,
   "id": "6baabd76",
   "metadata": {},
   "outputs": [
    {
     "name": "stdout",
     "output_type": "stream",
     "text": [
      "shape: (11, 2)\n",
      "┌──────────────────────┬───────┐\n",
      "│ object_target        ┆ count │\n",
      "│ ---                  ┆ ---   │\n",
      "│ str                  ┆ u32   │\n",
      "╞══════════════════════╪═══════╡\n",
      "│ Nam                  ┆ 334   │\n",
      "│ Unisex               ┆ 1145  │\n",
      "│ Dinh dưỡng & Cho ăn  ┆ 861   │\n",
      "│ Nữ                   ┆ 391   │\n",
      "│ Sơ sinh              ┆ 5599  │\n",
      "│ …                    ┆ …     │\n",
      "│ Sức khỏe & An toàn   ┆ 144   │\n",
      "│ Người lớn            ┆ 2703  │\n",
      "│ Không xác định       ┆ 3739  │\n",
      "│ Đồ chơi & Phát triển ┆ 612   │\n",
      "│ Bé Trai              ┆ 4217  │\n",
      "└──────────────────────┴───────┘\n"
     ]
    }
   ],
   "source": [
    "df_item = df_item.rename({'gender_target': 'object_target'})\n",
    "print(df_item['object_target'].value_counts())"
   ]
  },
  {
   "cell_type": "code",
   "execution_count": 122,
   "id": "01ded4f1",
   "metadata": {},
   "outputs": [
    {
     "data": {
      "text/html": [
       "<div><style>\n",
       ".dataframe > thead > tr,\n",
       ".dataframe > tbody > tr {\n",
       "  text-align: right;\n",
       "  white-space: pre-wrap;\n",
       "}\n",
       "</style>\n",
       "<small>shape: (5, 9)</small><table border=\"1\" class=\"dataframe\"><thead><tr><th>p_id</th><th>category</th><th>category_l1</th><th>created_date</th><th>creation_timestamp</th><th>price</th><th>gp</th><th>object_target</th><th>sale_status</th></tr><tr><td>i32</td><td>str</td><td>str</td><td>datetime[μs]</td><td>i64</td><td>decimal[38,4]</td><td>decimal[38,4]</td><td>str</td><td>i32</td></tr></thead><tbody><tr><td>17065</td><td>&quot;Núm ty Dr Brown&quot;</td><td>&quot;Babycare&quot;</td><td>2012-04-04 09:25:44.240</td><td>1333531544</td><td>99000.0000</td><td>36828.0000</td><td>&quot;Unisex&quot;</td><td>0</td></tr><tr><td>72370</td><td>&quot;Bộ quần áo bé gái&quot;</td><td>&quot;Thời trang&quot;</td><td>2017-08-18 08:50:50.713</td><td>1503046250</td><td>69000.0000</td><td>0.0000</td><td>&quot;Bé Gái&quot;</td><td>0</td></tr><tr><td>31154</td><td>&quot;Gặm nướu khác&quot;</td><td>&quot;Đồ chơi &amp; Sách&quot;</td><td>2013-01-18 09:33:04.260</td><td>1358501584</td><td>45000.0000</td><td>14490.0000</td><td>&quot;Đồ chơi &amp; Phát triển&quot;</td><td>0</td></tr><tr><td>46123</td><td>&quot;Merries_Sơ Sinh&quot;</td><td>&quot;Tã&quot;</td><td>2014-05-14 10:07:19.603</td><td>1400062039</td><td>401000.0000</td><td>59749.0000</td><td>&quot;Unisex&quot;</td><td>0</td></tr><tr><td>46127</td><td>&quot;Merries_Tã Quần&quot;</td><td>&quot;Tã&quot;</td><td>2014-05-14 10:07:20.370</td><td>1400062040</td><td>401000.0000</td><td>65764.0000</td><td>&quot;Unisex&quot;</td><td>0</td></tr></tbody></table></div>"
      ],
      "text/plain": [
       "shape: (5, 9)\n",
       "┌───────┬────────────┬────────────┬────────────┬───┬───────────┬───────────┬───────────┬───────────┐\n",
       "│ p_id  ┆ category   ┆ category_l ┆ created_da ┆ … ┆ price     ┆ gp        ┆ object_ta ┆ sale_stat │\n",
       "│ ---   ┆ ---        ┆ 1          ┆ te         ┆   ┆ ---       ┆ ---       ┆ rget      ┆ us        │\n",
       "│ i32   ┆ str        ┆ ---        ┆ ---        ┆   ┆ decimal[3 ┆ decimal[3 ┆ ---       ┆ ---       │\n",
       "│       ┆            ┆ str        ┆ datetime[μ ┆   ┆ 8,4]      ┆ 8,4]      ┆ str       ┆ i32       │\n",
       "│       ┆            ┆            ┆ s]         ┆   ┆           ┆           ┆           ┆           │\n",
       "╞═══════╪════════════╪════════════╪════════════╪═══╪═══════════╪═══════════╪═══════════╪═══════════╡\n",
       "│ 17065 ┆ Núm ty Dr  ┆ Babycare   ┆ 2012-04-04 ┆ … ┆ 99000.000 ┆ 36828.000 ┆ Unisex    ┆ 0         │\n",
       "│       ┆ Brown      ┆            ┆ 09:25:44.2 ┆   ┆ 0         ┆ 0         ┆           ┆           │\n",
       "│       ┆            ┆            ┆ 40         ┆   ┆           ┆           ┆           ┆           │\n",
       "│ 72370 ┆ Bộ quần áo ┆ Thời trang ┆ 2017-08-18 ┆ … ┆ 69000.000 ┆ 0.0000    ┆ Bé Gái    ┆ 0         │\n",
       "│       ┆ bé gái     ┆            ┆ 08:50:50.7 ┆   ┆ 0         ┆           ┆           ┆           │\n",
       "│       ┆            ┆            ┆ 13         ┆   ┆           ┆           ┆           ┆           │\n",
       "│ 31154 ┆ Gặm nướu   ┆ Đồ chơi &  ┆ 2013-01-18 ┆ … ┆ 45000.000 ┆ 14490.000 ┆ Đồ chơi & ┆ 0         │\n",
       "│       ┆ khác       ┆ Sách       ┆ 09:33:04.2 ┆   ┆ 0         ┆ 0         ┆ Phát      ┆           │\n",
       "│       ┆            ┆            ┆ 60         ┆   ┆           ┆           ┆ triển     ┆           │\n",
       "│ 46123 ┆ Merries_Sơ ┆ Tã         ┆ 2014-05-14 ┆ … ┆ 401000.00 ┆ 59749.000 ┆ Unisex    ┆ 0         │\n",
       "│       ┆ Sinh       ┆            ┆ 10:07:19.6 ┆   ┆ 00        ┆ 0         ┆           ┆           │\n",
       "│       ┆            ┆            ┆ 03         ┆   ┆           ┆           ┆           ┆           │\n",
       "│ 46127 ┆ Merries_Tã ┆ Tã         ┆ 2014-05-14 ┆ … ┆ 401000.00 ┆ 65764.000 ┆ Unisex    ┆ 0         │\n",
       "│       ┆ Quần       ┆            ┆ 10:07:20.3 ┆   ┆ 00        ┆ 0         ┆           ┆           │\n",
       "│       ┆            ┆            ┆ 70         ┆   ┆           ┆           ┆           ┆           │\n",
       "└───────┴────────────┴────────────┴────────────┴───┴───────────┴───────────┴───────────┴───────────┘"
      ]
     },
     "execution_count": 122,
     "metadata": {},
     "output_type": "execute_result"
    }
   ],
   "source": [
    "# Chỉ lấy các cột nên giữ lại ở task4\n",
    "df_item = df_item.select([\n",
    "    pl.col(\"p_id\"), \n",
    "    pl.col(\"category\"),\n",
    "    pl.col(\"category_l1\"),\n",
    "    pl.col(\"created_date\"),\n",
    "    pl.col(\"creation_timestamp\"),\n",
    "    pl.col(\"price\"),\n",
    "    pl.col(\"gp\"),\n",
    "    pl.col(\"object_target\"),\n",
    "    pl.col(\"sale_status\")\n",
    "])\n",
    "\n",
    "df_item.head()"
   ]
  }
 ],
 "metadata": {
  "kernelspec": {
   "display_name": "Python 3",
   "language": "python",
   "name": "python3"
  },
  "language_info": {
   "codemirror_mode": {
    "name": "ipython",
    "version": 3
   },
   "file_extension": ".py",
   "mimetype": "text/x-python",
   "name": "python",
   "nbconvert_exporter": "python",
   "pygments_lexer": "ipython3",
   "version": "3.13.7"
  }
 },
 "nbformat": 4,
 "nbformat_minor": 5
}
